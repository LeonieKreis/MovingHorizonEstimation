{
 "cells": [
  {
   "cell_type": "code",
   "execution_count": 1,
   "id": "1fc7925f-7bb6-4ac2-b20d-06a0ba17daba",
   "metadata": {},
   "outputs": [],
   "source": [
    "import ipywidgets as widgets\n",
    "from casadi import *\n",
    "import numpy as np\n",
    "import matplotlib.pyplot as plt\n",
    "import time\n",
    "\n",
    "\n",
    "from matplotlib import rc \n",
    "import matplotlib.animation as animation\n",
    "from collections import deque\n",
    "from IPython.display import HTML"
   ]
  },
  {
   "cell_type": "code",
   "execution_count": 2,
   "id": "ab91f173-3ee5-4273-9eaf-0e65248307ff",
   "metadata": {},
   "outputs": [],
   "source": [
    "from functions_v2 import MS_functions_MHE, generate_meas, cnlls_solver, MHE\n",
    "\n",
    "\n",
    "from animate import get_cart_x, get_cart_y, get_ball_x, get_ball_y, animate_pendulum"
   ]
  },
  {
   "cell_type": "markdown",
   "id": "8f970bc8-ca09-474c-9b20-cff819854f60",
   "metadata": {},
   "source": [
    "# Model Dynamics"
   ]
  },
  {
   "cell_type": "code",
   "execution_count": 3,
   "id": "a9e24e3d-4251-4a7b-9515-b1df98e7f2da",
   "metadata": {},
   "outputs": [],
   "source": [
    "# our parameters !\n",
    "m = 1\n",
    "M = 5\n",
    "l = 1 # attention! l must be also changed in the animate.py file!\n",
    "g = 9.81"
   ]
  },
  {
   "cell_type": "code",
   "execution_count": 4,
   "id": "8acfe22b-d7a9-43c2-9a80-7f77843b8ff3",
   "metadata": {},
   "outputs": [],
   "source": [
    "# defining the rhs of the ODE system\n",
    "\n",
    "# state variables\n",
    "x1 = MX.sym('x1') #r\n",
    "x2 = MX.sym('x2') #rdot\n",
    "x3 = MX.sym('x3') #theta\n",
    "x4 = MX.sym('x4') #thetadot\n",
    "x = vertcat(x1,x2,x3,x4)\n",
    "\n",
    "# parameter\n",
    "p = MX.sym('p')\n",
    "\n",
    "u=0\n",
    "\n",
    "# rhs\n",
    "rhs_exp = vertcat(x2,\n",
    "             (-m*g*cos(x3)*sin(x3)-m*l*x4*x4*sin(x3)+u)/(M+m*sin(x3)*sin(x3)),\n",
    "             x4,\n",
    "             -g/l*sin(x3)+ cos(x3)/l*((-m*g*cos(x3)*sin(x3)-m*l*x4*x4*sin(x3)+u)/(M+m*sin(x3)*sin(x3)))-p/m*x4)\n",
    "\n",
    "rhs = Function('rhs',[x,p],[rhs_exp])"
   ]
  },
  {
   "cell_type": "markdown",
   "id": "36b36c49-15ac-44d8-8f9a-55635873ed7a",
   "metadata": {},
   "source": [
    "# Simulation"
   ]
  },
  {
   "cell_type": "code",
   "execution_count": 5,
   "id": "05c80d7e-3ec1-46a6-80f0-d10eab3b2144",
   "metadata": {},
   "outputs": [
    {
     "name": "stdout",
     "output_type": "stream",
     "text": [
      "(404, 1)\n"
     ]
    }
   ],
   "source": [
    "N = 10 #100 # number of integration steps\n",
    "T = 0.5 #1 #10.0\n",
    "L = 10 # -> insgesamt 5 sekunden\n",
    "\n",
    "p_true = [0.5]\n",
    "\n",
    "eps = 0.1\n",
    "s0 = [0, 0, pi-eps, 0]\n",
    "x0 = s0 ## initial conditions from paper\n",
    "Res1 = s0\n",
    "\n",
    "dae = {'x': x, 'p': p, 'ode': rhs_exp}\n",
    "opts = {'tf': T/N}\n",
    "F = integrator('F', 'cvodes', dae, opts)\n",
    "\n",
    "for i in range(L*N):\n",
    "    Fi = F(x0=s0, p=p_true)\n",
    "    Xk_end = Fi['xf']\n",
    "    # for k in range(1,M+1):\n",
    "    Res1 = vertcat(Res1,Xk_end[:,-1])\n",
    "    s0 = Xk_end[:,-1]\n",
    "print(Res1.shape)"
   ]
  },
  {
   "cell_type": "markdown",
   "id": "00c2b9e7-5240-49f5-9452-4c8a9e275236",
   "metadata": {},
   "source": [
    "# Simualtion with p=0 as comparison"
   ]
  },
  {
   "cell_type": "code",
   "execution_count": 6,
   "id": "f82cc46f-4c8d-4f76-b9ce-efa2bc7761a3",
   "metadata": {},
   "outputs": [
    {
     "name": "stdout",
     "output_type": "stream",
     "text": [
      "(404, 1)\n"
     ]
    }
   ],
   "source": [
    "N = 10 #100 # number of integration steps\n",
    "T = 0.5 #1 #10.0\n",
    "L = 10 # -> insgesamt 5 sekunden\n",
    "\n",
    "p_true2 = [0.]\n",
    "\n",
    "eps = 0.1\n",
    "s0 = [0, 0, pi-eps, 0]\n",
    "x0 = s0 ## initial conditions from paper\n",
    "Res2 = s0\n",
    "\n",
    "dae = {'x': x, 'p': p, 'ode': rhs_exp}\n",
    "opts = {'tf': T/N}\n",
    "F = integrator('F', 'cvodes', dae, opts)\n",
    "\n",
    "for i in range(L*N):\n",
    "    Fi = F(x0=s0, p=p_true2)\n",
    "    Xk_end = Fi['xf']\n",
    "    # for k in range(1,M+1):\n",
    "    Res2 = vertcat(Res2,Xk_end[:,-1])\n",
    "    s0 = Xk_end[:,-1]\n",
    "print(Res2.shape)"
   ]
  },
  {
   "cell_type": "code",
   "execution_count": 7,
   "id": "77cc79ce-b306-4284-82ff-48651808599f",
   "metadata": {},
   "outputs": [
    {
     "name": "stderr",
     "output_type": "stream",
     "text": [
      "MovieWriter Pillow unavailable; using Pillow instead.\n"
     ]
    },
    {
     "data": {
      "image/png": "[encoded data removed]",
      "text/plain": [
       "<Figure size 720x576 with 1 Axes>"
      ]
     },
     "metadata": {
      "needs_background": "light"
     },
     "output_type": "display_data"
    }
   ],
   "source": [
    "animate_pendulum('../plots/pendulum/simulation.gif', Res1)"
   ]
  },
  {
   "cell_type": "code",
   "execution_count": 8,
   "id": "885148bd-09bb-4c4b-886a-6f2e7aa6c750",
   "metadata": {},
   "outputs": [],
   "source": [
    "sigma = 0.03\n",
    "sigma2 = 0.0001\n",
    "M = L*N\n",
    "meas = generate_meas(x, p, rhs_exp, L*T, sigma, p_true, M, x0)"
   ]
  },
  {
   "cell_type": "code",
   "execution_count": 9,
   "id": "c9af6c1a-3048-4d3e-82b3-32bf22043ad0",
   "metadata": {},
   "outputs": [
    {
     "name": "stdout",
     "output_type": "stream",
     "text": [
      "(404, 1)\n"
     ]
    }
   ],
   "source": [
    "# we need to reshape for visualization\n",
    "meas1 = []\n",
    "for i in range(M+1):\n",
    "    meas1 = vertcat(meas1,meas[:,i])\n",
    "print(meas1.shape)"
   ]
  },
  {
   "cell_type": "code",
   "execution_count": 10,
   "id": "1a3f3026-b7ee-4fbf-9f12-657c16c2f745",
   "metadata": {},
   "outputs": [
    {
     "name": "stderr",
     "output_type": "stream",
     "text": [
      "MovieWriter Pillow unavailable; using Pillow instead.\n"
     ]
    },
    {
     "data": {
      "image/png": "[encoded data removed]",
      "text/plain": [
       "<Figure size 720x576 with 1 Axes>"
      ]
     },
     "metadata": {
      "needs_background": "light"
     },
     "output_type": "display_data"
    }
   ],
   "source": [
    "animate_pendulum('../plots/pendulum/measurements.gif', meas1)"
   ]
  },
  {
   "cell_type": "markdown",
   "id": "b6bbeaeb-a1a4-40d2-9944-a27c878687a9",
   "metadata": {},
   "source": [
    "# Open-loop PE for the first MHE horizon\n",
    " here the first 10 shooting intervals (->11 measurements)"
   ]
  },
  {
   "cell_type": "code",
   "execution_count": 11,
   "id": "bada3d34-2c0c-46ec-b49c-19b0b5ba626f",
   "metadata": {},
   "outputs": [],
   "source": [
    "x_opt = 0\n",
    "p_opt = 0\n",
    "last_P = 0\n",
    "last_W = 0\n",
    "\n",
    "start = 20"
   ]
  },
  {
   "cell_type": "code",
   "execution_count": 12,
   "id": "26d727bf-f185-4ce1-87f2-61ef263b340d",
   "metadata": {},
   "outputs": [
    {
     "name": "stdout",
     "output_type": "stream",
     "text": [
      "w: vertcat(S_0, S_1, S_2, S_3, S_4, S_5, S_6, S_7, S_8, S_9, S_10, S_11, S_12, S_13, S_14, S_15, S_16, S_17, S_18, S_19, S_20, v_0, v_1, v_2, v_3, v_4, v_5, v_6, v_7, v_8, v_9, v_10, v_11, v_12, v_13, v_14, v_15, v_16, v_17, v_18, v_19, p)\n",
      "F1:(i0[165],i1[4])->(o0[84]) MXFunction\n",
      "F2:(i0[165],i1[4])->(o0[80]) MXFunction\n"
     ]
    }
   ],
   "source": [
    "FF1, FF2 = MS_functions_MHE(2*T, 2*N, x, p, rhs_exp, meas[:,start:(2*N+1)+start], sigma,sigma2, x_opt, p_opt, last_P, last_W)"
   ]
  },
  {
   "cell_type": "code",
   "execution_count": 13,
   "id": "32915102-6a79-4192-8b0c-dbf8a8bd9495",
   "metadata": {},
   "outputs": [],
   "source": [
    "p0= [0]\n",
    "w0 = vertcat(meas1[:x.shape[0]*(2*N+1)],np.zeros(x.shape[0]*2*N))\n",
    "w0 = vertcat(w0,p0)\n",
    "w = MX.sym('w',w0.shape[0])\n",
    "#k=0\n",
    "y = meas[:,10]\n",
    "#print(y.shape)\n",
    "F1 = Function('F1',[w],[FF1(w,y)])\n",
    "F2 = Function('F2',[w],[FF2(w,y)])"
   ]
  },
  {
   "cell_type": "code",
   "execution_count": 14,
   "id": "d0999905-a06a-4c83-b761-8a2239604081",
   "metadata": {},
   "outputs": [
    {
     "name": "stdout",
     "output_type": "stream",
     "text": [
      "F1:(i0[165])->(o0[84]) MXFunction\n"
     ]
    }
   ],
   "source": [
    "print(F1)"
   ]
  },
  {
   "cell_type": "code",
   "execution_count": 15,
   "id": "73a55480-24a0-4500-9794-bd1144a89878",
   "metadata": {},
   "outputs": [
    {
     "name": "stdout",
     "output_type": "stream",
     "text": [
      "\n",
      "******************************************************************************\n",
      "This program contains Ipopt, a library for large-scale nonlinear optimization.\n",
      " Ipopt is released as open source code under the Eclipse Public License (EPL).\n",
      "         For more information visit http://projects.coin-or.org/Ipopt\n",
      "******************************************************************************\n",
      "\n",
      "      solver  :   t_proc      (avg)   t_wall      (avg)    n_eval\n",
      "       nlp_f  |        0 (       0)        0 (       0)        15\n",
      "       nlp_g  | 266.00ms ( 17.73ms) 263.97ms ( 17.60ms)        15\n",
      "  nlp_grad_f  |        0 (       0)        0 (       0)        12\n",
      "  nlp_hess_l  |   5.00 s (500.30ms)   5.00 s (500.49ms)        10\n",
      "   nlp_jac_g  |   2.72 s (226.42ms)   2.72 s (226.40ms)        12\n",
      "       total  |   7.99 s (  7.99 s)   7.99 s (  7.99 s)         1\n"
     ]
    }
   ],
   "source": [
    "w_opt = cnlls_solver(F1, F2, w0, itmax=10, tol=1e-7, ggn = False, show_iteration = False)"
   ]
  },
  {
   "cell_type": "code",
   "execution_count": 16,
   "id": "d4da6cd7-4523-4411-9429-f06f930292d8",
   "metadata": {},
   "outputs": [
    {
     "name": "stdout",
     "output_type": "stream",
     "text": [
      "[334.57219634]\n",
      "(44,)\n"
     ]
    }
   ],
   "source": [
    "leng = w_opt.shape[0]\n",
    "pp_opt = w_opt[leng-p.shape[0]:]\n",
    "vv_opt = w_opt[(N+1)*x.shape[0]:leng-p.shape[0]]\n",
    "ss_opt = w_opt[0:(N+1)*x.shape[0]]\n",
    "print(pp_opt)\n",
    "print(ss_opt.shape)"
   ]
  },
  {
   "cell_type": "code",
   "execution_count": 17,
   "id": "cfab30f7-ee71-4c6a-ab44-814dc65ba6e5",
   "metadata": {},
   "outputs": [
    {
     "name": "stderr",
     "output_type": "stream",
     "text": [
      "MovieWriter Pillow unavailable; using Pillow instead.\n"
     ]
    },
    {
     "data": {
      "image/png": "[encoded data removed]",
      "text/plain": [
       "<Figure size 720x576 with 1 Axes>"
      ]
     },
     "metadata": {
      "needs_background": "light"
     },
     "output_type": "display_data"
    }
   ],
   "source": [
    "animate_pendulum('../plots/pendulum/ipopt_short.gif', ss_opt)"
   ]
  },
  {
   "cell_type": "markdown",
   "id": "73e74ba2-1c5a-4298-b9f3-2b849d647c56",
   "metadata": {},
   "source": [
    "# Open-loop PE for all measurements"
   ]
  },
  {
   "cell_type": "code",
   "execution_count": 18,
   "id": "565b7bac-f3fb-4716-9273-2937199ef7aa",
   "metadata": {},
   "outputs": [
    {
     "name": "stdout",
     "output_type": "stream",
     "text": [
      "w: vertcat(S_0, S_1, S_2, S_3, S_4, S_5, S_6, S_7, S_8, S_9, S_10, S_11, S_12, S_13, S_14, S_15, S_16, S_17, S_18, S_19, S_20, S_21, S_22, S_23, S_24, S_25, S_26, S_27, S_28, S_29, S_30, S_31, S_32, S_33, S_34, S_35, S_36, S_37, S_38, S_39, S_40, S_41, S_42, S_43, S_44, S_45, S_46, S_47, S_48, S_49, S_50, S_51, S_52, S_53, S_54, S_55, S_56, S_57, S_58, S_59, S_60, S_61, S_62, S_63, S_64, S_65, S_66, S_67, S_68, S_69, S_70, S_71, S_72, S_73, S_74, S_75, S_76, S_77, S_78, S_79, S_80, S_81, S_82, S_83, S_84, S_85, S_86, S_87, S_88, S_89, S_90, S_91, S_92, S_93, S_94, S_95, S_96, S_97, S_98, S_99, S_100, v_0, v_1, v_2, v_3, v_4, v_5, v_6, v_7, v_8, v_9, v_10, v_11, v_12, v_13, v_14, v_15, v_16, v_17, v_18, v_19, v_20, v_21, v_22, v_23, v_24, v_25, v_26, v_27, v_28, v_29, v_30, v_31, v_32, v_33, v_34, v_35, v_36, v_37, v_38, v_39, v_40, v_41, v_42, v_43, v_44, v_45, v_46, v_47, v_48, v_49, v_50, v_51, v_52, v_53, v_54, v_55, v_56, v_57, v_58, v_59, v_60, v_61, v_62, v_63, v_64, v_65, v_66, v_67, v_68, v_69, v_70, v_71, v_72, v_73, v_74, v_75, v_76, v_77, v_78, v_79, v_80, v_81, v_82, v_83, v_84, v_85, v_86, v_87, v_88, v_89, v_90, v_91, v_92, v_93, v_94, v_95, v_96, v_97, v_98, v_99, p)\n",
      "F1:(i0[805],i1[4])->(o0[404]) MXFunction\n",
      "F2:(i0[805],i1[4])->(o0[400]) MXFunction\n"
     ]
    }
   ],
   "source": [
    "FF1, FF2 = MS_functions_MHE(L*T, L*N, x, p, rhs_exp, meas, sigma,sigma2, x_opt, p_opt, last_P, last_W)"
   ]
  },
  {
   "cell_type": "code",
   "execution_count": 19,
   "id": "ac2101e5-48ed-42a3-a0b0-599df709d2ee",
   "metadata": {},
   "outputs": [],
   "source": [
    "p0= [0]\n",
    "w0 = vertcat(meas1,np.zeros(N*L*x.shape[0]))\n",
    "w0 = vertcat(w0,p0)\n",
    "ww = MX.sym('ww',w0.shape[0])\n",
    "#k=0\n",
    "y = meas[:,M]\n",
    "#print(y.shape)\n",
    "F1 = Function('F1',[ww],[FF1(ww,y)])\n",
    "F2 = Function('F2',[ww],[FF2(ww,y)])"
   ]
  },
  {
   "cell_type": "code",
   "execution_count": 20,
   "id": "2f7e1ba0-fe73-4eb6-b9d9-caa67f8be4c6",
   "metadata": {},
   "outputs": [
    {
     "name": "stdout",
     "output_type": "stream",
     "text": [
      "      solver  :   t_proc      (avg)   t_wall      (avg)    n_eval\n",
      "       nlp_f  |        0 (       0)        0 (       0)         2\n",
      "       nlp_g  |  43.00ms ( 21.50ms)  42.14ms ( 21.07ms)         2\n",
      "  nlp_grad_f  |        0 (       0)        0 (       0)         3\n",
      "  nlp_hess_l  | 482.00ms (482.00ms) 482.61ms (482.61ms)         1\n",
      "   nlp_jac_g  | 951.00ms (317.00ms) 950.34ms (316.78ms)         3\n",
      "       total  |   1.49 s (  1.49 s)   1.49 s (  1.49 s)         1\n"
     ]
    }
   ],
   "source": [
    "w_opt = cnlls_solver(F1, F2, w0, itmax=1 , tol=1e-7, ggn = False, show_iteration = False)"
   ]
  },
  {
   "cell_type": "code",
   "execution_count": 21,
   "id": "844f998f-ffe9-4ac4-96e3-85121cb03571",
   "metadata": {},
   "outputs": [
    {
     "name": "stdout",
     "output_type": "stream",
     "text": [
      "[2.53981778]\n",
      "(400,)\n",
      "(404,)\n"
     ]
    }
   ],
   "source": [
    "len_w = w_opt.shape[0]\n",
    "p_opt = w_opt[len_w-p.shape[0]:]\n",
    "v_opt = w_opt[(L*N+1)*x.shape[0]:len_w-p.shape[0]]\n",
    "s_opt = w_opt[0:(L*N+1)*x.shape[0]]\n",
    "\n",
    "print(p_opt)\n",
    "print(v_opt.shape)\n",
    "print(s_opt.shape)"
   ]
  },
  {
   "cell_type": "code",
   "execution_count": 22,
   "id": "5ce7b6ac-a776-422f-b690-14c97eb776bd",
   "metadata": {},
   "outputs": [
    {
     "name": "stderr",
     "output_type": "stream",
     "text": [
      "MovieWriter Pillow unavailable; using Pillow instead.\n"
     ]
    },
    {
     "data": {
      "image/png": "[encoded data removed]",
      "text/plain": [
       "<Figure size 720x576 with 1 Axes>"
      ]
     },
     "metadata": {
      "needs_background": "light"
     },
     "output_type": "display_data"
    }
   ],
   "source": [
    "animate_pendulum('../plots/pendulum/ipopt.gif', s_opt)"
   ]
  },
  {
   "cell_type": "markdown",
   "id": "422749a7-fbd3-45e1-8ae2-5e3054a2fe99",
   "metadata": {},
   "source": [
    "# MHE"
   ]
  },
  {
   "cell_type": "code",
   "execution_count": 23,
   "id": "3af79922-6038-4de6-8761-b72c88b6253c",
   "metadata": {},
   "outputs": [
    {
     "name": "stdout",
     "output_type": "stream",
     "text": [
      "(165, 1)\n"
     ]
    }
   ],
   "source": [
    "x0bar = 0\n",
    "p0bar = 0\n",
    "P = 0\n",
    "p0 = [0.]\n",
    "r0 = vertcat(meas1[:(2*N+1)*x.shape[0]],np.zeros(2*N*x.shape[0]))\n",
    "r0 = vertcat(r0,p0)\n",
    "print(r0.shape)\n",
    "T = 0.5\n",
    "N = 10\n",
    "length_simulation = 70\n",
    "#sigma = 0.01 (defined above)\n",
    "W = 0"
   ]
  },
  {
   "cell_type": "code",
   "execution_count": 24,
   "id": "f69d8f99-e35c-4527-92cf-38f828c39a79",
   "metadata": {},
   "outputs": [
    {
     "name": "stdout",
     "output_type": "stream",
     "text": [
      "starting (time horizon) loop no.  1\n",
      "rk- shape:  (165, 1)\n",
      "w: vertcat(S_0, S_1, S_2, S_3, S_4, S_5, S_6, S_7, S_8, S_9, S_10, S_11, S_12, S_13, S_14, S_15, S_16, S_17, S_18, S_19, S_20, v_0, v_1, v_2, v_3, v_4, v_5, v_6, v_7, v_8, v_9, v_10, v_11, v_12, v_13, v_14, v_15, v_16, v_17, v_18, v_19, p)\n",
      "F1:(i0[165],i1[4])->(o0[84]) MXFunction\n",
      "F2:(i0[165],i1[4])->(o0[80]) MXFunction\n",
      "      solver  :   t_proc      (avg)   t_wall      (avg)    n_eval\n",
      "       nlp_f  |        0 (       0)        0 (       0)         2\n",
      "       nlp_g  |        0 (       0)        0 (       0)         2\n",
      "  nlp_grad_f  |        0 (       0)        0 (       0)         3\n",
      "  nlp_hess_l  | 141.00ms (141.00ms) 141.05ms (141.05ms)         1\n",
      "   nlp_jac_g  | 173.00ms ( 57.67ms) 172.70ms ( 57.57ms)         3\n",
      "       total  | 314.00ms (314.00ms) 313.75ms (313.75ms)         1\n",
      "starting (time horizon) loop no.  2\n",
      "rk- shape:  (165, 1)\n",
      "w: vertcat(S_0, S_1, S_2, S_3, S_4, S_5, S_6, S_7, S_8, S_9, S_10, S_11, S_12, S_13, S_14, S_15, S_16, S_17, S_18, S_19, S_20, v_0, v_1, v_2, v_3, v_4, v_5, v_6, v_7, v_8, v_9, v_10, v_11, v_12, v_13, v_14, v_15, v_16, v_17, v_18, v_19, p)\n",
      "F1:(i0[165],i1[4])->(o0[84]) MXFunction\n",
      "F2:(i0[165],i1[4])->(o0[80]) MXFunction\n",
      "      solver  :   t_proc      (avg)   t_wall      (avg)    n_eval\n",
      "       nlp_f  |        0 (       0)        0 (       0)         2\n",
      "       nlp_g  |        0 (       0)        0 (       0)         2\n",
      "  nlp_grad_f  |        0 (       0)        0 (       0)         3\n",
      "  nlp_hess_l  | 134.00ms (134.00ms) 134.50ms (134.50ms)         1\n",
      "   nlp_jac_g  | 164.00ms ( 54.67ms) 163.69ms ( 54.56ms)         3\n",
      "       total  | 298.00ms (298.00ms) 298.20ms (298.20ms)         1\n",
      "starting (time horizon) loop no.  3\n",
      "rk- shape:  (165, 1)\n",
      "w: vertcat(S_0, S_1, S_2, S_3, S_4, S_5, S_6, S_7, S_8, S_9, S_10, S_11, S_12, S_13, S_14, S_15, S_16, S_17, S_18, S_19, S_20, v_0, v_1, v_2, v_3, v_4, v_5, v_6, v_7, v_8, v_9, v_10, v_11, v_12, v_13, v_14, v_15, v_16, v_17, v_18, v_19, p)\n",
      "F1:(i0[165],i1[4])->(o0[84]) MXFunction\n",
      "F2:(i0[165],i1[4])->(o0[80]) MXFunction\n",
      "      solver  :   t_proc      (avg)   t_wall      (avg)    n_eval\n",
      "       nlp_f  |        0 (       0)        0 (       0)         2\n",
      "       nlp_g  |  16.00ms (  8.00ms)  15.65ms (  7.82ms)         2\n",
      "  nlp_grad_f  |        0 (       0)        0 (       0)         3\n",
      "  nlp_hess_l  | 141.00ms (141.00ms) 141.38ms (141.38ms)         1\n",
      "   nlp_jac_g  | 189.00ms ( 63.00ms) 188.38ms ( 62.79ms)         3\n",
      "       total  | 346.00ms (346.00ms) 345.41ms (345.41ms)         1\n",
      "starting (time horizon) loop no.  4\n",
      "rk- shape:  (165, 1)\n",
      "w: vertcat(S_0, S_1, S_2, S_3, S_4, S_5, S_6, S_7, S_8, S_9, S_10, S_11, S_12, S_13, S_14, S_15, S_16, S_17, S_18, S_19, S_20, v_0, v_1, v_2, v_3, v_4, v_5, v_6, v_7, v_8, v_9, v_10, v_11, v_12, v_13, v_14, v_15, v_16, v_17, v_18, v_19, p)\n",
      "F1:(i0[165],i1[4])->(o0[84]) MXFunction\n",
      "F2:(i0[165],i1[4])->(o0[80]) MXFunction\n",
      "      solver  :   t_proc      (avg)   t_wall      (avg)    n_eval\n",
      "       nlp_f  |        0 (       0)        0 (       0)         2\n",
      "       nlp_g  |        0 (       0)        0 (       0)         2\n",
      "  nlp_grad_f  |        0 (       0)        0 (       0)         3\n",
      "  nlp_hess_l  | 157.00ms (157.00ms) 156.67ms (156.67ms)         1\n",
      "   nlp_jac_g  | 220.00ms ( 73.33ms) 219.98ms ( 73.33ms)         3\n",
      "       total  | 377.00ms (377.00ms) 376.65ms (376.65ms)         1\n",
      "starting (time horizon) loop no.  5\n",
      "rk- shape:  (165, 1)\n",
      "w: vertcat(S_0, S_1, S_2, S_3, S_4, S_5, S_6, S_7, S_8, S_9, S_10, S_11, S_12, S_13, S_14, S_15, S_16, S_17, S_18, S_19, S_20, v_0, v_1, v_2, v_3, v_4, v_5, v_6, v_7, v_8, v_9, v_10, v_11, v_12, v_13, v_14, v_15, v_16, v_17, v_18, v_19, p)\n",
      "F1:(i0[165],i1[4])->(o0[84]) MXFunction\n",
      "F2:(i0[165],i1[4])->(o0[80]) MXFunction\n",
      "      solver  :   t_proc      (avg)   t_wall      (avg)    n_eval\n",
      "       nlp_f  |        0 (       0)        0 (       0)         2\n",
      "       nlp_g  |  16.00ms (  8.00ms)  15.64ms (  7.82ms)         2\n",
      "  nlp_grad_f  |        0 (       0)        0 (       0)         3\n",
      "  nlp_hess_l  | 157.00ms (157.00ms) 157.06ms (157.06ms)         1\n",
      "   nlp_jac_g  | 200.00ms ( 66.67ms) 200.95ms ( 66.98ms)         3\n",
      "       total  | 401.00ms (401.00ms) 400.78ms (400.78ms)         1\n",
      "starting (time horizon) loop no.  6\n",
      "rk- shape:  (165, 1)\n",
      "w: vertcat(S_0, S_1, S_2, S_3, S_4, S_5, S_6, S_7, S_8, S_9, S_10, S_11, S_12, S_13, S_14, S_15, S_16, S_17, S_18, S_19, S_20, v_0, v_1, v_2, v_3, v_4, v_5, v_6, v_7, v_8, v_9, v_10, v_11, v_12, v_13, v_14, v_15, v_16, v_17, v_18, v_19, p)\n",
      "F1:(i0[165],i1[4])->(o0[84]) MXFunction\n",
      "F2:(i0[165],i1[4])->(o0[80]) MXFunction\n",
      "      solver  :   t_proc      (avg)   t_wall      (avg)    n_eval\n",
      "       nlp_f  |        0 (       0)        0 (       0)         2\n",
      "       nlp_g  |  15.00ms (  7.50ms)  15.63ms (  7.81ms)         2\n",
      "  nlp_grad_f  |        0 (       0)        0 (       0)         3\n",
      "  nlp_hess_l  | 173.00ms (173.00ms) 172.75ms (172.75ms)         1\n",
      "   nlp_jac_g  | 236.00ms ( 78.67ms) 235.34ms ( 78.45ms)         3\n",
      "       total  | 424.00ms (424.00ms) 423.72ms (423.72ms)         1\n",
      "starting (time horizon) loop no.  7\n",
      "rk- shape:  (165, 1)\n",
      "w: vertcat(S_0, S_1, S_2, S_3, S_4, S_5, S_6, S_7, S_8, S_9, S_10, S_11, S_12, S_13, S_14, S_15, S_16, S_17, S_18, S_19, S_20, v_0, v_1, v_2, v_3, v_4, v_5, v_6, v_7, v_8, v_9, v_10, v_11, v_12, v_13, v_14, v_15, v_16, v_17, v_18, v_19, p)\n",
      "F1:(i0[165],i1[4])->(o0[84]) MXFunction\n",
      "F2:(i0[165],i1[4])->(o0[80]) MXFunction\n",
      "      solver  :   t_proc      (avg)   t_wall      (avg)    n_eval\n",
      "       nlp_f  |        0 (       0)        0 (       0)         2\n",
      "       nlp_g  |  15.00ms (  7.50ms)  15.63ms (  7.81ms)         2\n",
      "  nlp_grad_f  |        0 (       0)        0 (       0)         3\n",
      "  nlp_hess_l  | 189.00ms (189.00ms) 188.37ms (188.37ms)         1\n",
      "   nlp_jac_g  | 235.00ms ( 78.33ms) 235.12ms ( 78.37ms)         3\n",
      "       total  | 439.00ms (439.00ms) 439.12ms (439.12ms)         1\n",
      "starting (time horizon) loop no.  8\n",
      "rk- shape:  (165, 1)\n",
      "w: vertcat(S_0, S_1, S_2, S_3, S_4, S_5, S_6, S_7, S_8, S_9, S_10, S_11, S_12, S_13, S_14, S_15, S_16, S_17, S_18, S_19, S_20, v_0, v_1, v_2, v_3, v_4, v_5, v_6, v_7, v_8, v_9, v_10, v_11, v_12, v_13, v_14, v_15, v_16, v_17, v_18, v_19, p)\n",
      "F1:(i0[165],i1[4])->(o0[84]) MXFunction\n",
      "F2:(i0[165],i1[4])->(o0[80]) MXFunction\n",
      "      solver  :   t_proc      (avg)   t_wall      (avg)    n_eval\n",
      "       nlp_f  |        0 (       0)        0 (       0)         2\n",
      "       nlp_g  |  16.00ms (  8.00ms)  15.62ms (  7.81ms)         2\n",
      "  nlp_grad_f  |        0 (       0)        0 (       0)         3\n",
      "  nlp_hess_l  | 188.00ms (188.00ms) 188.40ms (188.40ms)         1\n",
      "   nlp_jac_g  | 236.00ms ( 78.67ms) 235.66ms ( 78.55ms)         3\n",
      "       total  | 440.00ms (440.00ms) 439.68ms (439.68ms)         1\n",
      "starting (time horizon) loop no.  9\n",
      "rk- shape:  (165, 1)\n",
      "w: vertcat(S_0, S_1, S_2, S_3, S_4, S_5, S_6, S_7, S_8, S_9, S_10, S_11, S_12, S_13, S_14, S_15, S_16, S_17, S_18, S_19, S_20, v_0, v_1, v_2, v_3, v_4, v_5, v_6, v_7, v_8, v_9, v_10, v_11, v_12, v_13, v_14, v_15, v_16, v_17, v_18, v_19, p)\n",
      "F1:(i0[165],i1[4])->(o0[84]) MXFunction\n",
      "F2:(i0[165],i1[4])->(o0[80]) MXFunction\n",
      "      solver  :   t_proc      (avg)   t_wall      (avg)    n_eval\n",
      "       nlp_f  |        0 (       0)        0 (       0)         2\n",
      "       nlp_g  |  16.00ms (  8.00ms)  15.63ms (  7.81ms)         2\n",
      "  nlp_grad_f  |        0 (       0)        0 (       0)         3\n",
      "  nlp_hess_l  | 204.00ms (204.00ms) 204.02ms (204.02ms)         1\n",
      "   nlp_jac_g  | 235.00ms ( 78.33ms) 235.64ms ( 78.55ms)         3\n",
      "       total  | 455.00ms (455.00ms) 455.29ms (455.29ms)         1\n",
      "starting (time horizon) loop no.  10\n",
      "rk- shape:  (165, 1)\n",
      "w: vertcat(S_0, S_1, S_2, S_3, S_4, S_5, S_6, S_7, S_8, S_9, S_10, S_11, S_12, S_13, S_14, S_15, S_16, S_17, S_18, S_19, S_20, v_0, v_1, v_2, v_3, v_4, v_5, v_6, v_7, v_8, v_9, v_10, v_11, v_12, v_13, v_14, v_15, v_16, v_17, v_18, v_19, p)\n",
      "F1:(i0[165],i1[4])->(o0[84]) MXFunction\n",
      "F2:(i0[165],i1[4])->(o0[80]) MXFunction\n",
      "      solver  :   t_proc      (avg)   t_wall      (avg)    n_eval\n",
      "       nlp_f  |        0 (       0)        0 (       0)         2\n",
      "       nlp_g  |        0 (       0)        0 (       0)         2\n",
      "  nlp_grad_f  |        0 (       0)        0 (       0)         3\n",
      "  nlp_hess_l  | 204.00ms (204.00ms) 204.01ms (204.01ms)         1\n",
      "   nlp_jac_g  | 266.00ms ( 88.67ms) 266.36ms ( 88.79ms)         3\n",
      "       total  | 470.00ms (470.00ms) 470.38ms (470.38ms)         1\n",
      "starting (time horizon) loop no.  11\n",
      "rk- shape:  (165, 1)\n",
      "w: vertcat(S_0, S_1, S_2, S_3, S_4, S_5, S_6, S_7, S_8, S_9, S_10, S_11, S_12, S_13, S_14, S_15, S_16, S_17, S_18, S_19, S_20, v_0, v_1, v_2, v_3, v_4, v_5, v_6, v_7, v_8, v_9, v_10, v_11, v_12, v_13, v_14, v_15, v_16, v_17, v_18, v_19, p)\n",
      "F1:(i0[165],i1[4])->(o0[84]) MXFunction\n",
      "F2:(i0[165],i1[4])->(o0[80]) MXFunction\n",
      "      solver  :   t_proc      (avg)   t_wall      (avg)    n_eval\n",
      "       nlp_f  |        0 (       0)        0 (       0)         2\n",
      "       nlp_g  |        0 (       0)        0 (       0)         2\n",
      "  nlp_grad_f  |        0 (       0)        0 (       0)         3\n",
      "  nlp_hess_l  | 188.00ms (188.00ms) 188.30ms (188.30ms)         1\n",
      "   nlp_jac_g  | 251.00ms ( 83.67ms) 251.27ms ( 83.76ms)         3\n",
      "       total  | 455.00ms (455.00ms) 455.19ms (455.19ms)         1\n",
      "starting (time horizon) loop no.  12\n",
      "rk- shape:  (165, 1)\n",
      "w: vertcat(S_0, S_1, S_2, S_3, S_4, S_5, S_6, S_7, S_8, S_9, S_10, S_11, S_12, S_13, S_14, S_15, S_16, S_17, S_18, S_19, S_20, v_0, v_1, v_2, v_3, v_4, v_5, v_6, v_7, v_8, v_9, v_10, v_11, v_12, v_13, v_14, v_15, v_16, v_17, v_18, v_19, p)\n",
      "F1:(i0[165],i1[4])->(o0[84]) MXFunction\n",
      "F2:(i0[165],i1[4])->(o0[80]) MXFunction\n",
      "      solver  :   t_proc      (avg)   t_wall      (avg)    n_eval\n",
      "       nlp_f  |        0 (       0)        0 (       0)         2\n",
      "       nlp_g  |        0 (       0)        0 (       0)         2\n",
      "  nlp_grad_f  |        0 (       0)        0 (       0)         3\n",
      "  nlp_hess_l  | 188.00ms (188.00ms) 188.34ms (188.34ms)         1\n",
      "   nlp_jac_g  | 236.00ms ( 78.67ms) 235.60ms ( 78.53ms)         3\n",
      "       total  | 424.00ms (424.00ms) 423.93ms (423.93ms)         1\n",
      "starting (time horizon) loop no.  13\n",
      "rk- shape:  (165, 1)\n",
      "w: vertcat(S_0, S_1, S_2, S_3, S_4, S_5, S_6, S_7, S_8, S_9, S_10, S_11, S_12, S_13, S_14, S_15, S_16, S_17, S_18, S_19, S_20, v_0, v_1, v_2, v_3, v_4, v_5, v_6, v_7, v_8, v_9, v_10, v_11, v_12, v_13, v_14, v_15, v_16, v_17, v_18, v_19, p)\n",
      "F1:(i0[165],i1[4])->(o0[84]) MXFunction\n",
      "F2:(i0[165],i1[4])->(o0[80]) MXFunction\n",
      "      solver  :   t_proc      (avg)   t_wall      (avg)    n_eval\n",
      "       nlp_f  |        0 (       0)        0 (       0)         2\n",
      "       nlp_g  |        0 (       0)        0 (       0)         2\n",
      "  nlp_grad_f  |        0 (       0)        0 (       0)         3\n",
      "  nlp_hess_l  | 172.00ms (172.00ms) 172.70ms (172.70ms)         1\n",
      "   nlp_jac_g  | 220.00ms ( 73.33ms) 219.60ms ( 73.20ms)         3\n",
      "       total  | 392.00ms (392.00ms) 392.30ms (392.30ms)         1\n",
      "starting (time horizon) loop no.  14\n",
      "rk- shape:  (165, 1)\n",
      "w: vertcat(S_0, S_1, S_2, S_3, S_4, S_5, S_6, S_7, S_8, S_9, S_10, S_11, S_12, S_13, S_14, S_15, S_16, S_17, S_18, S_19, S_20, v_0, v_1, v_2, v_3, v_4, v_5, v_6, v_7, v_8, v_9, v_10, v_11, v_12, v_13, v_14, v_15, v_16, v_17, v_18, v_19, p)\n",
      "F1:(i0[165],i1[4])->(o0[84]) MXFunction\n",
      "F2:(i0[165],i1[4])->(o0[80]) MXFunction\n",
      "      solver  :   t_proc      (avg)   t_wall      (avg)    n_eval\n",
      "       nlp_f  |        0 (       0)        0 (       0)         2\n",
      "       nlp_g  |  15.00ms (  7.50ms)  15.63ms (  7.81ms)         2\n",
      "  nlp_grad_f  |        0 (       0)        0 (       0)         3\n",
      "  nlp_hess_l  | 157.00ms (157.00ms) 156.65ms (156.65ms)         1\n",
      "   nlp_jac_g  | 205.00ms ( 68.33ms) 204.38ms ( 68.13ms)         3\n",
      "       total  | 377.00ms (377.00ms) 376.67ms (376.67ms)         1\n",
      "starting (time horizon) loop no.  15\n",
      "rk- shape:  (165, 1)\n",
      "w: vertcat(S_0, S_1, S_2, S_3, S_4, S_5, S_6, S_7, S_8, S_9, S_10, S_11, S_12, S_13, S_14, S_15, S_16, S_17, S_18, S_19, S_20, v_0, v_1, v_2, v_3, v_4, v_5, v_6, v_7, v_8, v_9, v_10, v_11, v_12, v_13, v_14, v_15, v_16, v_17, v_18, v_19, p)\n",
      "F1:(i0[165],i1[4])->(o0[84]) MXFunction\n",
      "F2:(i0[165],i1[4])->(o0[80]) MXFunction\n"
     ]
    },
    {
     "name": "stderr",
     "output_type": "stream",
     "text": [
      "At t = 0.0124326, mxstep steps taken before reaching tout.\n",
      "CasADi -  WARNING(\"solver:nlp_g failed:Error in Function::operator() for 'nlp_g' [MXFunction] at .../casadi/core/function.cpp:1368:\n",
      "Error in Function::operator() for 'F2' [MXFunction] at .../casadi/core/function.cpp:1368:\n",
      "Error in Function::operator() for 'F2' [MXFunction] at .../casadi/core/function.cpp:1368:\n",
      "Error in Function::operator() for 'F' [CvodesInterface] at .../casadi/core/function.cpp:1368:\n",
      ".../casadi/interfaces/sundials/cvodes_interface.cpp:392: CVode returned \"CV_TOO_MUCH_WORK\". Consult CVODES documentation.\") [.../casadi/core/oracle_function.cpp:223]\n"
     ]
    },
    {
     "name": "stdout",
     "output_type": "stream",
     "text": [
      "      solver  :   t_proc      (avg)   t_wall      (avg)    n_eval\n",
      "       nlp_f  |        0 (       0)        0 (       0)         3\n",
      "       nlp_g  |  93.00ms ( 23.25ms)  93.78ms ( 23.45ms)         4\n",
      "  nlp_grad_f  |        0 (       0)        0 (       0)         3\n",
      "  nlp_hess_l  | 157.00ms (157.00ms) 157.07ms (157.07ms)         1\n",
      "   nlp_jac_g  | 246.00ms ( 82.00ms) 245.84ms ( 81.95ms)         3\n",
      "       total  | 496.00ms (496.00ms) 496.69ms (496.69ms)         1\n",
      "starting (time horizon) loop no.  16\n",
      "rk- shape:  (165, 1)\n",
      "w: vertcat(S_0, S_1, S_2, S_3, S_4, S_5, S_6, S_7, S_8, S_9, S_10, S_11, S_12, S_13, S_14, S_15, S_16, S_17, S_18, S_19, S_20, v_0, v_1, v_2, v_3, v_4, v_5, v_6, v_7, v_8, v_9, v_10, v_11, v_12, v_13, v_14, v_15, v_16, v_17, v_18, v_19, p)\n",
      "F1:(i0[165],i1[4])->(o0[84]) MXFunction\n",
      "F2:(i0[165],i1[4])->(o0[80]) MXFunction\n",
      "      solver  :   t_proc      (avg)   t_wall      (avg)    n_eval\n",
      "       nlp_f  |        0 (       0)        0 (       0)         2\n",
      "       nlp_g  |   5.00ms (  2.50ms)   5.22ms (  2.61ms)         2\n",
      "  nlp_grad_f  |        0 (       0)        0 (       0)         3\n",
      "  nlp_hess_l  | 285.00ms (285.00ms) 284.53ms (284.53ms)         1\n",
      "   nlp_jac_g  | 305.00ms (101.67ms) 304.67ms (101.56ms)         3\n",
      "       total  | 612.00ms (612.00ms) 612.14ms (612.14ms)         1\n",
      "starting (time horizon) loop no.  17\n",
      "rk- shape:  (165, 1)\n",
      "w: vertcat(S_0, S_1, S_2, S_3, S_4, S_5, S_6, S_7, S_8, S_9, S_10, S_11, S_12, S_13, S_14, S_15, S_16, S_17, S_18, S_19, S_20, v_0, v_1, v_2, v_3, v_4, v_5, v_6, v_7, v_8, v_9, v_10, v_11, v_12, v_13, v_14, v_15, v_16, v_17, v_18, v_19, p)\n",
      "F1:(i0[165],i1[4])->(o0[84]) MXFunction\n",
      "F2:(i0[165],i1[4])->(o0[80]) MXFunction\n",
      "      solver  :   t_proc      (avg)   t_wall      (avg)    n_eval\n",
      "       nlp_f  |        0 (       0)        0 (       0)         2\n",
      "       nlp_g  |        0 (       0)        0 (       0)         2\n",
      "  nlp_grad_f  |        0 (       0)        0 (       0)         3\n",
      "  nlp_hess_l  | 204.00ms (204.00ms) 204.45ms (204.45ms)         1\n",
      "   nlp_jac_g  | 251.00ms ( 83.67ms) 251.27ms ( 83.76ms)         3\n",
      "       total  | 487.00ms (487.00ms) 486.97ms (486.97ms)         1\n",
      "starting (time horizon) loop no.  18\n",
      "rk- shape:  (165, 1)\n",
      "w: vertcat(S_0, S_1, S_2, S_3, S_4, S_5, S_6, S_7, S_8, S_9, S_10, S_11, S_12, S_13, S_14, S_15, S_16, S_17, S_18, S_19, S_20, v_0, v_1, v_2, v_3, v_4, v_5, v_6, v_7, v_8, v_9, v_10, v_11, v_12, v_13, v_14, v_15, v_16, v_17, v_18, v_19, p)\n",
      "F1:(i0[165],i1[4])->(o0[84]) MXFunction\n",
      "F2:(i0[165],i1[4])->(o0[80]) MXFunction\n",
      "      solver  :   t_proc      (avg)   t_wall      (avg)    n_eval\n",
      "       nlp_f  |        0 (       0)        0 (       0)         2\n",
      "       nlp_g  |        0 (       0)        0 (       0)         2\n",
      "  nlp_grad_f  |        0 (       0)        0 (       0)         3\n",
      "  nlp_hess_l  | 173.00ms (173.00ms) 172.67ms (172.67ms)         1\n",
      "   nlp_jac_g  | 250.00ms ( 83.33ms) 250.73ms ( 83.58ms)         3\n",
      "       total  | 423.00ms (423.00ms) 423.40ms (423.40ms)         1\n",
      "starting (time horizon) loop no.  19\n",
      "rk- shape:  (165, 1)\n",
      "w: vertcat(S_0, S_1, S_2, S_3, S_4, S_5, S_6, S_7, S_8, S_9, S_10, S_11, S_12, S_13, S_14, S_15, S_16, S_17, S_18, S_19, S_20, v_0, v_1, v_2, v_3, v_4, v_5, v_6, v_7, v_8, v_9, v_10, v_11, v_12, v_13, v_14, v_15, v_16, v_17, v_18, v_19, p)\n",
      "F1:(i0[165],i1[4])->(o0[84]) MXFunction\n",
      "F2:(i0[165],i1[4])->(o0[80]) MXFunction\n",
      "      solver  :   t_proc      (avg)   t_wall      (avg)    n_eval\n",
      "       nlp_f  |        0 (       0)        0 (       0)         2\n",
      "       nlp_g  |        0 (       0)        0 (       0)         2\n",
      "  nlp_grad_f  |        0 (       0)        0 (       0)         3\n",
      "  nlp_hess_l  | 204.00ms (204.00ms) 203.95ms (203.95ms)         1\n",
      "   nlp_jac_g  | 274.00ms ( 91.33ms) 273.80ms ( 91.27ms)         3\n",
      "       total  | 478.00ms (478.00ms) 477.76ms (477.76ms)         1\n",
      "starting (time horizon) loop no.  20\n",
      "rk- shape:  (165, 1)\n",
      "w: vertcat(S_0, S_1, S_2, S_3, S_4, S_5, S_6, S_7, S_8, S_9, S_10, S_11, S_12, S_13, S_14, S_15, S_16, S_17, S_18, S_19, S_20, v_0, v_1, v_2, v_3, v_4, v_5, v_6, v_7, v_8, v_9, v_10, v_11, v_12, v_13, v_14, v_15, v_16, v_17, v_18, v_19, p)\n",
      "F1:(i0[165],i1[4])->(o0[84]) MXFunction\n",
      "F2:(i0[165],i1[4])->(o0[80]) MXFunction\n",
      "      solver  :   t_proc      (avg)   t_wall      (avg)    n_eval\n",
      "       nlp_f  |        0 (       0)        0 (       0)         2\n",
      "       nlp_g  |  16.00ms (  8.00ms)  15.63ms (  7.81ms)         2\n",
      "  nlp_grad_f  |        0 (       0)        0 (       0)         3\n",
      "  nlp_hess_l  | 204.00ms (204.00ms) 204.01ms (204.01ms)         1\n",
      "   nlp_jac_g  | 266.00ms ( 88.67ms) 266.87ms ( 88.96ms)         3\n",
      "       total  | 486.00ms (486.00ms) 486.50ms (486.50ms)         1\n",
      "starting (time horizon) loop no.  21\n",
      "rk- shape:  (165, 1)\n",
      "w: vertcat(S_0, S_1, S_2, S_3, S_4, S_5, S_6, S_7, S_8, S_9, S_10, S_11, S_12, S_13, S_14, S_15, S_16, S_17, S_18, S_19, S_20, v_0, v_1, v_2, v_3, v_4, v_5, v_6, v_7, v_8, v_9, v_10, v_11, v_12, v_13, v_14, v_15, v_16, v_17, v_18, v_19, p)\n",
      "F1:(i0[165],i1[4])->(o0[84]) MXFunction\n",
      "F2:(i0[165],i1[4])->(o0[80]) MXFunction\n",
      "      solver  :   t_proc      (avg)   t_wall      (avg)    n_eval\n",
      "       nlp_f  |        0 (       0)        0 (       0)         2\n",
      "       nlp_g  |  13.00ms (  6.50ms)  12.52ms (  6.26ms)         2\n",
      "  nlp_grad_f  |        0 (       0)        0 (       0)         3\n",
      "  nlp_hess_l  | 196.00ms (196.00ms) 195.94ms (195.94ms)         1\n",
      "   nlp_jac_g  | 251.00ms ( 83.67ms) 250.42ms ( 83.47ms)         3\n",
      "       total  | 471.00ms (471.00ms) 470.40ms (470.40ms)         1\n",
      "starting (time horizon) loop no.  22\n",
      "rk- shape:  (165, 1)\n",
      "w: vertcat(S_0, S_1, S_2, S_3, S_4, S_5, S_6, S_7, S_8, S_9, S_10, S_11, S_12, S_13, S_14, S_15, S_16, S_17, S_18, S_19, S_20, v_0, v_1, v_2, v_3, v_4, v_5, v_6, v_7, v_8, v_9, v_10, v_11, v_12, v_13, v_14, v_15, v_16, v_17, v_18, v_19, p)\n",
      "F1:(i0[165],i1[4])->(o0[84]) MXFunction\n",
      "F2:(i0[165],i1[4])->(o0[80]) MXFunction\n",
      "      solver  :   t_proc      (avg)   t_wall      (avg)    n_eval\n",
      "       nlp_f  |        0 (       0)        0 (       0)         2\n",
      "       nlp_g  |        0 (       0)        0 (       0)         2\n",
      "  nlp_grad_f  |        0 (       0)        0 (       0)         3\n",
      "  nlp_hess_l  | 188.00ms (188.00ms) 188.36ms (188.36ms)         1\n",
      "   nlp_jac_g  | 254.00ms ( 84.67ms) 254.36ms ( 84.79ms)         3\n",
      "       total  | 458.00ms (458.00ms) 458.36ms (458.36ms)         1\n",
      "starting (time horizon) loop no.  23\n",
      "rk- shape:  (165, 1)\n",
      "w: vertcat(S_0, S_1, S_2, S_3, S_4, S_5, S_6, S_7, S_8, S_9, S_10, S_11, S_12, S_13, S_14, S_15, S_16, S_17, S_18, S_19, S_20, v_0, v_1, v_2, v_3, v_4, v_5, v_6, v_7, v_8, v_9, v_10, v_11, v_12, v_13, v_14, v_15, v_16, v_17, v_18, v_19, p)\n",
      "F1:(i0[165],i1[4])->(o0[84]) MXFunction\n",
      "F2:(i0[165],i1[4])->(o0[80]) MXFunction\n",
      "      solver  :   t_proc      (avg)   t_wall      (avg)    n_eval\n",
      "       nlp_f  |        0 (       0)        0 (       0)         2\n",
      "       nlp_g  |  16.00ms (  8.00ms)  15.64ms (  7.82ms)         2\n",
      "  nlp_grad_f  |        0 (       0)        0 (       0)         3\n",
      "  nlp_hess_l  | 188.00ms (188.00ms) 188.38ms (188.38ms)         1\n",
      "   nlp_jac_g  | 251.00ms ( 83.67ms) 250.76ms ( 83.59ms)         3\n",
      "       total  | 455.00ms (455.00ms) 454.78ms (454.78ms)         1\n",
      "starting (time horizon) loop no.  24\n",
      "rk- shape:  (165, 1)\n",
      "w: vertcat(S_0, S_1, S_2, S_3, S_4, S_5, S_6, S_7, S_8, S_9, S_10, S_11, S_12, S_13, S_14, S_15, S_16, S_17, S_18, S_19, S_20, v_0, v_1, v_2, v_3, v_4, v_5, v_6, v_7, v_8, v_9, v_10, v_11, v_12, v_13, v_14, v_15, v_16, v_17, v_18, v_19, p)\n",
      "F1:(i0[165],i1[4])->(o0[84]) MXFunction\n",
      "F2:(i0[165],i1[4])->(o0[80]) MXFunction\n",
      "      solver  :   t_proc      (avg)   t_wall      (avg)    n_eval\n",
      "       nlp_f  |        0 (       0)        0 (       0)         2\n",
      "       nlp_g  |        0 (       0)        0 (       0)         2\n",
      "  nlp_grad_f  |        0 (       0)        0 (       0)         3\n",
      "  nlp_hess_l  | 188.00ms (188.00ms) 188.32ms (188.32ms)         1\n",
      "   nlp_jac_g  | 267.00ms ( 89.00ms) 266.84ms ( 88.95ms)         3\n",
      "       total  | 455.00ms (455.00ms) 455.16ms (455.16ms)         1\n",
      "starting (time horizon) loop no.  25\n",
      "rk- shape:  (165, 1)\n",
      "w: vertcat(S_0, S_1, S_2, S_3, S_4, S_5, S_6, S_7, S_8, S_9, S_10, S_11, S_12, S_13, S_14, S_15, S_16, S_17, S_18, S_19, S_20, v_0, v_1, v_2, v_3, v_4, v_5, v_6, v_7, v_8, v_9, v_10, v_11, v_12, v_13, v_14, v_15, v_16, v_17, v_18, v_19, p)\n",
      "F1:(i0[165],i1[4])->(o0[84]) MXFunction\n",
      "F2:(i0[165],i1[4])->(o0[80]) MXFunction\n",
      "      solver  :   t_proc      (avg)   t_wall      (avg)    n_eval\n",
      "       nlp_f  |        0 (       0)        0 (       0)         2\n",
      "       nlp_g  |        0 (       0)        0 (       0)         2\n",
      "  nlp_grad_f  |        0 (       0)        0 (       0)         3\n",
      "  nlp_hess_l  | 189.00ms (189.00ms) 188.39ms (188.39ms)         1\n",
      "   nlp_jac_g  | 256.00ms ( 85.33ms) 256.36ms ( 85.45ms)         3\n",
      "       total  | 445.00ms (445.00ms) 444.74ms (444.74ms)         1\n",
      "starting (time horizon) loop no.  26\n",
      "rk- shape:  (165, 1)\n",
      "w: vertcat(S_0, S_1, S_2, S_3, S_4, S_5, S_6, S_7, S_8, S_9, S_10, S_11, S_12, S_13, S_14, S_15, S_16, S_17, S_18, S_19, S_20, v_0, v_1, v_2, v_3, v_4, v_5, v_6, v_7, v_8, v_9, v_10, v_11, v_12, v_13, v_14, v_15, v_16, v_17, v_18, v_19, p)\n",
      "F1:(i0[165],i1[4])->(o0[84]) MXFunction\n",
      "F2:(i0[165],i1[4])->(o0[80]) MXFunction\n",
      "      solver  :   t_proc      (avg)   t_wall      (avg)    n_eval\n",
      "       nlp_f  |        0 (       0)        0 (       0)         2\n",
      "       nlp_g  |        0 (       0)        0 (       0)         2\n",
      "  nlp_grad_f  |        0 (       0)        0 (       0)         3\n",
      "  nlp_hess_l  | 192.00ms (192.00ms) 192.41ms (192.41ms)         1\n",
      "   nlp_jac_g  | 264.00ms ( 88.00ms) 262.92ms ( 87.64ms)         3\n",
      "       total  | 456.00ms (456.00ms) 455.32ms (455.32ms)         1\n",
      "starting (time horizon) loop no.  27\n",
      "rk- shape:  (165, 1)\n",
      "w: vertcat(S_0, S_1, S_2, S_3, S_4, S_5, S_6, S_7, S_8, S_9, S_10, S_11, S_12, S_13, S_14, S_15, S_16, S_17, S_18, S_19, S_20, v_0, v_1, v_2, v_3, v_4, v_5, v_6, v_7, v_8, v_9, v_10, v_11, v_12, v_13, v_14, v_15, v_16, v_17, v_18, v_19, p)\n",
      "F1:(i0[165],i1[4])->(o0[84]) MXFunction\n",
      "F2:(i0[165],i1[4])->(o0[80]) MXFunction\n",
      "      solver  :   t_proc      (avg)   t_wall      (avg)    n_eval\n",
      "       nlp_f  |        0 (       0)        0 (       0)         2\n",
      "       nlp_g  |  16.00ms (  8.00ms)  15.65ms (  7.82ms)         2\n",
      "  nlp_grad_f  |        0 (       0)        0 (       0)         3\n",
      "  nlp_hess_l  | 188.00ms (188.00ms) 188.38ms (188.38ms)         1\n",
      "   nlp_jac_g  | 251.00ms ( 83.67ms) 250.85ms ( 83.62ms)         3\n",
      "       total  | 455.00ms (455.00ms) 454.88ms (454.88ms)         1\n",
      "starting (time horizon) loop no.  28\n",
      "rk- shape:  (165, 1)\n",
      "w: vertcat(S_0, S_1, S_2, S_3, S_4, S_5, S_6, S_7, S_8, S_9, S_10, S_11, S_12, S_13, S_14, S_15, S_16, S_17, S_18, S_19, S_20, v_0, v_1, v_2, v_3, v_4, v_5, v_6, v_7, v_8, v_9, v_10, v_11, v_12, v_13, v_14, v_15, v_16, v_17, v_18, v_19, p)\n",
      "F1:(i0[165],i1[4])->(o0[84]) MXFunction\n",
      "F2:(i0[165],i1[4])->(o0[80]) MXFunction\n",
      "      solver  :   t_proc      (avg)   t_wall      (avg)    n_eval\n",
      "       nlp_f  |        0 (       0)        0 (       0)         2\n",
      "       nlp_g  |        0 (       0)        0 (       0)         2\n",
      "  nlp_grad_f  |        0 (       0)        0 (       0)         3\n",
      "  nlp_hess_l  | 173.00ms (173.00ms) 172.69ms (172.69ms)         1\n",
      "   nlp_jac_g  | 235.00ms ( 78.33ms) 235.24ms ( 78.41ms)         3\n",
      "       total  | 439.00ms (439.00ms) 439.18ms (439.18ms)         1\n",
      "starting (time horizon) loop no.  29\n",
      "rk- shape:  (165, 1)\n",
      "w: vertcat(S_0, S_1, S_2, S_3, S_4, S_5, S_6, S_7, S_8, S_9, S_10, S_11, S_12, S_13, S_14, S_15, S_16, S_17, S_18, S_19, S_20, v_0, v_1, v_2, v_3, v_4, v_5, v_6, v_7, v_8, v_9, v_10, v_11, v_12, v_13, v_14, v_15, v_16, v_17, v_18, v_19, p)\n",
      "F1:(i0[165],i1[4])->(o0[84]) MXFunction\n",
      "F2:(i0[165],i1[4])->(o0[80]) MXFunction\n",
      "      solver  :   t_proc      (avg)   t_wall      (avg)    n_eval\n",
      "       nlp_f  |        0 (       0)        0 (       0)         2\n",
      "       nlp_g  |  16.00ms (  8.00ms)  15.63ms (  7.81ms)         2\n",
      "  nlp_grad_f  |        0 (       0)        0 (       0)         3\n",
      "  nlp_hess_l  | 172.00ms (172.00ms) 172.70ms (172.70ms)         1\n",
      "   nlp_jac_g  | 242.00ms ( 80.67ms) 241.23ms ( 80.41ms)         3\n",
      "       total  | 430.00ms (430.00ms) 429.56ms (429.56ms)         1\n",
      "starting (time horizon) loop no.  30\n",
      "rk- shape:  (165, 1)\n",
      "w: vertcat(S_0, S_1, S_2, S_3, S_4, S_5, S_6, S_7, S_8, S_9, S_10, S_11, S_12, S_13, S_14, S_15, S_16, S_17, S_18, S_19, S_20, v_0, v_1, v_2, v_3, v_4, v_5, v_6, v_7, v_8, v_9, v_10, v_11, v_12, v_13, v_14, v_15, v_16, v_17, v_18, v_19, p)\n",
      "F1:(i0[165],i1[4])->(o0[84]) MXFunction\n",
      "F2:(i0[165],i1[4])->(o0[80]) MXFunction\n",
      "      solver  :   t_proc      (avg)   t_wall      (avg)    n_eval\n",
      "       nlp_f  |        0 (       0)        0 (       0)         2\n",
      "       nlp_g  |        0 (       0)        0 (       0)         2\n",
      "  nlp_grad_f  |        0 (       0)        0 (       0)         3\n",
      "  nlp_hess_l  | 173.00ms (173.00ms) 172.71ms (172.71ms)         1\n",
      "   nlp_jac_g  | 243.00ms ( 81.00ms) 243.26ms ( 81.09ms)         3\n",
      "       total  | 431.00ms (431.00ms) 431.60ms (431.60ms)         1\n",
      "starting (time horizon) loop no.  31\n",
      "rk- shape:  (165, 1)\n",
      "w: vertcat(S_0, S_1, S_2, S_3, S_4, S_5, S_6, S_7, S_8, S_9, S_10, S_11, S_12, S_13, S_14, S_15, S_16, S_17, S_18, S_19, S_20, v_0, v_1, v_2, v_3, v_4, v_5, v_6, v_7, v_8, v_9, v_10, v_11, v_12, v_13, v_14, v_15, v_16, v_17, v_18, v_19, p)\n",
      "F1:(i0[165],i1[4])->(o0[84]) MXFunction\n",
      "F2:(i0[165],i1[4])->(o0[80]) MXFunction\n",
      "      solver  :   t_proc      (avg)   t_wall      (avg)    n_eval\n",
      "       nlp_f  |        0 (       0)        0 (       0)         2\n",
      "       nlp_g  |   5.00ms (  2.50ms)   5.51ms (  2.75ms)         2\n",
      "  nlp_grad_f  |        0 (       0)        0 (       0)         3\n",
      "  nlp_hess_l  | 172.00ms (172.00ms) 172.31ms (172.31ms)         1\n",
      "   nlp_jac_g  | 235.00ms ( 78.33ms) 235.01ms ( 78.34ms)         3\n",
      "       total  | 423.00ms (423.00ms) 423.34ms (423.34ms)         1\n",
      "starting (time horizon) loop no.  32\n",
      "rk- shape:  (165, 1)\n",
      "w: vertcat(S_0, S_1, S_2, S_3, S_4, S_5, S_6, S_7, S_8, S_9, S_10, S_11, S_12, S_13, S_14, S_15, S_16, S_17, S_18, S_19, S_20, v_0, v_1, v_2, v_3, v_4, v_5, v_6, v_7, v_8, v_9, v_10, v_11, v_12, v_13, v_14, v_15, v_16, v_17, v_18, v_19, p)\n",
      "F1:(i0[165],i1[4])->(o0[84]) MXFunction\n",
      "F2:(i0[165],i1[4])->(o0[80]) MXFunction\n",
      "      solver  :   t_proc      (avg)   t_wall      (avg)    n_eval\n",
      "       nlp_f  |        0 (       0)        0 (       0)         2\n",
      "       nlp_g  |        0 (       0)        0 (       0)         2\n",
      "  nlp_grad_f  |        0 (       0)        0 (       0)         3\n",
      "  nlp_hess_l  | 172.00ms (172.00ms) 172.21ms (172.21ms)         1\n",
      "   nlp_jac_g  | 236.00ms ( 78.67ms) 235.23ms ( 78.41ms)         3\n",
      "       total  | 408.00ms (408.00ms) 407.44ms (407.44ms)         1\n",
      "starting (time horizon) loop no.  33\n",
      "rk- shape:  (165, 1)\n",
      "w: vertcat(S_0, S_1, S_2, S_3, S_4, S_5, S_6, S_7, S_8, S_9, S_10, S_11, S_12, S_13, S_14, S_15, S_16, S_17, S_18, S_19, S_20, v_0, v_1, v_2, v_3, v_4, v_5, v_6, v_7, v_8, v_9, v_10, v_11, v_12, v_13, v_14, v_15, v_16, v_17, v_18, v_19, p)\n",
      "F1:(i0[165],i1[4])->(o0[84]) MXFunction\n",
      "F2:(i0[165],i1[4])->(o0[80]) MXFunction\n",
      "      solver  :   t_proc      (avg)   t_wall      (avg)    n_eval\n",
      "       nlp_f  |        0 (       0)        0 (       0)         2\n",
      "       nlp_g  |  15.00ms (  7.50ms)  15.63ms (  7.81ms)         2\n",
      "  nlp_grad_f  |        0 (       0)        0 (       0)         3\n",
      "  nlp_hess_l  | 173.00ms (173.00ms) 172.62ms (172.62ms)         1\n",
      "   nlp_jac_g  | 220.00ms ( 73.33ms) 219.58ms ( 73.19ms)         3\n",
      "       total  | 408.00ms (408.00ms) 407.82ms (407.82ms)         1\n",
      "starting (time horizon) loop no.  34\n",
      "rk- shape:  (165, 1)\n",
      "w: vertcat(S_0, S_1, S_2, S_3, S_4, S_5, S_6, S_7, S_8, S_9, S_10, S_11, S_12, S_13, S_14, S_15, S_16, S_17, S_18, S_19, S_20, v_0, v_1, v_2, v_3, v_4, v_5, v_6, v_7, v_8, v_9, v_10, v_11, v_12, v_13, v_14, v_15, v_16, v_17, v_18, v_19, p)\n",
      "F1:(i0[165],i1[4])->(o0[84]) MXFunction\n",
      "F2:(i0[165],i1[4])->(o0[80]) MXFunction\n",
      "      solver  :   t_proc      (avg)   t_wall      (avg)    n_eval\n",
      "       nlp_f  |        0 (       0)        0 (       0)         2\n",
      "       nlp_g  |  15.00ms (  7.50ms)  15.61ms (  7.81ms)         2\n",
      "  nlp_grad_f  |        0 (       0)        0 (       0)         3\n",
      "  nlp_hess_l  | 173.00ms (173.00ms) 172.68ms (172.68ms)         1\n",
      "   nlp_jac_g  | 220.00ms ( 73.33ms) 219.56ms ( 73.19ms)         3\n",
      "       total  | 408.00ms (408.00ms) 407.85ms (407.85ms)         1\n",
      "starting (time horizon) loop no.  35\n",
      "rk- shape:  (165, 1)\n",
      "w: vertcat(S_0, S_1, S_2, S_3, S_4, S_5, S_6, S_7, S_8, S_9, S_10, S_11, S_12, S_13, S_14, S_15, S_16, S_17, S_18, S_19, S_20, v_0, v_1, v_2, v_3, v_4, v_5, v_6, v_7, v_8, v_9, v_10, v_11, v_12, v_13, v_14, v_15, v_16, v_17, v_18, v_19, p)\n",
      "F1:(i0[165],i1[4])->(o0[84]) MXFunction\n",
      "F2:(i0[165],i1[4])->(o0[80]) MXFunction\n",
      "      solver  :   t_proc      (avg)   t_wall      (avg)    n_eval\n",
      "       nlp_f  |        0 (       0)        0 (       0)         2\n",
      "       nlp_g  |  15.00ms (  7.50ms)  15.64ms (  7.82ms)         2\n",
      "  nlp_grad_f  |        0 (       0)        0 (       0)         3\n",
      "  nlp_hess_l  | 157.00ms (157.00ms) 156.71ms (156.71ms)         1\n",
      "   nlp_jac_g  | 204.00ms ( 68.00ms) 203.94ms ( 67.98ms)         3\n",
      "       total  | 392.00ms (392.00ms) 391.81ms (391.81ms)         1\n",
      "starting (time horizon) loop no.  36\n",
      "rk- shape:  (165, 1)\n",
      "w: vertcat(S_0, S_1, S_2, S_3, S_4, S_5, S_6, S_7, S_8, S_9, S_10, S_11, S_12, S_13, S_14, S_15, S_16, S_17, S_18, S_19, S_20, v_0, v_1, v_2, v_3, v_4, v_5, v_6, v_7, v_8, v_9, v_10, v_11, v_12, v_13, v_14, v_15, v_16, v_17, v_18, v_19, p)\n",
      "F1:(i0[165],i1[4])->(o0[84]) MXFunction\n",
      "F2:(i0[165],i1[4])->(o0[80]) MXFunction\n",
      "      solver  :   t_proc      (avg)   t_wall      (avg)    n_eval\n",
      "       nlp_f  |        0 (       0)        0 (       0)         2\n",
      "       nlp_g  |        0 (       0)        0 (       0)         2\n",
      "  nlp_grad_f  |        0 (       0)        0 (       0)         3\n",
      "  nlp_hess_l  | 172.00ms (172.00ms) 172.70ms (172.70ms)         1\n",
      "   nlp_jac_g  | 210.00ms ( 70.00ms) 208.79ms ( 69.60ms)         3\n",
      "       total  | 382.00ms (382.00ms) 381.49ms (381.49ms)         1\n",
      "starting (time horizon) loop no.  37\n",
      "rk- shape:  (165, 1)\n",
      "w: vertcat(S_0, S_1, S_2, S_3, S_4, S_5, S_6, S_7, S_8, S_9, S_10, S_11, S_12, S_13, S_14, S_15, S_16, S_17, S_18, S_19, S_20, v_0, v_1, v_2, v_3, v_4, v_5, v_6, v_7, v_8, v_9, v_10, v_11, v_12, v_13, v_14, v_15, v_16, v_17, v_18, v_19, p)\n",
      "F1:(i0[165],i1[4])->(o0[84]) MXFunction\n",
      "F2:(i0[165],i1[4])->(o0[80]) MXFunction\n",
      "      solver  :   t_proc      (avg)   t_wall      (avg)    n_eval\n",
      "       nlp_f  |        0 (       0)        0 (       0)         2\n",
      "       nlp_g  |  16.00ms (  8.00ms)  15.63ms (  7.81ms)         2\n",
      "  nlp_grad_f  |        0 (       0)        0 (       0)         3\n",
      "  nlp_hess_l  | 157.00ms (157.00ms) 157.06ms (157.06ms)         1\n",
      "   nlp_jac_g  | 204.00ms ( 68.00ms) 203.98ms ( 67.99ms)         3\n",
      "       total  | 377.00ms (377.00ms) 376.67ms (376.67ms)         1\n",
      "starting (time horizon) loop no.  38\n",
      "rk- shape:  (165, 1)\n",
      "w: vertcat(S_0, S_1, S_2, S_3, S_4, S_5, S_6, S_7, S_8, S_9, S_10, S_11, S_12, S_13, S_14, S_15, S_16, S_17, S_18, S_19, S_20, v_0, v_1, v_2, v_3, v_4, v_5, v_6, v_7, v_8, v_9, v_10, v_11, v_12, v_13, v_14, v_15, v_16, v_17, v_18, v_19, p)\n",
      "F1:(i0[165],i1[4])->(o0[84]) MXFunction\n",
      "F2:(i0[165],i1[4])->(o0[80]) MXFunction\n",
      "      solver  :   t_proc      (avg)   t_wall      (avg)    n_eval\n",
      "       nlp_f  |        0 (       0)        0 (       0)         2\n",
      "       nlp_g  |   9.00ms (  4.50ms)   9.53ms (  4.76ms)         2\n",
      "  nlp_grad_f  |        0 (       0)        0 (       0)         3\n",
      "  nlp_hess_l  | 157.00ms (157.00ms) 156.68ms (156.68ms)         1\n",
      "   nlp_jac_g  | 195.00ms ( 65.00ms) 195.36ms ( 65.12ms)         3\n",
      "       total  | 361.00ms (361.00ms) 361.57ms (361.57ms)         1\n",
      "starting (time horizon) loop no.  39\n",
      "rk- shape:  (165, 1)\n",
      "w: vertcat(S_0, S_1, S_2, S_3, S_4, S_5, S_6, S_7, S_8, S_9, S_10, S_11, S_12, S_13, S_14, S_15, S_16, S_17, S_18, S_19, S_20, v_0, v_1, v_2, v_3, v_4, v_5, v_6, v_7, v_8, v_9, v_10, v_11, v_12, v_13, v_14, v_15, v_16, v_17, v_18, v_19, p)\n",
      "F1:(i0[165],i1[4])->(o0[84]) MXFunction\n",
      "F2:(i0[165],i1[4])->(o0[80]) MXFunction\n",
      "      solver  :   t_proc      (avg)   t_wall      (avg)    n_eval\n",
      "       nlp_f  |        0 (       0)        0 (       0)         2\n",
      "       nlp_g  |  11.00ms (  5.50ms)  11.01ms (  5.51ms)         2\n",
      "  nlp_grad_f  |        0 (       0)        0 (       0)         3\n",
      "  nlp_hess_l  | 156.00ms (156.00ms) 156.67ms (156.67ms)         1\n",
      "   nlp_jac_g  | 194.00ms ( 64.67ms) 193.45ms ( 64.48ms)         3\n",
      "       total  | 361.00ms (361.00ms) 361.13ms (361.13ms)         1\n",
      "starting (time horizon) loop no.  40\n",
      "rk- shape:  (165, 1)\n",
      "w: vertcat(S_0, S_1, S_2, S_3, S_4, S_5, S_6, S_7, S_8, S_9, S_10, S_11, S_12, S_13, S_14, S_15, S_16, S_17, S_18, S_19, S_20, v_0, v_1, v_2, v_3, v_4, v_5, v_6, v_7, v_8, v_9, v_10, v_11, v_12, v_13, v_14, v_15, v_16, v_17, v_18, v_19, p)\n",
      "F1:(i0[165],i1[4])->(o0[84]) MXFunction\n",
      "F2:(i0[165],i1[4])->(o0[80]) MXFunction\n",
      "      solver  :   t_proc      (avg)   t_wall      (avg)    n_eval\n",
      "       nlp_f  |        0 (       0)        0 (       0)         2\n",
      "       nlp_g  |  16.00ms (  8.00ms)  15.64ms (  7.82ms)         2\n",
      "  nlp_grad_f  |        0 (       0)        0 (       0)         3\n",
      "  nlp_hess_l  | 156.00ms (156.00ms) 156.65ms (156.65ms)         1\n",
      "   nlp_jac_g  | 189.00ms ( 63.00ms) 188.77ms ( 62.92ms)         3\n",
      "       total  | 361.00ms (361.00ms) 361.06ms (361.06ms)         1\n",
      "starting (time horizon) loop no.  41\n",
      "rk- shape:  (165, 1)\n",
      "w: vertcat(S_0, S_1, S_2, S_3, S_4, S_5, S_6, S_7, S_8, S_9, S_10, S_11, S_12, S_13, S_14, S_15, S_16, S_17, S_18, S_19, S_20, v_0, v_1, v_2, v_3, v_4, v_5, v_6, v_7, v_8, v_9, v_10, v_11, v_12, v_13, v_14, v_15, v_16, v_17, v_18, v_19, p)\n",
      "F1:(i0[165],i1[4])->(o0[84]) MXFunction\n",
      "F2:(i0[165],i1[4])->(o0[80]) MXFunction\n",
      "      solver  :   t_proc      (avg)   t_wall      (avg)    n_eval\n",
      "       nlp_f  |        0 (       0)        0 (       0)         2\n",
      "       nlp_g  |        0 (       0)        0 (       0)         2\n",
      "  nlp_grad_f  |        0 (       0)        0 (       0)         3\n",
      "  nlp_hess_l  | 172.00ms (172.00ms) 172.70ms (172.70ms)         1\n",
      "   nlp_jac_g  | 189.00ms ( 63.00ms) 187.95ms ( 62.65ms)         3\n",
      "       total  | 361.00ms (361.00ms) 360.65ms (360.65ms)         1\n",
      "starting (time horizon) loop no.  42\n",
      "rk- shape:  (165, 1)\n",
      "w: vertcat(S_0, S_1, S_2, S_3, S_4, S_5, S_6, S_7, S_8, S_9, S_10, S_11, S_12, S_13, S_14, S_15, S_16, S_17, S_18, S_19, S_20, v_0, v_1, v_2, v_3, v_4, v_5, v_6, v_7, v_8, v_9, v_10, v_11, v_12, v_13, v_14, v_15, v_16, v_17, v_18, v_19, p)\n",
      "F1:(i0[165],i1[4])->(o0[84]) MXFunction\n",
      "F2:(i0[165],i1[4])->(o0[80]) MXFunction\n",
      "      solver  :   t_proc      (avg)   t_wall      (avg)    n_eval\n",
      "       nlp_f  |        0 (       0)        0 (       0)         2\n",
      "       nlp_g  |  16.00ms (  8.00ms)  15.63ms (  7.81ms)         2\n",
      "  nlp_grad_f  |        0 (       0)        0 (       0)         3\n",
      "  nlp_hess_l  | 141.00ms (141.00ms) 141.44ms (141.44ms)         1\n",
      "   nlp_jac_g  | 188.00ms ( 62.67ms) 187.96ms ( 62.65ms)         3\n",
      "       total  | 361.00ms (361.00ms) 360.68ms (360.68ms)         1\n",
      "starting (time horizon) loop no.  43\n",
      "rk- shape:  (165, 1)\n",
      "w: vertcat(S_0, S_1, S_2, S_3, S_4, S_5, S_6, S_7, S_8, S_9, S_10, S_11, S_12, S_13, S_14, S_15, S_16, S_17, S_18, S_19, S_20, v_0, v_1, v_2, v_3, v_4, v_5, v_6, v_7, v_8, v_9, v_10, v_11, v_12, v_13, v_14, v_15, v_16, v_17, v_18, v_19, p)\n",
      "F1:(i0[165],i1[4])->(o0[84]) MXFunction\n",
      "F2:(i0[165],i1[4])->(o0[80]) MXFunction\n",
      "      solver  :   t_proc      (avg)   t_wall      (avg)    n_eval\n",
      "       nlp_f  |        0 (       0)        0 (       0)         2\n",
      "       nlp_g  |        0 (       0)        0 (       0)         2\n",
      "  nlp_grad_f  |        0 (       0)        0 (       0)         3\n",
      "  nlp_hess_l  | 157.00ms (157.00ms) 157.07ms (157.07ms)         1\n",
      "   nlp_jac_g  | 206.00ms ( 68.67ms) 206.62ms ( 68.87ms)         3\n",
      "       total  | 379.00ms (379.00ms) 379.32ms (379.32ms)         1\n",
      "starting (time horizon) loop no.  44\n",
      "rk- shape:  (165, 1)\n",
      "w: vertcat(S_0, S_1, S_2, S_3, S_4, S_5, S_6, S_7, S_8, S_9, S_10, S_11, S_12, S_13, S_14, S_15, S_16, S_17, S_18, S_19, S_20, v_0, v_1, v_2, v_3, v_4, v_5, v_6, v_7, v_8, v_9, v_10, v_11, v_12, v_13, v_14, v_15, v_16, v_17, v_18, v_19, p)\n",
      "F1:(i0[165],i1[4])->(o0[84]) MXFunction\n",
      "F2:(i0[165],i1[4])->(o0[80]) MXFunction\n",
      "      solver  :   t_proc      (avg)   t_wall      (avg)    n_eval\n",
      "       nlp_f  |        0 (       0)        0 (       0)         2\n",
      "       nlp_g  |        0 (       0)        0 (       0)         2\n",
      "  nlp_grad_f  |        0 (       0)        0 (       0)         3\n",
      "  nlp_hess_l  | 157.00ms (157.00ms) 157.14ms (157.14ms)         1\n",
      "   nlp_jac_g  | 197.00ms ( 65.67ms) 196.47ms ( 65.49ms)         3\n",
      "       total  | 355.00ms (355.00ms) 354.65ms (354.65ms)         1\n",
      "starting (time horizon) loop no.  45\n",
      "rk- shape:  (165, 1)\n",
      "w: vertcat(S_0, S_1, S_2, S_3, S_4, S_5, S_6, S_7, S_8, S_9, S_10, S_11, S_12, S_13, S_14, S_15, S_16, S_17, S_18, S_19, S_20, v_0, v_1, v_2, v_3, v_4, v_5, v_6, v_7, v_8, v_9, v_10, v_11, v_12, v_13, v_14, v_15, v_16, v_17, v_18, v_19, p)\n",
      "F1:(i0[165],i1[4])->(o0[84]) MXFunction\n",
      "F2:(i0[165],i1[4])->(o0[80]) MXFunction\n",
      "      solver  :   t_proc      (avg)   t_wall      (avg)    n_eval\n",
      "       nlp_f  |        0 (       0)        0 (       0)         2\n",
      "       nlp_g  |  16.00ms (  8.00ms)  15.63ms (  7.82ms)         2\n",
      "  nlp_grad_f  |        0 (       0)        0 (       0)         3\n",
      "  nlp_hess_l  | 157.00ms (157.00ms) 157.10ms (157.10ms)         1\n",
      "   nlp_jac_g  | 273.00ms ( 91.00ms) 273.50ms ( 91.17ms)         3\n",
      "       total  | 446.00ms (446.00ms) 446.24ms (446.24ms)         1\n",
      "starting (time horizon) loop no.  46\n",
      "rk- shape:  (165, 1)\n",
      "w: vertcat(S_0, S_1, S_2, S_3, S_4, S_5, S_6, S_7, S_8, S_9, S_10, S_11, S_12, S_13, S_14, S_15, S_16, S_17, S_18, S_19, S_20, v_0, v_1, v_2, v_3, v_4, v_5, v_6, v_7, v_8, v_9, v_10, v_11, v_12, v_13, v_14, v_15, v_16, v_17, v_18, v_19, p)\n",
      "F1:(i0[165],i1[4])->(o0[84]) MXFunction\n",
      "F2:(i0[165],i1[4])->(o0[80]) MXFunction\n",
      "      solver  :   t_proc      (avg)   t_wall      (avg)    n_eval\n",
      "       nlp_f  |        0 (       0)        0 (       0)         2\n",
      "       nlp_g  |        0 (       0)        0 (       0)         2\n",
      "  nlp_grad_f  |        0 (       0)        0 (       0)         3\n",
      "  nlp_hess_l  | 298.00ms (298.00ms) 298.11ms (298.11ms)         1\n",
      "   nlp_jac_g  | 439.00ms (146.33ms) 438.62ms (146.21ms)         3\n",
      "       total  | 737.00ms (737.00ms) 736.73ms (736.73ms)         1\n",
      "starting (time horizon) loop no.  47\n",
      "rk- shape:  (165, 1)\n",
      "w: vertcat(S_0, S_1, S_2, S_3, S_4, S_5, S_6, S_7, S_8, S_9, S_10, S_11, S_12, S_13, S_14, S_15, S_16, S_17, S_18, S_19, S_20, v_0, v_1, v_2, v_3, v_4, v_5, v_6, v_7, v_8, v_9, v_10, v_11, v_12, v_13, v_14, v_15, v_16, v_17, v_18, v_19, p)\n",
      "F1:(i0[165],i1[4])->(o0[84]) MXFunction\n",
      "F2:(i0[165],i1[4])->(o0[80]) MXFunction\n",
      "      solver  :   t_proc      (avg)   t_wall      (avg)    n_eval\n",
      "       nlp_f  |        0 (       0)        0 (       0)         2\n",
      "       nlp_g  |  31.00ms ( 15.50ms)  30.63ms ( 15.32ms)         2\n",
      "  nlp_grad_f  |        0 (       0)        0 (       0)         3\n",
      "  nlp_hess_l  | 346.00ms (346.00ms) 346.04ms (346.04ms)         1\n",
      "   nlp_jac_g  | 376.00ms (125.33ms) 376.27ms (125.42ms)         3\n",
      "       total  | 753.00ms (753.00ms) 752.94ms (752.94ms)         1\n",
      "starting (time horizon) loop no.  48\n",
      "rk- shape:  (165, 1)\n",
      "w: vertcat(S_0, S_1, S_2, S_3, S_4, S_5, S_6, S_7, S_8, S_9, S_10, S_11, S_12, S_13, S_14, S_15, S_16, S_17, S_18, S_19, S_20, v_0, v_1, v_2, v_3, v_4, v_5, v_6, v_7, v_8, v_9, v_10, v_11, v_12, v_13, v_14, v_15, v_16, v_17, v_18, v_19, p)\n",
      "F1:(i0[165],i1[4])->(o0[84]) MXFunction\n",
      "F2:(i0[165],i1[4])->(o0[80]) MXFunction\n",
      "      solver  :   t_proc      (avg)   t_wall      (avg)    n_eval\n",
      "       nlp_f  |        0 (       0)        0 (       0)         2\n",
      "       nlp_g  |  16.00ms (  8.00ms)  16.03ms (  8.01ms)         2\n",
      "  nlp_grad_f  |        0 (       0)        0 (       0)         3\n",
      "  nlp_hess_l  | 194.00ms (194.00ms) 193.92ms (193.92ms)         1\n",
      "   nlp_jac_g  | 292.00ms ( 97.33ms) 291.64ms ( 97.21ms)         3\n",
      "       total  | 502.00ms (502.00ms) 501.60ms (501.60ms)         1\n",
      "starting (time horizon) loop no.  49\n",
      "rk- shape:  (165, 1)\n",
      "w: vertcat(S_0, S_1, S_2, S_3, S_4, S_5, S_6, S_7, S_8, S_9, S_10, S_11, S_12, S_13, S_14, S_15, S_16, S_17, S_18, S_19, S_20, v_0, v_1, v_2, v_3, v_4, v_5, v_6, v_7, v_8, v_9, v_10, v_11, v_12, v_13, v_14, v_15, v_16, v_17, v_18, v_19, p)\n",
      "F1:(i0[165],i1[4])->(o0[84]) MXFunction\n",
      "F2:(i0[165],i1[4])->(o0[80]) MXFunction\n",
      "      solver  :   t_proc      (avg)   t_wall      (avg)    n_eval\n",
      "       nlp_f  |        0 (       0)        0 (       0)         2\n",
      "       nlp_g  |  15.00ms (  7.50ms)  15.63ms (  7.81ms)         2\n",
      "  nlp_grad_f  |        0 (       0)        0 (       0)         3\n",
      "  nlp_hess_l  | 299.00ms (299.00ms) 298.16ms (298.16ms)         1\n",
      "   nlp_jac_g  | 381.00ms (127.00ms) 381.22ms (127.07ms)         3\n",
      "       total  | 726.00ms (726.00ms) 726.27ms (726.27ms)         1\n",
      "starting (time horizon) loop no.  50\n",
      "rk- shape:  (165, 1)\n",
      "w: vertcat(S_0, S_1, S_2, S_3, S_4, S_5, S_6, S_7, S_8, S_9, S_10, S_11, S_12, S_13, S_14, S_15, S_16, S_17, S_18, S_19, S_20, v_0, v_1, v_2, v_3, v_4, v_5, v_6, v_7, v_8, v_9, v_10, v_11, v_12, v_13, v_14, v_15, v_16, v_17, v_18, v_19, p)\n",
      "F1:(i0[165],i1[4])->(o0[84]) MXFunction\n",
      "F2:(i0[165],i1[4])->(o0[80]) MXFunction\n",
      "      solver  :   t_proc      (avg)   t_wall      (avg)    n_eval\n",
      "       nlp_f  |        0 (       0)        0 (       0)         2\n",
      "       nlp_g  |  31.00ms ( 15.50ms)  31.26ms ( 15.63ms)         2\n",
      "  nlp_grad_f  |        0 (       0)        0 (       0)         3\n",
      "  nlp_hess_l  | 313.00ms (313.00ms) 313.22ms (313.22ms)         1\n",
      "   nlp_jac_g  | 377.00ms (125.67ms) 376.64ms (125.55ms)         3\n",
      "       total  | 721.00ms (721.00ms) 721.13ms (721.13ms)         1\n",
      "starting (time horizon) loop no.  51\n",
      "rk- shape:  (165, 1)\n",
      "w: vertcat(S_0, S_1, S_2, S_3, S_4, S_5, S_6, S_7, S_8, S_9, S_10, S_11, S_12, S_13, S_14, S_15, S_16, S_17, S_18, S_19, S_20, v_0, v_1, v_2, v_3, v_4, v_5, v_6, v_7, v_8, v_9, v_10, v_11, v_12, v_13, v_14, v_15, v_16, v_17, v_18, v_19, p)\n",
      "F1:(i0[165],i1[4])->(o0[84]) MXFunction\n",
      "F2:(i0[165],i1[4])->(o0[80]) MXFunction\n",
      "      solver  :   t_proc      (avg)   t_wall      (avg)    n_eval\n",
      "       nlp_f  |        0 (       0)        0 (       0)         2\n",
      "       nlp_g  |  30.00ms ( 15.00ms)  31.25ms ( 15.63ms)         2\n",
      "  nlp_grad_f  |        0 (       0)        0 (       0)         3\n",
      "  nlp_hess_l  | 283.00ms (283.00ms) 282.50ms (282.50ms)         1\n",
      "   nlp_jac_g  | 377.00ms (125.67ms) 376.83ms (125.61ms)         3\n",
      "       total  | 690.00ms (690.00ms) 690.59ms (690.59ms)         1\n",
      "starting (time horizon) loop no.  52\n",
      "rk- shape:  (165, 1)\n",
      "w: vertcat(S_0, S_1, S_2, S_3, S_4, S_5, S_6, S_7, S_8, S_9, S_10, S_11, S_12, S_13, S_14, S_15, S_16, S_17, S_18, S_19, S_20, v_0, v_1, v_2, v_3, v_4, v_5, v_6, v_7, v_8, v_9, v_10, v_11, v_12, v_13, v_14, v_15, v_16, v_17, v_18, v_19, p)\n",
      "F1:(i0[165],i1[4])->(o0[84]) MXFunction\n",
      "F2:(i0[165],i1[4])->(o0[80]) MXFunction\n",
      "      solver  :   t_proc      (avg)   t_wall      (avg)    n_eval\n",
      "       nlp_f  |        0 (       0)        0 (       0)         2\n",
      "       nlp_g  |   9.00ms (  4.50ms)   9.03ms (  4.52ms)         2\n",
      "  nlp_grad_f  |        0 (       0)        0 (       0)         3\n",
      "  nlp_hess_l  | 282.00ms (282.00ms) 282.13ms (282.13ms)         1\n",
      "   nlp_jac_g  | 384.00ms (128.00ms) 383.71ms (127.90ms)         3\n",
      "       total  | 675.00ms (675.00ms) 674.87ms (674.87ms)         1\n",
      "starting (time horizon) loop no.  53\n",
      "rk- shape:  (165, 1)\n",
      "w: vertcat(S_0, S_1, S_2, S_3, S_4, S_5, S_6, S_7, S_8, S_9, S_10, S_11, S_12, S_13, S_14, S_15, S_16, S_17, S_18, S_19, S_20, v_0, v_1, v_2, v_3, v_4, v_5, v_6, v_7, v_8, v_9, v_10, v_11, v_12, v_13, v_14, v_15, v_16, v_17, v_18, v_19, p)\n",
      "F1:(i0[165],i1[4])->(o0[84]) MXFunction\n",
      "F2:(i0[165],i1[4])->(o0[80]) MXFunction\n",
      "      solver  :   t_proc      (avg)   t_wall      (avg)    n_eval\n",
      "       nlp_f  |        0 (       0)        0 (       0)         2\n",
      "       nlp_g  |  16.00ms (  8.00ms)  15.63ms (  7.82ms)         2\n",
      "  nlp_grad_f  |        0 (       0)        0 (       0)         3\n",
      "  nlp_hess_l  | 283.00ms (283.00ms) 282.47ms (282.47ms)         1\n",
      "   nlp_jac_g  | 360.00ms (120.00ms) 361.00ms (120.33ms)         3\n",
      "       total  | 675.00ms (675.00ms) 674.73ms (674.73ms)         1\n",
      "starting (time horizon) loop no.  54\n",
      "rk- shape:  (165, 1)\n",
      "w: vertcat(S_0, S_1, S_2, S_3, S_4, S_5, S_6, S_7, S_8, S_9, S_10, S_11, S_12, S_13, S_14, S_15, S_16, S_17, S_18, S_19, S_20, v_0, v_1, v_2, v_3, v_4, v_5, v_6, v_7, v_8, v_9, v_10, v_11, v_12, v_13, v_14, v_15, v_16, v_17, v_18, v_19, p)\n",
      "F1:(i0[165],i1[4])->(o0[84]) MXFunction\n",
      "F2:(i0[165],i1[4])->(o0[80]) MXFunction\n",
      "      solver  :   t_proc      (avg)   t_wall      (avg)    n_eval\n",
      "       nlp_f  |        0 (       0)        0 (       0)         2\n",
      "       nlp_g  |  32.00ms ( 16.00ms)  31.24ms ( 15.62ms)         2\n",
      "  nlp_grad_f  |        0 (       0)        0 (       0)         3\n",
      "  nlp_hess_l  | 267.00ms (267.00ms) 267.04ms (267.04ms)         1\n",
      "   nlp_jac_g  | 376.00ms (125.33ms) 376.74ms (125.58ms)         3\n",
      "       total  | 675.00ms (675.00ms) 675.02ms (675.02ms)         1\n",
      "starting (time horizon) loop no.  55\n",
      "rk- shape:  (165, 1)\n",
      "w: vertcat(S_0, S_1, S_2, S_3, S_4, S_5, S_6, S_7, S_8, S_9, S_10, S_11, S_12, S_13, S_14, S_15, S_16, S_17, S_18, S_19, S_20, v_0, v_1, v_2, v_3, v_4, v_5, v_6, v_7, v_8, v_9, v_10, v_11, v_12, v_13, v_14, v_15, v_16, v_17, v_18, v_19, p)\n",
      "F1:(i0[165],i1[4])->(o0[84]) MXFunction\n",
      "F2:(i0[165],i1[4])->(o0[80]) MXFunction\n",
      "      solver  :   t_proc      (avg)   t_wall      (avg)    n_eval\n",
      "       nlp_f  |        0 (       0)        0 (       0)         2\n",
      "       nlp_g  |  31.00ms ( 15.50ms)  31.26ms ( 15.63ms)         2\n",
      "  nlp_grad_f  |        0 (       0)        0 (       0)         3\n",
      "  nlp_hess_l  | 267.00ms (267.00ms) 266.95ms (266.95ms)         1\n",
      "   nlp_jac_g  | 376.00ms (125.33ms) 376.31ms (125.44ms)         3\n",
      "       total  | 674.00ms (674.00ms) 674.52ms (674.52ms)         1\n",
      "starting (time horizon) loop no.  56\n",
      "rk- shape:  (165, 1)\n",
      "w: vertcat(S_0, S_1, S_2, S_3, S_4, S_5, S_6, S_7, S_8, S_9, S_10, S_11, S_12, S_13, S_14, S_15, S_16, S_17, S_18, S_19, S_20, v_0, v_1, v_2, v_3, v_4, v_5, v_6, v_7, v_8, v_9, v_10, v_11, v_12, v_13, v_14, v_15, v_16, v_17, v_18, v_19, p)\n",
      "F1:(i0[165],i1[4])->(o0[84]) MXFunction\n",
      "F2:(i0[165],i1[4])->(o0[80]) MXFunction\n",
      "      solver  :   t_proc      (avg)   t_wall      (avg)    n_eval\n",
      "       nlp_f  |        0 (       0)        0 (       0)         2\n",
      "       nlp_g  |  18.00ms (  9.00ms)  17.65ms (  8.82ms)         2\n",
      "  nlp_grad_f  |        0 (       0)        0 (       0)         3\n",
      "  nlp_hess_l  | 280.00ms (280.00ms) 280.52ms (280.52ms)         1\n",
      "   nlp_jac_g  | 377.00ms (125.67ms) 376.73ms (125.58ms)         3\n",
      "       total  | 675.00ms (675.00ms) 674.89ms (674.89ms)         1\n",
      "starting (time horizon) loop no.  57\n",
      "rk- shape:  (165, 1)\n",
      "w: vertcat(S_0, S_1, S_2, S_3, S_4, S_5, S_6, S_7, S_8, S_9, S_10, S_11, S_12, S_13, S_14, S_15, S_16, S_17, S_18, S_19, S_20, v_0, v_1, v_2, v_3, v_4, v_5, v_6, v_7, v_8, v_9, v_10, v_11, v_12, v_13, v_14, v_15, v_16, v_17, v_18, v_19, p)\n",
      "F1:(i0[165],i1[4])->(o0[84]) MXFunction\n",
      "F2:(i0[165],i1[4])->(o0[80]) MXFunction\n",
      "      solver  :   t_proc      (avg)   t_wall      (avg)    n_eval\n",
      "       nlp_f  |        0 (       0)        0 (       0)         2\n",
      "       nlp_g  |  16.00ms (  8.00ms)  15.64ms (  7.82ms)         2\n",
      "  nlp_grad_f  |        0 (       0)        0 (       0)         3\n",
      "  nlp_hess_l  | 272.00ms (272.00ms) 272.44ms (272.44ms)         1\n",
      "   nlp_jac_g  | 386.00ms (128.67ms) 386.52ms (128.84ms)         3\n",
      "       total  | 674.00ms (674.00ms) 674.60ms (674.60ms)         1\n",
      "starting (time horizon) loop no.  58\n",
      "rk- shape:  (165, 1)\n",
      "w: vertcat(S_0, S_1, S_2, S_3, S_4, S_5, S_6, S_7, S_8, S_9, S_10, S_11, S_12, S_13, S_14, S_15, S_16, S_17, S_18, S_19, S_20, v_0, v_1, v_2, v_3, v_4, v_5, v_6, v_7, v_8, v_9, v_10, v_11, v_12, v_13, v_14, v_15, v_16, v_17, v_18, v_19, p)\n",
      "F1:(i0[165],i1[4])->(o0[84]) MXFunction\n",
      "F2:(i0[165],i1[4])->(o0[80]) MXFunction\n",
      "      solver  :   t_proc      (avg)   t_wall      (avg)    n_eval\n",
      "       nlp_f  |        0 (       0)        0 (       0)         2\n",
      "       nlp_g  |  15.00ms (  7.50ms)  15.63ms (  7.81ms)         2\n",
      "  nlp_grad_f  |        0 (       0)        0 (       0)         3\n",
      "  nlp_hess_l  | 267.00ms (267.00ms) 266.92ms (266.92ms)         1\n",
      "   nlp_jac_g  | 408.00ms (136.00ms) 408.03ms (136.01ms)         3\n",
      "       total  | 690.00ms (690.00ms) 690.58ms (690.58ms)         1\n",
      "starting (time horizon) loop no.  59\n",
      "rk- shape:  (165, 1)\n",
      "w: vertcat(S_0, S_1, S_2, S_3, S_4, S_5, S_6, S_7, S_8, S_9, S_10, S_11, S_12, S_13, S_14, S_15, S_16, S_17, S_18, S_19, S_20, v_0, v_1, v_2, v_3, v_4, v_5, v_6, v_7, v_8, v_9, v_10, v_11, v_12, v_13, v_14, v_15, v_16, v_17, v_18, v_19, p)\n",
      "F1:(i0[165],i1[4])->(o0[84]) MXFunction\n",
      "F2:(i0[165],i1[4])->(o0[80]) MXFunction\n",
      "      solver  :   t_proc      (avg)   t_wall      (avg)    n_eval\n",
      "       nlp_f  |        0 (       0)        0 (       0)         2\n",
      "       nlp_g  |  15.00ms (  7.50ms)  15.62ms (  7.81ms)         2\n",
      "  nlp_grad_f  |        0 (       0)        0 (       0)         3\n",
      "  nlp_hess_l  | 267.00ms (267.00ms) 266.85ms (266.85ms)         1\n",
      "   nlp_jac_g  | 392.00ms (130.67ms) 392.30ms (130.77ms)         3\n",
      "       total  | 674.00ms (674.00ms) 674.78ms (674.78ms)         1\n",
      "starting (time horizon) loop no.  60\n",
      "rk- shape:  (165, 1)\n",
      "w: vertcat(S_0, S_1, S_2, S_3, S_4, S_5, S_6, S_7, S_8, S_9, S_10, S_11, S_12, S_13, S_14, S_15, S_16, S_17, S_18, S_19, S_20, v_0, v_1, v_2, v_3, v_4, v_5, v_6, v_7, v_8, v_9, v_10, v_11, v_12, v_13, v_14, v_15, v_16, v_17, v_18, v_19, p)\n",
      "F1:(i0[165],i1[4])->(o0[84]) MXFunction\n",
      "F2:(i0[165],i1[4])->(o0[80]) MXFunction\n",
      "      solver  :   t_proc      (avg)   t_wall      (avg)    n_eval\n",
      "       nlp_f  |        0 (       0)        0 (       0)         2\n",
      "       nlp_g  |  15.00ms (  7.50ms)  15.63ms (  7.82ms)         2\n",
      "  nlp_grad_f  |        0 (       0)        0 (       0)         3\n",
      "  nlp_hess_l  | 267.00ms (267.00ms) 266.87ms (266.87ms)         1\n",
      "   nlp_jac_g  | 382.00ms (127.33ms) 380.77ms (126.92ms)         3\n",
      "       total  | 664.00ms (664.00ms) 663.27ms (663.27ms)         1\n",
      "starting (time horizon) loop no.  61\n",
      "rk- shape:  (165, 1)\n",
      "w: vertcat(S_0, S_1, S_2, S_3, S_4, S_5, S_6, S_7, S_8, S_9, S_10, S_11, S_12, S_13, S_14, S_15, S_16, S_17, S_18, S_19, S_20, v_0, v_1, v_2, v_3, v_4, v_5, v_6, v_7, v_8, v_9, v_10, v_11, v_12, v_13, v_14, v_15, v_16, v_17, v_18, v_19, p)\n",
      "F1:(i0[165],i1[4])->(o0[84]) MXFunction\n",
      "F2:(i0[165],i1[4])->(o0[80]) MXFunction\n",
      "      solver  :   t_proc      (avg)   t_wall      (avg)    n_eval\n",
      "       nlp_f  |        0 (       0)        0 (       0)         2\n",
      "       nlp_g  |  16.00ms (  8.00ms)  15.62ms (  7.81ms)         2\n",
      "  nlp_grad_f  |        0 (       0)        0 (       0)         3\n",
      "  nlp_hess_l  | 282.00ms (282.00ms) 282.69ms (282.69ms)         1\n",
      "   nlp_jac_g  | 377.00ms (125.67ms) 376.47ms (125.49ms)         3\n",
      "       total  | 675.00ms (675.00ms) 674.79ms (674.79ms)         1\n",
      "starting (time horizon) loop no.  62\n",
      "rk- shape:  (165, 1)\n",
      "w: vertcat(S_0, S_1, S_2, S_3, S_4, S_5, S_6, S_7, S_8, S_9, S_10, S_11, S_12, S_13, S_14, S_15, S_16, S_17, S_18, S_19, S_20, v_0, v_1, v_2, v_3, v_4, v_5, v_6, v_7, v_8, v_9, v_10, v_11, v_12, v_13, v_14, v_15, v_16, v_17, v_18, v_19, p)\n",
      "F1:(i0[165],i1[4])->(o0[84]) MXFunction\n",
      "F2:(i0[165],i1[4])->(o0[80]) MXFunction\n",
      "      solver  :   t_proc      (avg)   t_wall      (avg)    n_eval\n",
      "       nlp_f  |        0 (       0)        0 (       0)         2\n",
      "       nlp_g  |  32.00ms ( 16.00ms)  32.27ms ( 16.13ms)         2\n",
      "  nlp_grad_f  |        0 (       0)        0 (       0)         3\n",
      "  nlp_hess_l  | 266.00ms (266.00ms) 265.84ms (265.84ms)         1\n",
      "   nlp_jac_g  | 377.00ms (125.67ms) 376.71ms (125.57ms)         3\n",
      "       total  | 675.00ms (675.00ms) 674.82ms (674.82ms)         1\n",
      "starting (time horizon) loop no.  63\n",
      "rk- shape:  (165, 1)\n",
      "w: vertcat(S_0, S_1, S_2, S_3, S_4, S_5, S_6, S_7, S_8, S_9, S_10, S_11, S_12, S_13, S_14, S_15, S_16, S_17, S_18, S_19, S_20, v_0, v_1, v_2, v_3, v_4, v_5, v_6, v_7, v_8, v_9, v_10, v_11, v_12, v_13, v_14, v_15, v_16, v_17, v_18, v_19, p)\n",
      "F1:(i0[165],i1[4])->(o0[84]) MXFunction\n",
      "F2:(i0[165],i1[4])->(o0[80]) MXFunction\n",
      "      solver  :   t_proc      (avg)   t_wall      (avg)    n_eval\n",
      "       nlp_f  |        0 (       0)        0 (       0)         2\n",
      "       nlp_g  |  28.00ms ( 14.00ms)  28.64ms ( 14.32ms)         2\n",
      "  nlp_grad_f  |        0 (       0)        0 (       0)         3\n",
      "  nlp_hess_l  | 267.00ms (267.00ms) 266.46ms (266.46ms)         1\n",
      "   nlp_jac_g  | 380.00ms (126.67ms) 379.72ms (126.57ms)         3\n",
      "       total  | 675.00ms (675.00ms) 674.83ms (674.83ms)         1\n",
      "starting (time horizon) loop no.  64\n",
      "rk- shape:  (165, 1)\n",
      "w: vertcat(S_0, S_1, S_2, S_3, S_4, S_5, S_6, S_7, S_8, S_9, S_10, S_11, S_12, S_13, S_14, S_15, S_16, S_17, S_18, S_19, S_20, v_0, v_1, v_2, v_3, v_4, v_5, v_6, v_7, v_8, v_9, v_10, v_11, v_12, v_13, v_14, v_15, v_16, v_17, v_18, v_19, p)\n",
      "F1:(i0[165],i1[4])->(o0[84]) MXFunction\n",
      "F2:(i0[165],i1[4])->(o0[80]) MXFunction\n",
      "      solver  :   t_proc      (avg)   t_wall      (avg)    n_eval\n",
      "       nlp_f  |        0 (       0)        0 (       0)         2\n",
      "       nlp_g  |  27.00ms ( 13.50ms)  27.14ms ( 13.57ms)         2\n",
      "  nlp_grad_f  |        0 (       0)        0 (       0)         3\n",
      "  nlp_hess_l  | 267.00ms (267.00ms) 266.46ms (266.46ms)         1\n",
      "   nlp_jac_g  | 365.00ms (121.67ms) 365.70ms (121.90ms)         3\n",
      "       total  | 659.00ms (659.00ms) 659.30ms (659.30ms)         1\n",
      "starting (time horizon) loop no.  65\n",
      "rk- shape:  (165, 1)\n",
      "w: vertcat(S_0, S_1, S_2, S_3, S_4, S_5, S_6, S_7, S_8, S_9, S_10, S_11, S_12, S_13, S_14, S_15, S_16, S_17, S_18, S_19, S_20, v_0, v_1, v_2, v_3, v_4, v_5, v_6, v_7, v_8, v_9, v_10, v_11, v_12, v_13, v_14, v_15, v_16, v_17, v_18, v_19, p)\n",
      "F1:(i0[165],i1[4])->(o0[84]) MXFunction\n",
      "F2:(i0[165],i1[4])->(o0[80]) MXFunction\n",
      "      solver  :   t_proc      (avg)   t_wall      (avg)    n_eval\n",
      "       nlp_f  |        0 (       0)        0 (       0)         2\n",
      "       nlp_g  |   8.00ms (  4.00ms)   8.01ms (  4.00ms)         2\n",
      "  nlp_grad_f  |        0 (       0)        0 (       0)         3\n",
      "  nlp_hess_l  | 274.00ms (274.00ms) 274.51ms (274.51ms)         1\n",
      "   nlp_jac_g  | 377.00ms (125.67ms) 376.75ms (125.58ms)         3\n",
      "       total  | 675.00ms (675.00ms) 674.90ms (674.90ms)         1\n",
      "starting (time horizon) loop no.  66\n",
      "rk- shape:  (165, 1)\n",
      "w: vertcat(S_0, S_1, S_2, S_3, S_4, S_5, S_6, S_7, S_8, S_9, S_10, S_11, S_12, S_13, S_14, S_15, S_16, S_17, S_18, S_19, S_20, v_0, v_1, v_2, v_3, v_4, v_5, v_6, v_7, v_8, v_9, v_10, v_11, v_12, v_13, v_14, v_15, v_16, v_17, v_18, v_19, p)\n",
      "F1:(i0[165],i1[4])->(o0[84]) MXFunction\n",
      "F2:(i0[165],i1[4])->(o0[80]) MXFunction\n",
      "      solver  :   t_proc      (avg)   t_wall      (avg)    n_eval\n",
      "       nlp_f  |        0 (       0)        0 (       0)         2\n",
      "       nlp_g  |        0 (       0)        0 (       0)         2\n",
      "  nlp_grad_f  |        0 (       0)        0 (       0)         3\n",
      "  nlp_hess_l  | 282.00ms (282.00ms) 282.53ms (282.53ms)         1\n",
      "   nlp_jac_g  | 345.00ms (115.00ms) 344.94ms (114.98ms)         3\n",
      "       total  | 643.00ms (643.00ms) 643.12ms (643.12ms)         1\n",
      "starting (time horizon) loop no.  67\n",
      "rk- shape:  (165, 1)\n",
      "w: vertcat(S_0, S_1, S_2, S_3, S_4, S_5, S_6, S_7, S_8, S_9, S_10, S_11, S_12, S_13, S_14, S_15, S_16, S_17, S_18, S_19, S_20, v_0, v_1, v_2, v_3, v_4, v_5, v_6, v_7, v_8, v_9, v_10, v_11, v_12, v_13, v_14, v_15, v_16, v_17, v_18, v_19, p)\n",
      "F1:(i0[165],i1[4])->(o0[84]) MXFunction\n",
      "F2:(i0[165],i1[4])->(o0[80]) MXFunction\n",
      "      solver  :   t_proc      (avg)   t_wall      (avg)    n_eval\n",
      "       nlp_f  |        0 (       0)        0 (       0)         2\n",
      "       nlp_g  |   6.00ms (  3.00ms)   5.53ms (  2.77ms)         2\n",
      "  nlp_grad_f  |        0 (       0)        0 (       0)         3\n",
      "  nlp_hess_l  | 235.00ms (235.00ms) 235.21ms (235.21ms)         1\n",
      "   nlp_jac_g  | 308.00ms (102.67ms) 308.74ms (102.91ms)         3\n",
      "       total  | 549.00ms (549.00ms) 549.48ms (549.48ms)         1\n",
      "starting (time horizon) loop no.  68\n",
      "rk- shape:  (165, 1)\n",
      "w: vertcat(S_0, S_1, S_2, S_3, S_4, S_5, S_6, S_7, S_8, S_9, S_10, S_11, S_12, S_13, S_14, S_15, S_16, S_17, S_18, S_19, S_20, v_0, v_1, v_2, v_3, v_4, v_5, v_6, v_7, v_8, v_9, v_10, v_11, v_12, v_13, v_14, v_15, v_16, v_17, v_18, v_19, p)\n",
      "F1:(i0[165],i1[4])->(o0[84]) MXFunction\n",
      "F2:(i0[165],i1[4])->(o0[80]) MXFunction\n",
      "      solver  :   t_proc      (avg)   t_wall      (avg)    n_eval\n",
      "       nlp_f  |        0 (       0)        0 (       0)         2\n",
      "       nlp_g  |        0 (       0)        0 (       0)         2\n",
      "  nlp_grad_f  |        0 (       0)        0 (       0)         3\n",
      "  nlp_hess_l  | 267.00ms (267.00ms) 266.85ms (266.85ms)         1\n",
      "   nlp_jac_g  | 330.00ms (110.00ms) 329.41ms (109.80ms)         3\n",
      "       total  | 597.00ms (597.00ms) 596.26ms (596.26ms)         1\n",
      "starting (time horizon) loop no.  69\n",
      "rk- shape:  (165, 1)\n",
      "w: vertcat(S_0, S_1, S_2, S_3, S_4, S_5, S_6, S_7, S_8, S_9, S_10, S_11, S_12, S_13, S_14, S_15, S_16, S_17, S_18, S_19, S_20, v_0, v_1, v_2, v_3, v_4, v_5, v_6, v_7, v_8, v_9, v_10, v_11, v_12, v_13, v_14, v_15, v_16, v_17, v_18, v_19, p)\n",
      "F1:(i0[165],i1[4])->(o0[84]) MXFunction\n",
      "F2:(i0[165],i1[4])->(o0[80]) MXFunction\n",
      "      solver  :   t_proc      (avg)   t_wall      (avg)    n_eval\n",
      "       nlp_f  |        0 (       0)        0 (       0)         2\n",
      "       nlp_g  |  16.00ms (  8.00ms)  15.63ms (  7.81ms)         2\n",
      "  nlp_grad_f  |        0 (       0)        0 (       0)         3\n",
      "  nlp_hess_l  | 283.00ms (283.00ms) 282.51ms (282.51ms)         1\n",
      "   nlp_jac_g  | 360.00ms (120.00ms) 361.15ms (120.38ms)         3\n",
      "       total  | 659.00ms (659.00ms) 659.29ms (659.29ms)         1\n",
      "starting (time horizon) loop no.  70\n",
      "rk- shape:  (165, 1)\n",
      "w: vertcat(S_0, S_1, S_2, S_3, S_4, S_5, S_6, S_7, S_8, S_9, S_10, S_11, S_12, S_13, S_14, S_15, S_16, S_17, S_18, S_19, S_20, v_0, v_1, v_2, v_3, v_4, v_5, v_6, v_7, v_8, v_9, v_10, v_11, v_12, v_13, v_14, v_15, v_16, v_17, v_18, v_19, p)\n",
      "F1:(i0[165],i1[4])->(o0[84]) MXFunction\n",
      "F2:(i0[165],i1[4])->(o0[80]) MXFunction\n",
      "      solver  :   t_proc      (avg)   t_wall      (avg)    n_eval\n",
      "       nlp_f  |        0 (       0)        0 (       0)         2\n",
      "       nlp_g  |  34.00ms ( 17.00ms)  34.16ms ( 17.08ms)         2\n",
      "  nlp_grad_f  |        0 (       0)        0 (       0)         3\n",
      "  nlp_hess_l  | 266.00ms (266.00ms) 266.46ms (266.46ms)         1\n",
      "   nlp_jac_g  | 359.00ms (119.67ms) 358.63ms (119.54ms)         3\n",
      "       total  | 659.00ms (659.00ms) 659.25ms (659.25ms)         1\n"
     ]
    }
   ],
   "source": [
    "xx, pp = MHE(x0bar, p0bar, P, r0, 2*T, 2*N, length_simulation, x, p, rhs_exp, meas, sigma,sigma2, W, ggn = False)"
   ]
  },
  {
   "cell_type": "code",
   "execution_count": 25,
   "id": "34271d53-a11e-4740-b2f1-597b02423e2a",
   "metadata": {},
   "outputs": [
    {
     "name": "stderr",
     "output_type": "stream",
     "text": [
      "MovieWriter Pillow unavailable; using Pillow instead.\n"
     ]
    },
    {
     "data": {
      "image/png": "[encoded data removed]",
      "text/plain": [
       "<Figure size 720x576 with 1 Axes>"
      ]
     },
     "metadata": {
      "needs_background": "light"
     },
     "output_type": "display_data"
    }
   ],
   "source": [
    "animate_pendulum('../plots/pendulum/mhe.gif',xx)"
   ]
  },
  {
   "cell_type": "code",
   "execution_count": 38,
   "id": "4690ca6f-a76a-447e-806f-69ec02bc0001",
   "metadata": {},
   "outputs": [
    {
     "name": "stderr",
     "output_type": "stream",
     "text": [
      "C:\\Users\\49163\\AppData\\Local\\Temp/ipykernel_6932/1212774919.py:48: MatplotlibDeprecationWarning: savefig() got unexpected keyword argument \"bbox\" which is no longer supported as of 3.3 and will become an error two minor releases later\n",
      "  plt.savefig('imgforpres/25.png',bbox='tight')\n"
     ]
    },
    {
     "data": {
      "image/png": "[encoded data removed]",
      "text/plain": [
       "<Figure size 720x576 with 1 Axes>"
      ]
     },
     "metadata": {
      "needs_background": "light"
     },
     "output_type": "display_data"
    }
   ],
   "source": [
    "plt.figure(figsize=(10,8))\n",
    "plt.title(\"Comparison of the simulations:\")\n",
    "plt.xlim(-1.,1.)\n",
    "plt.ylim(-1.3,1.3)\n",
    "\n",
    "ss = Res1 # true\n",
    "s = np.array(ss).flatten()\n",
    "ll = int(s.shape[0]/4)\n",
    "x3 = np.array([get_ball_x(s[4*i:4*(i+1)]) for i in range(ll)])\n",
    "y3 = np.array([get_ball_y(s[4*i:4*(i+1)]) for i in range(ll)])\n",
    "plt.plot(x3,y3,linestyle = 'dotted', label = \"true\")   \n",
    "\n",
    "ss = Res2 # true comp\n",
    "s = np.array(ss).flatten()\n",
    "ll = int(s.shape[0]/4)\n",
    "x3 = np.array([get_ball_x(s[4*i:4*(i+1)]) for i in range(ll)])\n",
    "y3 = np.array([get_ball_y(s[4*i:4*(i+1)]) for i in range(ll)])\n",
    "#plt.plot(x3,y3,linestyle = 'dotted', label = \"true comp\")   \n",
    "\n",
    "ss = meas1 # meas\n",
    "s = np.array(ss).flatten()\n",
    "ll = int(s.shape[0]/4)\n",
    "x3 = np.array([get_ball_x(s[4*i:4*(i+1)]) for i in range(ll)])\n",
    "y3 = np.array([get_ball_y(s[4*i:4*(i+1)]) for i in range(ll)])\n",
    "plt.plot(x3,y3, 'ro',label = \"measurements\",ms=3)#, linestyle = 'dotted') \n",
    "\n",
    "ss = s_opt # open-loop\n",
    "s = np.array(ss).flatten()\n",
    "ll = int(s.shape[0]/4)\n",
    "x3 = np.array([get_ball_x(s[4*i:4*(i+1)]) for i in range(ll)])\n",
    "y3 = np.array([get_ball_y(s[4*i:4*(i+1)]) for i in range(ll)])\n",
    "plt.plot(x3,y3,marker = 'o', label = \"open-loop\", linestyle = 'dotted', ms = 3) \n",
    "\n",
    "ss = ss_opt # open-loop short\n",
    "s = np.array(ss).flatten()\n",
    "ll = int(s.shape[0]/4)\n",
    "x3 = np.array([get_ball_x(s[4*i:4*(i+1)]) for i in range(ll)])\n",
    "y3 = np.array([get_ball_y(s[4*i:4*(i+1)]) for i in range(ll)])\n",
    "#plt.plot(x3,y3,marker = 'o', label = \"open-loop short\", linestyle = 'dotted', ms = 3) \n",
    "\n",
    "ss = xx # mhe\n",
    "s = np.array(ss).flatten()\n",
    "ll = int(s.shape[0]/4)\n",
    "x3 = np.array([get_ball_x(s[4*i:4*(i+1)]) for i in range(ll)])\n",
    "y3 = np.array([get_ball_y(s[4*i:4*(i+1)]) for i in range(ll)])\n",
    "plt.plot(x3,y3,marker = 'o', label = \"mhe\", linestyle = 'dotted', ms = 3)   \n",
    "plt.legend()\n",
    "#########plt.savefig('imgforpres/25.png',bbox='tight')"
   ]
  },
  {
   "cell_type": "code",
   "execution_count": 27,
   "id": "8a33e5e0-1c61-4102-b90f-b68f8bf308b1",
   "metadata": {},
   "outputs": [],
   "source": [
    "def plot_widget(simulations): #, n):\n",
    "    plt.figure(figsize=(10,8))\n",
    "    plt.title(\"Comparison of the simulations:\")\n",
    "    plt.xlim(-1.,1.)\n",
    "    plt.ylim(-1.3,1.3)\n",
    "    \n",
    "    \n",
    "    if 'true' in simulations:\n",
    "        ss = Res1 # true\n",
    "        s = np.array(ss).flatten()\n",
    "        ll = int(s.shape[0]/4)\n",
    "        x3 = np.array([get_ball_x(s[4*i:4*(i+1)]) for i in range(ll)])\n",
    "        y3 = np.array([get_ball_y(s[4*i:4*(i+1)]) for i in range(ll)])\n",
    "        plt.plot(x3,y3,linestyle = 'dotted', label = \"true\")   \n",
    "\n",
    "        \n",
    "    if 'measured' in simulations:\n",
    "        ss = meas1 # meas\n",
    "        s = np.array(ss).flatten()\n",
    "        ll = int(s.shape[0]/4)\n",
    "        x3 = np.array([get_ball_x(s[4*i:4*(i+1)]) for i in range(ll)])\n",
    "        y3 = np.array([get_ball_y(s[4*i:4*(i+1)]) for i in range(ll)])\n",
    "        plt.plot(x3,y3, 'ro',label = \"measurements\", ms = 5)#, linestyle = 'dotted') \n",
    "        \n",
    "    if 'open-loop' in simulations:\n",
    "        ss = s_opt # open-loop\n",
    "        s = np.array(ss).flatten()\n",
    "        ll = int(s.shape[0]/4)\n",
    "        x3 = np.array([get_ball_x(s[4*i:4*(i+1)]) for i in range(ll)])\n",
    "        y3 = np.array([get_ball_y(s[4*i:4*(i+1)]) for i in range(ll)])\n",
    "        plt.plot(x3,y3,marker = 'o', label = \"open-loop\", linestyle = 'dotted', ms = 3) \n",
    "        \n",
    "    if 'open-loop short' in simulations:\n",
    "        ss = ss_opt # open-loop short\n",
    "        s = np.array(ss).flatten()\n",
    "        ll = int(s.shape[0]/4)\n",
    "        x3 = np.array([get_ball_x(s[4*i:4*(i+1)]) for i in range(ll)])\n",
    "        y3 = np.array([get_ball_y(s[4*i:4*(i+1)]) for i in range(ll)])\n",
    "        plt.plot(x3,y3,marker = 'o', label = \"open-loop short\", linestyle = 'dotted', ms = 3) \n",
    "        \n",
    "    if 'mhe' in simulations:\n",
    "        ss = xx # mhe\n",
    "        s = np.array(ss).flatten()\n",
    "        ll = int(s.shape[0]/4)\n",
    "        x3 = np.array([get_ball_x(s[4*i:4*(i+1)]) for i in range(ll)])\n",
    "        y3 = np.array([get_ball_y(s[4*i:4*(i+1)]) for i in range(ll)])\n",
    "        plt.plot(x3,y3,marker = 'o', label = \"mhe\", linestyle = 'dotted', ms = 3)  \n",
    "        \n",
    "    plt.legend()\n",
    "    plt.show()"
   ]
  },
  {
   "cell_type": "code",
   "execution_count": 28,
   "id": "bf5fbdae-7ded-4a16-9eaa-825458320400",
   "metadata": {},
   "outputs": [
    {
     "data": {
      "application/vnd.jupyter.widget-view+json": {
       "model_id": "c6e43dc54c8b4a96808b5535feff1189",
       "version_major": 2,
       "version_minor": 0
      },
      "text/plain": [
       "interactive(children=(SelectMultiple(description='Simulations:', options=('true', 'measured', 'open-loop', 'op…"
      ]
     },
     "metadata": {},
     "output_type": "display_data"
    }
   ],
   "source": [
    "from ipywidgets import interact, interactive, fixed, interact_manual\n",
    "import ipywidgets as widgets\n",
    "#from animate_double import plot_widget\n",
    "\n",
    "\n",
    "interactive(plot_widget, simulations = widgets.SelectMultiple(\n",
    "    options=['true', 'measured', 'open-loop', 'open-loop short','mhe'],\n",
    "    rows = 5,\n",
    "    description='Simulations:',\n",
    "    disabled=False\n",
    "))"
   ]
  },
  {
   "cell_type": "code",
   "execution_count": 29,
   "id": "a7bed8ac-fa2d-487c-b76e-9de3ec8b5d10",
   "metadata": {},
   "outputs": [
    {
     "name": "stdout",
     "output_type": "stream",
     "text": [
      "[-10.4232, -40.7688]\n",
      "[0, 0, 0, ..., -0.130316, -10.4232, -40.7688]\n",
      "(70, 1)\n"
     ]
    }
   ],
   "source": [
    "print(pp[pp.shape[0]-2:])\n",
    "print(pp)\n",
    "print(pp[pp.shape[0]-length_simulation:].shape)"
   ]
  },
  {
   "cell_type": "code",
   "execution_count": 30,
   "id": "ba7222fd-9a74-405f-825b-bbbd6e72782b",
   "metadata": {},
   "outputs": [
    {
     "data": {
      "text/plain": [
       "<matplotlib.legend.Legend at 0x27b50783850>"
      ]
     },
     "execution_count": 30,
     "metadata": {},
     "output_type": "execute_result"
    },
    {
     "data": {
      "image/png": "[encoded data removed]",
      "text/plain": [
       "<Figure size 432x288 with 1 Axes>"
      ]
     },
     "metadata": {
      "needs_background": "light"
     },
     "output_type": "display_data"
    }
   ],
   "source": [
    "p_plot1 = pp[pp.shape[0]-length_simulation:]\n",
    "#print(p_opt[0])\n",
    "p_ref1 = p_true[0]*np.ones(p_plot1.size()[0])\n",
    "p_open_loop1 = p_opt[0]*np.ones(p_plot1.size()[0])\n",
    "\n",
    "x_ax = range(p_plot1.size()[0]) \n",
    "plt.plot(x_ax,p_ref1, label = 'exact')\n",
    "plt.plot(x_ax, p_open_loop1, label = 'open-loop', linestyle='dotted')\n",
    "plt.plot(x_ax, p_plot1, label = 'mhe', linestyle='dotted')\n",
    "plt.title('Comparison of the estimation of parameter p during MHE')\n",
    "plt.xlim(0,p_plot1.size()[0])\n",
    "#plt.ylim(p_true[0]-0.3,p_true[0]+0.3) #plt.ylim(-0.4,0.1)\n",
    "plt.legend()\n",
    "#plt.savefig('imgforpres/19.png',bbox='tight')"
   ]
  },
  {
   "cell_type": "code",
   "execution_count": 31,
   "id": "2a7e3ebb-bb56-42f1-922b-8c0bc0f53511",
   "metadata": {},
   "outputs": [
    {
     "data": {
      "text/plain": [
       "<matplotlib.legend.Legend at 0x27b50792880>"
      ]
     },
     "execution_count": 31,
     "metadata": {},
     "output_type": "execute_result"
    },
    {
     "data": {
      "image/png": "[encoded data removed]",
      "text/plain": [
       "<Figure size 432x288 with 1 Axes>"
      ]
     },
     "metadata": {
      "needs_background": "light"
     },
     "output_type": "display_data"
    }
   ],
   "source": [
    "## relative error\n",
    "## for d1:\n",
    "rel_err1 = np.zeros(p_plot1.size()[0])\n",
    "for i in x_ax:\n",
    "    rel_err1[i]=np.abs(p_plot1[i]-p_ref1[i])/p_ref1[i]\n",
    "    #rel_err1.append(np.abs(p_plot1[i]-p_ref[i])/p_ref[i])\n",
    "#print(rel_err1)\n",
    "\n",
    "rel_err2 = np.zeros(p_plot1.size()[0])\n",
    "for i in x_ax:\n",
    "    rel_err2[i]=np.abs(p_open_loop1[i]-p_ref1[i])/p_ref1[i]\n",
    "    #rel_err1.append(np.abs(p_plot1[i]-p_ref[i])/p_ref[i])\n",
    "#print(rel_err2)\n",
    "\n",
    "plt.plot(x_ax, rel_err1, label='rel_err_mhe')\n",
    "plt.plot(x_ax, rel_err2, label = 'rel_err_open_loop')\n",
    "#plt.yscale('log')\n",
    "plt.title('Relative error of the estimated parameter with mhe and open-loop')\n",
    "plt.legend()\n",
    "#plt.savefig('imgforpres/21.png',bbox='tight')"
   ]
  },
  {
   "cell_type": "code",
   "execution_count": null,
   "id": "0a083882-3122-42f6-9f96-5228e0970135",
   "metadata": {},
   "outputs": [],
   "source": []
  },
  {
   "cell_type": "code",
   "execution_count": null,
   "id": "fc9a1658-032d-4c36-bdcf-18e045d1e62e",
   "metadata": {},
   "outputs": [],
   "source": []
  }
 ],
 "metadata": {
  "kernelspec": {
   "display_name": "Python 3 (ipykernel)",
   "language": "python",
   "name": "python3"
  },
  "language_info": {
   "codemirror_mode": {
    "name": "ipython",
    "version": 3
   },
   "file_extension": ".py",
   "mimetype": "text/x-python",
   "name": "python",
   "nbconvert_exporter": "python",
   "pygments_lexer": "ipython3",
   "version": "3.9.7"
  }
 },
 "nbformat": 4,
 "nbformat_minor": 5
}
