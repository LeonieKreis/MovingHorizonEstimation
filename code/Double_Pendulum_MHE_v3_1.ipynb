{
 "cells": [
  {
   "cell_type": "markdown",
   "id": "b06a4ef2-0827-41d9-936e-fed2789c12c4",
   "metadata": {},
   "source": [
    "# Double Pendulum"
   ]
  },
  {
   "cell_type": "code",
   "execution_count": 1,
   "id": "7b5cbe51-8978-4a5d-98b9-f1292363874a",
   "metadata": {},
   "outputs": [],
   "source": [
    "import ipywidgets as widgets\n",
    "from casadi import *\n",
    "import numpy as np\n",
    "import matplotlib.pyplot as plt\n",
    "import time\n",
    "\n",
    "\n",
    "from matplotlib import rc \n",
    "import matplotlib.animation as animation\n",
    "from collections import deque\n",
    "from IPython.display import HTML"
   ]
  },
  {
   "cell_type": "code",
   "execution_count": 2,
   "id": "66657415-3004-470e-a97c-0f4f422a762a",
   "metadata": {},
   "outputs": [],
   "source": [
    "from functions_v3_1 import MS_functions_MHE, generate_meas, cnlls_solver, MHE, arrival_cost_values, get_arrival_obj, simulate_pendulum\n",
    "\n",
    "\n",
    "from animate_double import get_cart_x, get_cart_y, get_ball1_x, get_ball1_y, get_ball2_x, get_ball2_y, animate_double_pendulum, animatecomparison_double_pendulum"
   ]
  },
  {
   "cell_type": "code",
   "execution_count": 3,
   "id": "7710b39c-9b23-439a-9134-3b55e627f0fc",
   "metadata": {},
   "outputs": [
    {
     "data": {
      "application/vnd.jupyter.widget-view+json": {
       "model_id": "5fe47d51c81948c89ffc997c9771c4ae",
       "version_major": 2,
       "version_minor": 0
      },
      "text/plain": [
       "Image(value=b'\\x89PNG\\r\\n\\x1a\\n\\x00\\x00\\x00\\rIHDR\\x00\\x00\\x02\\xaa\\x00\\x00\\x01l\\x08\\x06\\x00\\x00\\x00\\x04\\xdc\\x9b…"
      ]
     },
     "metadata": {},
     "output_type": "display_data"
    }
   ],
   "source": [
    "file = open(\"../plots/DoublePendulum_graphic.png\", \"rb\")\n",
    "image = file.read()\n",
    "widgets.Image(\n",
    "    value=image,\n",
    "    format='png',\n",
    "    width=200,\n",
    "    height=600,\n",
    ")"
   ]
  },
  {
   "cell_type": "markdown",
   "id": "6365743a-9d02-42cb-9543-5db9d9d93203",
   "metadata": {},
   "source": [
    "## Implementing the model dynamics"
   ]
  },
  {
   "cell_type": "code",
   "execution_count": 4,
   "id": "9b76f552-72b8-4e64-8a97-9fa2f713ea41",
   "metadata": {},
   "outputs": [],
   "source": [
    "# fixing parameters\n",
    "g = 9.81\n",
    "l1 = 0.323\n",
    "l2 = 0.480\n",
    "a1 = 0.2145\n",
    "a2 = 0.223\n",
    "m1 = 0.853\n",
    "m2 = 0.510\n",
    "J1 = 0.0126\n",
    "J2 = 0.0185\n",
    "#d1 = #0.005\n",
    "#d2 = #0.005"
   ]
  },
  {
   "cell_type": "code",
   "execution_count": 5,
   "id": "511500ef-18c9-4d3e-8dd9-ca3281bf0016",
   "metadata": {},
   "outputs": [],
   "source": [
    "# defining the rhs of the ODE system\n",
    "\n",
    "# state variables\n",
    "x1 = MX.sym('x1') #y\n",
    "x2 = MX.sym('x2') #ydot\n",
    "x3 = MX.sym('x3') #phi1\n",
    "x4 = MX.sym('x4') #phi1dot\n",
    "x5 = MX.sym('x5') #phi2\n",
    "x6 = MX.sym('x6') #phi2dot\n",
    "x = vertcat(x1,x2,x3,x4,x5,x6)\n",
    "\n",
    "u = 0\n",
    "\n",
    "#parameters\n",
    "d1 = MX.sym('d1')\n",
    "d2 = MX.sym('d2')\n",
    "p = vertcat(d1,d2)\n",
    "\n",
    "dM = (J1 + a1*a1*m1 + l1*l1*m2) * (J2 + a2*a2*m2) - a2*l1*m2*cos(x3-x5)*a2*l1*m2*cos(x3-x5)\n",
    "\n",
    "f1 = (a1*m1 + l1*m2)*g*sin(x3) -a2*l1*m2*sin(x3-x5)*x6*x6 -d1*x4 - d2*(x4-x6) + (a1*m1+l1*m2)*cos(x3)*u\n",
    "\n",
    "f2 = a2*g*m2*sin(x5) +a2*l1*m2*sin(x3-x5)*x4*x4 +d2*(x4-x6) +a2*m2*cos(x5)*u\n",
    "\n",
    "# rhs\n",
    "rhs_exp = vertcat(x2,\n",
    "                  u,\n",
    "                  x4,\n",
    "                  1/dM *((J2+a2*a2*m2)*f1 -a2*l1*m2*cos(x3-x5)*f2),\n",
    "                  x6,\n",
    "                  1/dM *(-a2*l1*m2*cos(x3-x5)*f1+(J1+a1*a1*m1+l1*l1*m2)*f2))\n",
    "\n",
    "rhs = Function('rhs',[x,p],[rhs_exp])"
   ]
  },
  {
   "cell_type": "markdown",
   "id": "4c39e4e0-0b73-442f-880e-282c9741a198",
   "metadata": {},
   "source": [
    "## Choose starting value, for which the measurements are obtained  "
   ]
  },
  {
   "cell_type": "code",
   "execution_count": 6,
   "id": "74100c6e-b651-44a5-b7b0-1107674ee663",
   "metadata": {},
   "outputs": [],
   "source": [
    "N = 10 #100 # number of integration steps\n",
    "T = 0.5 #1 #10.0\n",
    "L = 10 # -> insgesamt 5 sekunden\n",
    "\n",
    "eps = 0.1\n",
    "s0 = [0, 0, eps, 0, -0.5, 0]\n",
    "x0 = s0 # for later\n"
   ]
  },
  {
   "cell_type": "code",
   "execution_count": null,
   "id": "5c95043d-38d3-49da-accc-a40defa325e7",
   "metadata": {},
   "outputs": [],
   "source": [
    "p_true = [0.05,0.1]\n",
    "\n",
    "Res1 = simulate_pendulum(N,T,L,p_true,s0,x,p,rhs_exp)"
   ]
  },
  {
   "cell_type": "markdown",
   "id": "5eda9dd8-e9d5-46db-bcc9-760672ed34be",
   "metadata": {},
   "source": [
    "## Another simulation\n",
    "for comparing the effect of the parameters onto the states"
   ]
  },
  {
   "cell_type": "code",
   "execution_count": 7,
   "id": "611014c2-53d8-411a-a3f5-5dc6c734b246",
   "metadata": {},
   "outputs": [],
   "source": [
    "p_true_comp = [0.1,0.1]\n",
    "\n",
    "Res2 = simulate_pendulum(N,T,L,p_true_comp,s0,x,p,rhs_exp)"
   ]
  },
  {
   "cell_type": "code",
   "execution_count": 8,
   "id": "90988831-4469-4500-9d5b-b65bac233b81",
   "metadata": {},
   "outputs": [],
   "source": [
    "#animate_double_pendulum(\"../plots/statenoise/doubleinitialAnimation.gif\", Res1,'Initial Animation of Double Pendulum', T=T, N=N)"
   ]
  },
  {
   "cell_type": "code",
   "execution_count": 9,
   "id": "2e793710-c78c-48f1-a1bd-f5b75f1143aa",
   "metadata": {},
   "outputs": [
    {
     "name": "stderr",
     "output_type": "stream",
     "text": [
      "MovieWriter Pillow unavailable; using Pillow instead.\n"
     ]
    },
    {
     "data": {
      "image/png": "[encoded data removed]",
      "text/plain": [
       "<Figure size 720x576 with 1 Axes>"
      ]
     },
     "metadata": {
      "needs_background": "light"
     },
     "output_type": "display_data"
    }
   ],
   "source": [
    "animatecomparison_double_pendulum(\"../plots/statenoise/comparison.gif\", Res1,Res2,'Initial Animation with different parameters', T=T, N=N)"
   ]
  },
  {
   "cell_type": "markdown",
   "id": "b48642a5-4eaf-45d1-b07b-db9a9522d168",
   "metadata": {},
   "source": [
    "## Generate synthetic measurements"
   ]
  },
  {
   "cell_type": "code",
   "execution_count": 10,
   "id": "98b65657-ca22-4b2e-b383-911d9b6dc047",
   "metadata": {},
   "outputs": [],
   "source": [
    "# generate synthetic measurements of the states\n",
    "sigma = [0.001,0.001,0.05,0.05,0.05,0.05]\n",
    "sigma2 = [0.00001,0.00002,0.0002,0.0001,0.0001,0.0001]\n",
    "#p_true = [0.1,0.05] defined above\n",
    "M = L*N"
   ]
  },
  {
   "cell_type": "code",
   "execution_count": 11,
   "id": "bc66fe93-0724-41e5-8fda-9271328fd0d8",
   "metadata": {},
   "outputs": [
    {
     "name": "stdout",
     "output_type": "stream",
     "text": [
      "(606, 1)\n"
     ]
    }
   ],
   "source": [
    "meas = generate_meas(x, p, rhs_exp, L*T, sigma, p_true, M, s0)"
   ]
  },
  {
   "cell_type": "code",
   "execution_count": 12,
   "id": "28a0cc3d-0c57-45c2-ad05-66dab6efcd26",
   "metadata": {},
   "outputs": [
    {
     "name": "stderr",
     "output_type": "stream",
     "text": [
      "MovieWriter Pillow unavailable; using Pillow instead.\n"
     ]
    },
    {
     "data": {
      "image/png": "[encoded data removed]",
      "text/plain": [
       "<Figure size 720x576 with 1 Axes>"
      ]
     },
     "metadata": {
      "needs_background": "light"
     },
     "output_type": "display_data"
    }
   ],
   "source": [
    "# we need to reshape for visualization\n",
    "meas1 = []\n",
    "for i in range(M+1):\n",
    "    meas1 = vertcat(meas1,meas[:,i])\n",
    "\n",
    "animate_double_pendulum(\"../plots/statenoise/measurements.gif\", meas1,'Measurements of Double Pendulum', T=T, N=N)"
   ]
  },
  {
   "cell_type": "markdown",
   "id": "c76412a6-becb-42e7-bfdc-e4e7347a7437",
   "metadata": {},
   "source": [
    "## Open loop PE for the first MHE time horizon only \n",
    "here the first N=10 shooting intervals (->11 measurements)"
   ]
  },
  {
   "cell_type": "code",
   "execution_count": 13,
   "id": "f557b916-8ee0-429c-9b53-6669780994a8",
   "metadata": {},
   "outputs": [],
   "source": [
    "#debugging arrival_cost_values\n",
    "n = x.shape[0]\n",
    "m = p.shape[0]\n",
    "\n",
    "x_opt = x0\n",
    "p_opt = [0,0]\n",
    "last_y = meas[:,0]\n",
    "last_P = np.diag(np.ones(n+m))\n",
    "last_V = np.diag(sigma)\n",
    "last_W = np.diag(np.ones(n+m))\n",
    "#print(last_W.shape)\n",
    "\n",
    "P_Lplus1, xandpbar = arrival_cost_values(x,p,rhs_exp,T,N,x_opt, p_opt, last_y, last_P,last_V, last_W)\n",
    "arr = get_arrival_obj(n,m,P_Lplus1, xandpbar)"
   ]
  },
  {
   "cell_type": "code",
   "execution_count": 14,
   "id": "3ec15cf9-b3eb-4fae-8c5e-927a3b4b84dd",
   "metadata": {},
   "outputs": [],
   "source": [
    "start = 15\n",
    "\n",
    "FF1, FF2 = MS_functions_MHE(T, N, x, p, rhs_exp, meas[:,start:(N+1)+start], sigma,sigma2, arr)"
   ]
  },
  {
   "cell_type": "code",
   "execution_count": 15,
   "id": "29878a96-1951-426b-a538-221f1f147c06",
   "metadata": {},
   "outputs": [],
   "source": [
    "p0= [0,0]\n",
    "w0 = vertcat(meas1[:x.shape[0]*(N+1)],np.zeros(x.shape[0]*N))\n",
    "w0 = vertcat(w0,p0)\n",
    "w = MX.sym('w',w0.shape[0])\n",
    "#k=0\n",
    "y = meas[:,10]\n",
    "#print(y.shape)\n",
    "F1 = Function('F1',[w],[FF1(w,y)])\n",
    "F2 = Function('F2',[w],[FF2(w,y)])"
   ]
  },
  {
   "cell_type": "code",
   "execution_count": 16,
   "id": "128d7993-ede5-4b2a-8633-f80b0b4b6bb0",
   "metadata": {},
   "outputs": [
    {
     "name": "stdout",
     "output_type": "stream",
     "text": [
      "\n",
      "******************************************************************************\n",
      "This program contains Ipopt, a library for large-scale nonlinear optimization.\n",
      " Ipopt is released as open source code under the Eclipse Public License (EPL).\n",
      "         For more information visit http://projects.coin-or.org/Ipopt\n",
      "******************************************************************************\n",
      "\n",
      "      solver  :   t_proc      (avg)   t_wall      (avg)    n_eval\n",
      "       nlp_f  |        0 (       0)        0 (       0)         2\n",
      "       nlp_g  |        0 (       0)        0 (       0)         2\n",
      "  nlp_grad_f  |        0 (       0)        0 (       0)         3\n",
      "  nlp_hess_l  |  94.00ms ( 94.00ms)  93.97ms ( 93.97ms)         1\n",
      "   nlp_jac_g  |  95.00ms ( 31.67ms)  94.45ms ( 31.48ms)         3\n",
      "       total  | 189.00ms (189.00ms) 188.42ms (188.42ms)         1\n"
     ]
    }
   ],
   "source": [
    "w_opt = cnlls_solver(F1, F2, w0, itmax=1, tol=1e-7, ggn = False, show_iteration = False)"
   ]
  },
  {
   "cell_type": "code",
   "execution_count": 17,
   "id": "b409cb3b-c82b-4e01-b6bc-825a9208c01c",
   "metadata": {},
   "outputs": [
    {
     "name": "stdout",
     "output_type": "stream",
     "text": [
      "[0.62546348 0.1003219 ]\n",
      "(66,)\n"
     ]
    }
   ],
   "source": [
    "leng = w_opt.shape[0]\n",
    "pp_opt = w_opt[leng-p.shape[0]:]\n",
    "vv_opt = w_opt[(N+1)*x.shape[0]:leng-p.shape[0]]\n",
    "ss_opt = w_opt[0:(N+1)*x.shape[0]]\n",
    "print(pp_opt)\n",
    "print(ss_opt.shape)"
   ]
  },
  {
   "cell_type": "code",
   "execution_count": 18,
   "id": "b017fdbb-e75e-4aee-86c1-0eb1c449ad40",
   "metadata": {},
   "outputs": [
    {
     "name": "stderr",
     "output_type": "stream",
     "text": [
      "MovieWriter Pillow unavailable; using Pillow instead.\n"
     ]
    },
    {
     "data": {
      "image/png": "[encoded data removed]",
      "text/plain": [
       "<Figure size 720x576 with 1 Axes>"
      ]
     },
     "metadata": {
      "needs_background": "light"
     },
     "output_type": "display_data"
    }
   ],
   "source": [
    "animate_double_pendulum(\"../plots/statenoise/ipopt_short.gif\", ss_opt,'PE with ipopt of Double Pendulum short', T=T, N=N)"
   ]
  },
  {
   "cell_type": "markdown",
   "id": "d204d1bd-4466-4aa6-a674-0c4d097a1649",
   "metadata": {},
   "source": [
    "## Open loop PE for all measurements"
   ]
  },
  {
   "cell_type": "code",
   "execution_count": 19,
   "id": "4b2667e8-4d48-4f65-af58-1e26746d70fe",
   "metadata": {},
   "outputs": [],
   "source": [
    "#p0 = [0,0]\n",
    "x_opt = 0\n",
    "p_opt = 0\n",
    "last_P = 0\n",
    "last_W = 0\n",
    "\n",
    "#print(meas[:,M])\n",
    "FF1, FF2 = MS_functions_MHE(L*T, L*N, x, p, rhs_exp, meas, sigma,sigma2, arr)"
   ]
  },
  {
   "cell_type": "code",
   "execution_count": 20,
   "id": "79a5248f-c1cf-4ae3-afc2-85eb5e5dda57",
   "metadata": {},
   "outputs": [],
   "source": [
    "p0= [0,0]\n",
    "w0 = vertcat(meas1,np.zeros(N*L*x.shape[0]))\n",
    "w0 = vertcat(w0,p0)\n",
    "ww = MX.sym('ww',w0.shape[0])\n",
    "#k=0\n",
    "y = meas[:,M]\n",
    "#print(y.shape)\n",
    "F1 = Function('F1',[ww],[FF1(ww,y)])\n",
    "F2 = Function('F2',[ww],[FF2(ww,y)])\n",
    "#print(F1)\n",
    "#print(F2)"
   ]
  },
  {
   "cell_type": "code",
   "execution_count": 21,
   "id": "c81d891f-7f9b-4c7f-80ee-63f55776d711",
   "metadata": {},
   "outputs": [],
   "source": [
    "w_opt = cnlls_solver(F1, F2, w0, itmax=1 , tol=1e-7, ggn = True, show_iteration = False)"
   ]
  },
  {
   "cell_type": "code",
   "execution_count": 22,
   "id": "39ae5d4a-7a3a-412b-8d72-a0f354079777",
   "metadata": {},
   "outputs": [],
   "source": [
    "#print(w_opt)\n",
    "#cut = int(L*N)\n",
    "len_w = w_opt.shape[0]\n",
    "p_opt = w_opt[len_w-p.shape[0]:]\n",
    "v_opt = w_opt[(L*N+1)*x.shape[0]:len_w-p.shape[0]]\n",
    "s_opt = w_opt[0:(L*N+1)*x.shape[0]]"
   ]
  },
  {
   "cell_type": "code",
   "execution_count": 23,
   "id": "dc9f2d24-6831-4b83-8f2a-6780f718cca0",
   "metadata": {},
   "outputs": [
    {
     "name": "stdout",
     "output_type": "stream",
     "text": [
      "[0.04283458 0.08946359]\n",
      "(600,)\n",
      "(606,)\n"
     ]
    }
   ],
   "source": [
    "print(p_opt)\n",
    "print(v_opt.shape)\n",
    "print(s_opt.shape)"
   ]
  },
  {
   "cell_type": "code",
   "execution_count": 24,
   "id": "b1172424-58bf-4f16-80a6-6244bf726305",
   "metadata": {},
   "outputs": [
    {
     "name": "stderr",
     "output_type": "stream",
     "text": [
      "MovieWriter Pillow unavailable; using Pillow instead.\n"
     ]
    },
    {
     "data": {
      "image/png": "[encoded data removed]",
      "text/plain": [
       "<Figure size 720x576 with 1 Axes>"
      ]
     },
     "metadata": {
      "needs_background": "light"
     },
     "output_type": "display_data"
    }
   ],
   "source": [
    "animate_double_pendulum(\"../plots/statenoise/ipopt.gif\", s_opt,'PE with ipopt of Double Pendulum', T=T, N=N)"
   ]
  },
  {
   "cell_type": "code",
   "execution_count": 25,
   "id": "07dcb236-c721-49c1-a0bf-4ace697339b9",
   "metadata": {},
   "outputs": [
    {
     "name": "stderr",
     "output_type": "stream",
     "text": [
      "MovieWriter Pillow unavailable; using Pillow instead.\n"
     ]
    },
    {
     "data": {
      "image/png": "[encoded data removed]",
      "text/plain": [
       "<Figure size 720x576 with 1 Axes>"
      ]
     },
     "metadata": {
      "needs_background": "light"
     },
     "output_type": "display_data"
    }
   ],
   "source": [
    "animatecomparison_double_pendulum(\"../plots/statenoise/comp_ipopt.gif\",Res1, s_opt,'PE with ipopt of Double Pendulum', T=T, N=N)"
   ]
  },
  {
   "cell_type": "markdown",
   "id": "0115957a-8fd9-41b7-968a-15bc129dda10",
   "metadata": {},
   "source": [
    "# MHE"
   ]
  },
  {
   "cell_type": "code",
   "execution_count": 26,
   "id": "ed0bfa12-d422-4d63-95d6-3ca48eed7520",
   "metadata": {},
   "outputs": [
    {
     "name": "stdout",
     "output_type": "stream",
     "text": [
      "(248, 1)\n"
     ]
    }
   ],
   "source": [
    "#x_opt = 0\n",
    "#p_opt = 0\n",
    "last_P = 0\n",
    "last_W = 0\n",
    "\n",
    "\n",
    "x0bar = 0\n",
    "p0bar = 0\n",
    "P = 0\n",
    "p0 = [0.,0.]\n",
    "r0 = vertcat(meas1[:(2*N+1)*x.shape[0]],np.zeros(2*N*x.shape[0]))\n",
    "r0 = vertcat(r0,p0)\n",
    "print(r0.shape)\n",
    "T = 0.5\n",
    "N = 10\n",
    "length_simulation = 15\n",
    "#sigma = 0.01 (defined above)\n",
    "W = 0"
   ]
  },
  {
   "cell_type": "code",
   "execution_count": 28,
   "id": "ed100984-603a-4959-96a9-53084bd91c2c",
   "metadata": {},
   "outputs": [
    {
     "name": "stdout",
     "output_type": "stream",
     "text": [
      "starting (time horizon) loop no.  1\n"
     ]
    },
    {
     "ename": "ValueError",
     "evalue": "all the input arrays must have same number of dimensions, but the array at index 0 has 2 dimension(s) and the array at index 1 has 0 dimension(s)",
     "output_type": "error",
     "traceback": [
      "\u001b[1;31m---------------------------------------------------------------------------\u001b[0m",
      "\u001b[1;31mValueError\u001b[0m                                Traceback (most recent call last)",
      "\u001b[1;32m~\\AppData\\Local\\Temp/ipykernel_9944/3199941028.py\u001b[0m in \u001b[0;36m<module>\u001b[1;34m\u001b[0m\n\u001b[1;32m----> 1\u001b[1;33m \u001b[0mxx\u001b[0m\u001b[1;33m,\u001b[0m \u001b[0mpp\u001b[0m \u001b[1;33m=\u001b[0m \u001b[0mMHE\u001b[0m\u001b[1;33m(\u001b[0m\u001b[0mP\u001b[0m\u001b[1;33m,\u001b[0m \u001b[0mr0\u001b[0m\u001b[1;33m,\u001b[0m \u001b[1;36m2\u001b[0m\u001b[1;33m*\u001b[0m\u001b[0mT\u001b[0m\u001b[1;33m,\u001b[0m \u001b[1;36m2\u001b[0m\u001b[1;33m*\u001b[0m\u001b[0mN\u001b[0m\u001b[1;33m,\u001b[0m \u001b[0mlength_simulation\u001b[0m\u001b[1;33m,\u001b[0m \u001b[0mx\u001b[0m\u001b[1;33m,\u001b[0m \u001b[0mp\u001b[0m\u001b[1;33m,\u001b[0m \u001b[0mrhs_exp\u001b[0m\u001b[1;33m,\u001b[0m \u001b[0mmeas\u001b[0m\u001b[1;33m,\u001b[0m \u001b[0msigma\u001b[0m\u001b[1;33m,\u001b[0m\u001b[0msigma2\u001b[0m\u001b[1;33m,\u001b[0m \u001b[0mW\u001b[0m\u001b[1;33m,\u001b[0m \u001b[0mggn\u001b[0m \u001b[1;33m=\u001b[0m \u001b[1;32mTrue\u001b[0m\u001b[1;33m)\u001b[0m\u001b[1;33m\u001b[0m\u001b[1;33m\u001b[0m\u001b[0m\n\u001b[0m",
      "\u001b[1;32m~\\Documents\\Uni\\NODE2\\MHE_git\\MovingHorizonEstimation\\code\\functions_v3_1.py\u001b[0m in \u001b[0;36mMHE\u001b[1;34m(P, r0, T, N, length_simulation, x, p, xdot, meas, sigma, sigma2, W, ggn)\u001b[0m\n\u001b[0;32m    410\u001b[0m         \u001b[1;31m#,k+N:k+2*N-1\u001b[0m\u001b[1;33m\u001b[0m\u001b[1;33m\u001b[0m\u001b[0m\n\u001b[0;32m    411\u001b[0m \u001b[1;33m\u001b[0m\u001b[0m\n\u001b[1;32m--> 412\u001b[1;33m         \u001b[0mP_Lplus1\u001b[0m\u001b[1;33m,\u001b[0m \u001b[0mxandpbar\u001b[0m \u001b[1;33m=\u001b[0m \u001b[0marrival_cost_values\u001b[0m\u001b[1;33m(\u001b[0m\u001b[0mx\u001b[0m\u001b[1;33m,\u001b[0m\u001b[0mp\u001b[0m\u001b[1;33m,\u001b[0m\u001b[0mxdot\u001b[0m\u001b[1;33m,\u001b[0m\u001b[0mT\u001b[0m\u001b[1;33m,\u001b[0m\u001b[0mN\u001b[0m\u001b[1;33m,\u001b[0m\u001b[0mx_o\u001b[0m\u001b[1;33m,\u001b[0m \u001b[0mp_o\u001b[0m\u001b[1;33m,\u001b[0m \u001b[0mlast_y\u001b[0m\u001b[1;33m,\u001b[0m \u001b[0mlast_P\u001b[0m\u001b[1;33m,\u001b[0m\u001b[0mlast_V\u001b[0m\u001b[1;33m,\u001b[0m \u001b[0mlast_W\u001b[0m\u001b[1;33m)\u001b[0m\u001b[1;33m\u001b[0m\u001b[1;33m\u001b[0m\u001b[0m\n\u001b[0m\u001b[0;32m    413\u001b[0m         \u001b[0marr\u001b[0m \u001b[1;33m=\u001b[0m \u001b[0mget_arrival_obj\u001b[0m\u001b[1;33m(\u001b[0m\u001b[0mn\u001b[0m\u001b[1;33m,\u001b[0m\u001b[0mm\u001b[0m\u001b[1;33m,\u001b[0m\u001b[0mP_Lplus1\u001b[0m\u001b[1;33m,\u001b[0m \u001b[0mxandpbar\u001b[0m\u001b[1;33m)\u001b[0m\u001b[1;33m\u001b[0m\u001b[1;33m\u001b[0m\u001b[0m\n\u001b[0;32m    414\u001b[0m         \u001b[0mFF1\u001b[0m\u001b[1;33m,\u001b[0m\u001b[0mFF2\u001b[0m \u001b[1;33m=\u001b[0m \u001b[0mMS_functions_MHE\u001b[0m\u001b[1;33m(\u001b[0m\u001b[0mT\u001b[0m\u001b[1;33m,\u001b[0m \u001b[0mN\u001b[0m\u001b[1;33m,\u001b[0m \u001b[0mx\u001b[0m\u001b[1;33m,\u001b[0m \u001b[0mp\u001b[0m\u001b[1;33m,\u001b[0m \u001b[0mxdot\u001b[0m\u001b[1;33m,\u001b[0m \u001b[0mmeas\u001b[0m\u001b[1;33m[\u001b[0m\u001b[1;33m:\u001b[0m\u001b[1;33m,\u001b[0m\u001b[0mk\u001b[0m\u001b[1;33m:\u001b[0m\u001b[0mk\u001b[0m\u001b[1;33m+\u001b[0m\u001b[0mN\u001b[0m\u001b[1;33m+\u001b[0m\u001b[1;36m1\u001b[0m\u001b[1;33m]\u001b[0m\u001b[1;33m,\u001b[0m \u001b[0msigma\u001b[0m\u001b[1;33m,\u001b[0m\u001b[0msigma2\u001b[0m\u001b[1;33m,\u001b[0m \u001b[0marr\u001b[0m\u001b[1;33m)\u001b[0m\u001b[1;33m\u001b[0m\u001b[1;33m\u001b[0m\u001b[0m\n",
      "\u001b[1;32m~\\Documents\\Uni\\NODE2\\MHE_git\\MovingHorizonEstimation\\code\\functions_v3_1.py\u001b[0m in \u001b[0;36marrival_cost_values\u001b[1;34m(x, p, xdot, T, N, x_opt, p_opt, last_y, last_P, last_V, last_W)\u001b[0m\n\u001b[0;32m     88\u001b[0m     \u001b[0mzeros_or\u001b[0m \u001b[1;33m=\u001b[0m \u001b[0mnp\u001b[0m\u001b[1;33m.\u001b[0m\u001b[0mzeros\u001b[0m\u001b[1;33m(\u001b[0m\u001b[1;33m(\u001b[0m\u001b[0mn\u001b[0m\u001b[1;33m+\u001b[0m\u001b[0mm\u001b[0m\u001b[1;33m,\u001b[0m\u001b[0mn\u001b[0m\u001b[1;33m+\u001b[0m\u001b[0mm\u001b[0m\u001b[1;33m)\u001b[0m\u001b[1;33m)\u001b[0m\u001b[1;33m\u001b[0m\u001b[1;33m\u001b[0m\u001b[0m\n\u001b[0;32m     89\u001b[0m     \u001b[0mzeros_mr\u001b[0m \u001b[1;33m=\u001b[0m \u001b[0mnp\u001b[0m\u001b[1;33m.\u001b[0m\u001b[0mzeros\u001b[0m\u001b[1;33m(\u001b[0m\u001b[1;33m(\u001b[0m\u001b[0mn\u001b[0m\u001b[1;33m,\u001b[0m\u001b[0mn\u001b[0m\u001b[1;33m+\u001b[0m\u001b[0mm\u001b[0m\u001b[1;33m)\u001b[0m\u001b[1;33m)\u001b[0m\u001b[1;33m\u001b[0m\u001b[1;33m\u001b[0m\u001b[0m\n\u001b[1;32m---> 90\u001b[1;33m     \u001b[0mc2\u001b[0m \u001b[1;33m=\u001b[0m \u001b[0mnp\u001b[0m\u001b[1;33m.\u001b[0m\u001b[0mconcatenate\u001b[0m\u001b[1;33m(\u001b[0m\u001b[1;33m(\u001b[0m\u001b[0mnp\u001b[0m\u001b[1;33m.\u001b[0m\u001b[0mconcatenate\u001b[0m\u001b[1;33m(\u001b[0m\u001b[1;33m(\u001b[0m\u001b[0mzeros_or\u001b[0m\u001b[1;33m,\u001b[0m\u001b[0mzeros_mr\u001b[0m\u001b[1;33m)\u001b[0m\u001b[1;33m)\u001b[0m\u001b[1;33m,\u001b[0m\u001b[0mlast_W\u001b[0m\u001b[1;33m)\u001b[0m\u001b[1;33m)\u001b[0m\u001b[1;33m\u001b[0m\u001b[1;33m\u001b[0m\u001b[0m\n\u001b[0m\u001b[0;32m     91\u001b[0m     \u001b[1;31m#print(c2.shape)\u001b[0m\u001b[1;33m\u001b[0m\u001b[1;33m\u001b[0m\u001b[0m\n\u001b[0;32m     92\u001b[0m     \u001b[0mm_l\u001b[0m \u001b[1;33m=\u001b[0m \u001b[1;33m-\u001b[0m\u001b[1;36m1\u001b[0m\u001b[1;33m*\u001b[0m\u001b[1;33m(\u001b[0m\u001b[0mhorzcat\u001b[0m\u001b[1;33m(\u001b[0m\u001b[0mlast_V\u001b[0m\u001b[1;33m@\u001b[0m\u001b[0mX_x\u001b[0m\u001b[1;33m(\u001b[0m\u001b[0mx_plus1\u001b[0m\u001b[1;33m,\u001b[0m\u001b[0mp_now\u001b[0m\u001b[1;33m)\u001b[0m\u001b[1;33m,\u001b[0m\u001b[0mlast_V\u001b[0m\u001b[1;33m@\u001b[0m\u001b[0mX_p\u001b[0m\u001b[1;33m(\u001b[0m\u001b[0mx_plus1\u001b[0m\u001b[1;33m,\u001b[0m\u001b[0mp_now\u001b[0m\u001b[1;33m)\u001b[0m\u001b[1;33m)\u001b[0m\u001b[1;33m)\u001b[0m\u001b[1;33m\u001b[0m\u001b[1;33m\u001b[0m\u001b[0m\n",
      "\u001b[1;32m<__array_function__ internals>\u001b[0m in \u001b[0;36mconcatenate\u001b[1;34m(*args, **kwargs)\u001b[0m\n",
      "\u001b[1;31mValueError\u001b[0m: all the input arrays must have same number of dimensions, but the array at index 0 has 2 dimension(s) and the array at index 1 has 0 dimension(s)"
     ]
    }
   ],
   "source": [
    "xx, pp = MHE(P, r0, 2*T, 2*N, length_simulation, x, p, rhs_exp, meas, sigma,sigma2, W, ggn = True)"
   ]
  },
  {
   "cell_type": "code",
   "execution_count": null,
   "id": "11cfaee9-dce2-4b07-acee-8f02b26a7090",
   "metadata": {},
   "outputs": [],
   "source": [
    "animate_double_pendulum(\"../plots/statenoise/mhe.gif\", xx,'MHE PE with ipopt of Double Pendulum', T=T, N=N)"
   ]
  },
  {
   "cell_type": "code",
   "execution_count": null,
   "id": "6fca105e-8cad-43d2-a3a2-ce6004ec02d3",
   "metadata": {},
   "outputs": [],
   "source": [
    "animatecomparison_double_pendulum(\"../plots/statenoise/comp_mhe.gif\",Res1, xx,'MHE PE with ipopt of Double Pendulum', T=T, N=N)"
   ]
  },
  {
   "cell_type": "code",
   "execution_count": null,
   "id": "5cff8674-892f-4863-9980-f3f0db246117",
   "metadata": {},
   "outputs": [],
   "source": [
    "plt.figure(figsize=(10,8))\n",
    "plt.title(\"Comparison of the simulations:\")\n",
    "plt.xlim(-1.5,1.5)\n",
    "plt.ylim(-1.,1.)\n",
    "\n",
    "ss = Res1 # true\n",
    "s = np.array(ss).flatten()\n",
    "ll = int(s.shape[0]/6)\n",
    "x3 = np.array([get_ball2_x(s[6*i:6*(i+1)]) for i in range(ll)])\n",
    "y3 = np.array([get_ball2_y(s[6*i:6*(i+1)]) for i in range(ll)])\n",
    "plt.plot(x3,y3,linestyle = 'dotted', label = \"true\")   \n",
    "\n",
    "ss = Res2 # true comp\n",
    "s = np.array(ss).flatten()\n",
    "ll = int(s.shape[0]/6)\n",
    "x3 = np.array([get_ball2_x(s[6*i:6*(i+1)]) for i in range(ll)])\n",
    "y3 = np.array([get_ball2_y(s[6*i:6*(i+1)]) for i in range(ll)])\n",
    "#plt.plot(x3,y3,linestyle = 'dotted', label = \"true comp\")   \n",
    "\n",
    "ss = meas1 # meas\n",
    "s = np.array(ss).flatten()\n",
    "ll = int(s.shape[0]/6)\n",
    "x3 = np.array([get_ball2_x(s[6*i:6*(i+1)]) for i in range(ll)])\n",
    "y3 = np.array([get_ball2_y(s[6*i:6*(i+1)]) for i in range(ll)])\n",
    "#plt.plot(x3,y3, 'ro',label = \"measurements\")#, linestyle = 'dotted') \n",
    "\n",
    "ss = s_opt # open-loop\n",
    "s = np.array(ss).flatten()\n",
    "ll = int(s.shape[0]/6)\n",
    "x3 = np.array([get_ball2_x(s[6*i:6*(i+1)]) for i in range(ll)])\n",
    "y3 = np.array([get_ball2_y(s[6*i:6*(i+1)]) for i in range(ll)])\n",
    "#plt.plot(x3,y3,marker = 'o', label = \"open-loop\", linestyle = 'dotted', ms = 3) \n",
    "\n",
    "ss = ss_opt # open-loop short\n",
    "s = np.array(ss).flatten()\n",
    "ll = int(s.shape[0]/6)\n",
    "x3 = np.array([get_ball2_x(s[6*i:6*(i+1)]) for i in range(ll)])\n",
    "y3 = np.array([get_ball2_y(s[6*i:6*(i+1)]) for i in range(ll)])\n",
    "#plt.plot(x3,y3,marker = 'o', label = \"open-loop short\", linestyle = 'dotted', ms = 3) \n",
    "\n",
    "ss = xx # mhe\n",
    "s = np.array(ss).flatten()\n",
    "ll = int(s.shape[0]/6)\n",
    "x3 = np.array([get_ball2_x(s[6*i:6*(i+1)]) for i in range(ll)])\n",
    "y3 = np.array([get_ball2_y(s[6*i:6*(i+1)]) for i in range(ll)])\n",
    "plt.plot(x3,y3,marker = 'o', label = \"mhe\", linestyle = 'dotted', ms = 3)   \n",
    "plt.legend()\n",
    "\n",
    "#plt.savefig('imgforpres/33.png',bbox='tight')"
   ]
  },
  {
   "cell_type": "code",
   "execution_count": null,
   "id": "8a33e5e0-1c61-4102-b90f-b68f8bf308b1",
   "metadata": {},
   "outputs": [],
   "source": [
    "def plot_widget(simulations): #, n):\n",
    "    plt.figure(figsize=(10,8))\n",
    "    plt.title(\"Comparison of the simulations:\")\n",
    "    plt.xlim(-1.5,1.5)\n",
    "    plt.ylim(-1.,1.)\n",
    "    \n",
    "    \n",
    "    if 'true' in simulations:\n",
    "        ss = Res1 # true\n",
    "        s = np.array(ss).flatten()\n",
    "        ll = int(s.shape[0]/6)\n",
    "        x3 = np.array([get_ball2_x(s[6*i:6*(i+1)]) for i in range(ll)])\n",
    "        y3 = np.array([get_ball2_y(s[6*i:6*(i+1)]) for i in range(ll)])\n",
    "        plt.plot(x3,y3,linestyle = 'dotted', label = \"true\")   \n",
    "\n",
    "        \n",
    "    if 'measured' in simulations:\n",
    "        ss = meas1 # meas\n",
    "        s = np.array(ss).flatten()\n",
    "        ll = int(s.shape[0]/6)\n",
    "        x3 = np.array([get_ball2_x(s[6*i:6*(i+1)]) for i in range(ll)])\n",
    "        y3 = np.array([get_ball2_y(s[6*i:6*(i+1)]) for i in range(ll)])\n",
    "        plt.plot(x3,y3, 'ro',label = \"measurements\", ms = 5)#, linestyle = 'dotted') \n",
    "        \n",
    "    if 'open-loop' in simulations:\n",
    "        ss = s_opt # open-loop\n",
    "        s = np.array(ss).flatten()\n",
    "        ll = int(s.shape[0]/6)\n",
    "        x3 = np.array([get_ball2_x(s[6*i:6*(i+1)]) for i in range(ll)])\n",
    "        y3 = np.array([get_ball2_y(s[6*i:6*(i+1)]) for i in range(ll)])\n",
    "        plt.plot(x3,y3,marker = 'o', label = \"open-loop\", linestyle = 'dotted', ms = 3) \n",
    "        \n",
    "    if 'open-loop short' in simulations:\n",
    "        ss = ss_opt # open-loop short\n",
    "        s = np.array(ss).flatten()\n",
    "        ll = int(s.shape[0]/6)\n",
    "        x3 = np.array([get_ball2_x(s[6*i:6*(i+1)]) for i in range(ll)])\n",
    "        y3 = np.array([get_ball2_y(s[6*i:6*(i+1)]) for i in range(ll)])\n",
    "        plt.plot(x3,y3,marker = 'o', label = \"open-loop short\", linestyle = 'dotted', ms = 3) \n",
    "        \n",
    "    if 'mhe' in simulations:\n",
    "        ss = xx # mhe\n",
    "        s = np.array(ss).flatten()\n",
    "        ll = int(s.shape[0]/6)\n",
    "        x3 = np.array([get_ball2_x(s[6*i:6*(i+1)]) for i in range(ll)])\n",
    "        y3 = np.array([get_ball2_y(s[6*i:6*(i+1)]) for i in range(ll)])\n",
    "        plt.plot(x3,y3,marker = 'o', label = \"mhe\", linestyle = 'dotted', ms = 3)  \n",
    "        \n",
    "    plt.legend()\n",
    "    plt.show()"
   ]
  },
  {
   "cell_type": "code",
   "execution_count": null,
   "id": "4694cf71-af88-4fe5-bb4a-e915200273f4",
   "metadata": {},
   "outputs": [],
   "source": [
    "from ipywidgets import interact, interactive, fixed, interact_manual\n",
    "import ipywidgets as widgets\n",
    "#from animate_double import plot_widget\n",
    "\n",
    "\n",
    "interactive(plot_widget, simulations = widgets.SelectMultiple(\n",
    "    options=['true', 'measured', 'open-loop', 'open-loop short','mhe'],\n",
    "    rows = 5,\n",
    "    description='Simulations:',\n",
    "    disabled=False\n",
    "))"
   ]
  },
  {
   "cell_type": "code",
   "execution_count": null,
   "id": "f221976d-3a88-4d06-8dd6-1fc298f9747e",
   "metadata": {},
   "outputs": [],
   "source": [
    "print(pp[pp.shape[0]-2:])\n",
    "print(pp.shape)\n",
    "#print(xx.shape)"
   ]
  },
  {
   "cell_type": "code",
   "execution_count": null,
   "id": "33edcb8b-6fdf-41f5-a5e5-4cc34719557d",
   "metadata": {},
   "outputs": [],
   "source": [
    "p_plot1 = pp[::2]\n",
    "#print(p_opt[0])\n",
    "p_ref1 = p_true[0]*np.ones(p_plot1.size()[0])\n",
    "p_open_loop1 = p_opt[0]*np.ones(p_plot1.size()[0])\n",
    "\n",
    "x_ax = range(p_plot1.size()[0]) \n",
    "plt.figure(figsize=(10,5))\n",
    "plt.plot(x_ax,p_ref1, label = 'exact')\n",
    "plt.plot(x_ax, p_open_loop1, label = 'open-loop', linestyle='dotted')\n",
    "plt.plot(x_ax, p_plot1, label = 'mhe', linestyle='dotted')\n",
    "plt.title('Comparison of the estimation of parameter d1 during MHE')\n",
    "plt.xlim(0,p_plot1.size()[0])\n",
    "#plt.ylim(p_true[0]-0.3,p_true[0]+0.3) #plt.ylim(-0.4,0.1)\n",
    "plt.legend()"
   ]
  },
  {
   "cell_type": "code",
   "execution_count": null,
   "id": "9196b0cb-720c-4a4d-b829-f1543c0643c0",
   "metadata": {
    "tags": []
   },
   "outputs": [],
   "source": [
    "p_plot2 = pp[1::2]\n",
    "#print(p_plot)\n",
    "p_ref2 = p_true[1]*np.ones(p_plot2.size()[0])\n",
    "p_open_loop2 = p_opt[1]*np.ones(p_plot2.size()[0])\n",
    "\n",
    "x_ax = range(p_plot2.size()[0]) \n",
    "plt.figure(figsize=(10,5))\n",
    "plt.plot(x_ax,p_ref2, label = 'exact')\n",
    "plt.plot(x_ax, p_open_loop2, label = 'open-loop', linestyle='dotted')\n",
    "plt.plot(x_ax, p_plot2, label = 'mhe', linestyle= 'dotted')\n",
    "plt.title('Comparison of the estimation of parameter d2 during MHE')\n",
    "plt.xlim(0,p_plot2.size()[0])\n",
    "#plt.ylim(p_true[1]-0.3,p_true[1]+0.3)#plt.ylim(-0.2,0.3) ## Attention works only for this special choice of parameter!\n",
    "plt.legend()"
   ]
  },
  {
   "cell_type": "code",
   "execution_count": null,
   "id": "c8ef2f2d-4fd0-4e55-9959-9473b8898855",
   "metadata": {},
   "outputs": [],
   "source": [
    "## relative error\n",
    "## for d1:\n",
    "rel_err1 = np.zeros(p_plot1.size()[0])\n",
    "for i in x_ax:\n",
    "    rel_err1[i]=np.abs(p_plot1[i]-p_ref1[i])/p_ref1[i]\n",
    "    #rel_err1.append(np.abs(p_plot1[i]-p_ref[i])/p_ref[i])\n",
    "#print(rel_err1)\n",
    "\n",
    "## for d1:\n",
    "rel_err2 = np.zeros(p_plot2.size()[0])\n",
    "for i in x_ax:\n",
    "    rel_err2[i]=np.abs(p_plot2[i]-p_ref2[i])/p_ref2[i]\n",
    "    #rel_err1.append(np.abs(p_plot1[i]-p_ref[i])/p_ref[i])\n",
    "#print(rel_err2)\n",
    "\n",
    "plt.figure(figsize=(10,5))\n",
    "plt.plot(x_ax, rel_err1, label='rel_err_d1')\n",
    "plt.plot(x_ax, rel_err2, label = 'rel_err_d2')\n",
    "plt.yscale('log')\n",
    "plt.title('Comparison of the relative error of the estimated parameters')\n",
    "plt.legend()"
   ]
  },
  {
   "cell_type": "code",
   "execution_count": null,
   "id": "8e807976-58af-4acb-b382-00dd4fcb49fd",
   "metadata": {},
   "outputs": [],
   "source": []
  },
  {
   "cell_type": "code",
   "execution_count": null,
   "id": "f234b4f3-45de-4efa-9b5d-3fed15b14e78",
   "metadata": {},
   "outputs": [],
   "source": []
  },
  {
   "cell_type": "code",
   "execution_count": null,
   "id": "4d883d8c-4ee7-4a85-8b25-8e5b44788595",
   "metadata": {},
   "outputs": [],
   "source": []
  },
  {
   "cell_type": "code",
   "execution_count": null,
   "id": "c29d6bc4-7167-4a44-8be7-d8e0a5b2f956",
   "metadata": {},
   "outputs": [],
   "source": []
  },
  {
   "cell_type": "code",
   "execution_count": null,
   "id": "2ea0a38a-4517-4de6-bb39-6e160d7075d7",
   "metadata": {},
   "outputs": [],
   "source": []
  },
  {
   "cell_type": "code",
   "execution_count": null,
   "id": "ef301dff-4851-4f7e-980c-5375be137f3a",
   "metadata": {},
   "outputs": [],
   "source": []
  },
  {
   "cell_type": "code",
   "execution_count": null,
   "id": "7ed672aa-78bf-4a1e-8a2f-b3d4e91e5841",
   "metadata": {},
   "outputs": [],
   "source": []
  },
  {
   "cell_type": "code",
   "execution_count": null,
   "id": "b865531c-d57a-46b6-a66e-6ca95f85d297",
   "metadata": {},
   "outputs": [],
   "source": []
  }
 ],
 "metadata": {
  "kernelspec": {
   "display_name": "Python 3 (ipykernel)",
   "language": "python",
   "name": "python3"
  },
  "language_info": {
   "codemirror_mode": {
    "name": "ipython",
    "version": 3
   },
   "file_extension": ".py",
   "mimetype": "text/x-python",
   "name": "python",
   "nbconvert_exporter": "python",
   "pygments_lexer": "ipython3",
   "version": "3.9.7"
  }
 },
 "nbformat": 4,
 "nbformat_minor": 5
}
