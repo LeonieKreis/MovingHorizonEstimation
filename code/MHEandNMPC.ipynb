{
 "cells": [
  {
   "cell_type": "markdown",
   "id": "70acb978-48b0-4f49-bd59-2ef41c2d8315",
   "metadata": {},
   "source": [
    "## Pendulum Dynamics"
   ]
  },
  {
   "cell_type": "code",
   "execution_count": 1,
   "id": "b483b453-98f6-4ba4-aaee-55dc1ab44d38",
   "metadata": {},
   "outputs": [],
   "source": [
    "import ipywidgets as widgets\n",
    "from casadi import *\n",
    "import numpy as np\n",
    "import matplotlib.pyplot as plt\n",
    "import time\n",
    "\n",
    "#from pendulum_animation import make_animation\n",
    "\n",
    "from matplotlib import rc #,animation\n",
    "import matplotlib.animation as animation\n",
    "from collections import deque\n",
    "from IPython.display import HTML"
   ]
  },
  {
   "cell_type": "code",
   "execution_count": 2,
   "id": "e39625f8-1b7c-4235-83eb-1402019829b9",
   "metadata": {},
   "outputs": [],
   "source": [
    "from P2_MS1 import functions_ms #_ocp_without_timeparameter\n",
    "from P2_MS4 import solve_nlp\n",
    "\n",
    "from animate import get_cart_x, get_cart_y, get_ball_x, get_ball_y, animate_pendulum"
   ]
  },
  {
   "cell_type": "code",
   "execution_count": 3,
   "id": "92f4066b-e2c0-4944-af77-2c09987c5cc9",
   "metadata": {},
   "outputs": [],
   "source": [
    "from MS2_Leo import nmpc"
   ]
  },
  {
   "cell_type": "markdown",
   "id": "36b18a3c-2e5b-451a-988f-53c606de0c73",
   "metadata": {},
   "source": [
    "# Implementing the Pendulum Dynamics"
   ]
  },
  {
   "cell_type": "code",
   "execution_count": 4,
   "id": "50fe85f0-f0cf-4ade-ba2c-6d7c83f96546",
   "metadata": {},
   "outputs": [
    {
     "data": {
      "application/vnd.jupyter.widget-view+json": {
       "model_id": "85c47c1f9f7345528bc14ef042e5d391",
       "version_major": 2,
       "version_minor": 0
      },
      "text/plain": [
       "Image(value=b'\\x89PNG\\r\\n\\x1a\\n\\x00\\x00\\x00\\rIHDR\\x00\\x00\\x01\\xb1\\x00\\x00\\x01\\xd2\\x08\\x06\\x00\\x00\\x00b\\xb0\\xf5…"
      ]
     },
     "metadata": {},
     "output_type": "display_data"
    }
   ],
   "source": [
    "file = open(\"./Pendulum_graphic.png\", \"rb\")\n",
    "image = file.read()\n",
    "widgets.Image(\n",
    "    value=image,\n",
    "    format='png',\n",
    "    width=200,\n",
    "    height=30,\n",
    ")"
   ]
  },
  {
   "cell_type": "code",
   "execution_count": 5,
   "id": "51f343ca-4f09-46d2-9fc7-16f3dc42e3c6",
   "metadata": {},
   "outputs": [],
   "source": [
    "# our parameters !\n",
    "m = 1\n",
    "M = 2\n",
    "l = 0.2 # attention! l must be also changed in the animate.py file!\n",
    "g = 9.81"
   ]
  },
  {
   "cell_type": "code",
   "execution_count": 6,
   "id": "3e9ef14e-84f1-4ca6-96e3-67cb842f5379",
   "metadata": {},
   "outputs": [],
   "source": [
    "# defining the rhs of the ODE system\n",
    "\n",
    "# state variables\n",
    "x1 = MX.sym('x1') #r\n",
    "x2 = MX.sym('x2') #rdot\n",
    "x3 = MX.sym('x3') #theta\n",
    "x4 = MX.sym('x4') #thetadot\n",
    "x = vertcat(x1,x2,x3,x4)\n",
    "\n",
    "# control variable\n",
    "u = MX.sym('u')\n",
    "\n",
    "# rhs\n",
    "rhs_exp = vertcat(x2,\n",
    "             (-m*g*cos(x3)*sin(x3)-m*l*x4*x4*sin(x3)+u)/(M+m*sin(x3)*sin(x3)),\n",
    "             x4,\n",
    "             -g/l*sin(x3)+ cos(x3)/l*((-m*g*cos(x3)*sin(x3)-m*l*x4*x4*sin(x3)+u)/(M+m*sin(x3)*sin(x3))))\n",
    "\n",
    "rhs = Function('rhs',[x,u],[rhs_exp])\n"
   ]
  },
  {
   "cell_type": "markdown",
   "id": "89d60daa-2c33-45c4-98c0-f30cedf302eb",
   "metadata": {},
   "source": [
    "# Simulating a good initial guess"
   ]
  },
  {
   "cell_type": "code",
   "execution_count": 7,
   "id": "0734247d-3a43-4aaa-bf3d-8c691d47f40f",
   "metadata": {},
   "outputs": [],
   "source": [
    "###extra feature time grid in shooting intervals for better animation\n",
    "M = 1 # time grid\n",
    "N = 20 # number of integration steps\n",
    "T = 2\n",
    "\n",
    "in_control = np.array([15,-90,90,-90,75,  #good simulation results\n",
    "                  -5,24,-19,0,0,\n",
    "                  15,-15,15,-15,15,\n",
    "                  -15,25,-25,20,-20])\n",
    "\n",
    "#eps =0.01\n",
    "s0 = [0, 0, 0, 0]\n",
    "Res1 = s0\n",
    "\n",
    "dae = {'x': x, 'p': u, 'ode': rhs_exp}\n",
    "opts = {'tf': T/N}#{'grid':np.linspace(0,T,M)}\n",
    "F = integrator('F', 'cvodes', dae, opts)\n",
    "\n",
    "for i in range(N):\n",
    "    Fi = F(x0=s0, p=in_control[i])\n",
    "    Xk_end = Fi['xf']\n",
    "    for k in range(1,M+1):\n",
    "        Res1 = vertcat(Res1,Xk_end[:,k-1])\n",
    "    s0 = Xk_end[:,M-2]\n",
    "#print(Res1.shape)\n",
    "#print(Res1)\n",
    "#print(np.array(Res1).flatten().shape[0])\n"
   ]
  },
  {
   "cell_type": "code",
   "execution_count": 8,
   "id": "a764f359-8a24-40f0-bce2-f2411f2cf68a",
   "metadata": {},
   "outputs": [
    {
     "name": "stderr",
     "output_type": "stream",
     "text": [
      "MovieWriter Pillow unavailable; using Pillow instead.\n"
     ]
    },
    {
     "data": {
      "image/png": "[encoded data removed]",
      "text/plain": [
       "<Figure size 720x576 with 1 Axes>"
      ]
     },
     "metadata": {
      "needs_background": "light"
     },
     "output_type": "display_data"
    }
   ],
   "source": [
    "animate_pendulum(\"initialAnimation.gif\", Res1)"
   ]
  },
  {
   "cell_type": "markdown",
   "id": "bcc21bcc-cced-4e28-b287-ffe866ba000d",
   "metadata": {},
   "source": [
    "# Posing an optimal control problem"
   ]
  },
  {
   "cell_type": "code",
   "execution_count": 9,
   "id": "75fe2ec3-ed4d-4d83-977d-94646ea7411d",
   "metadata": {},
   "outputs": [],
   "source": [
    "# formulating the OCP\n",
    "\n",
    "gamma = 0.\n",
    "delta = 0.\n",
    "\n",
    "L_exp = (x3-pi)*(x3-pi)\n",
    "Lp_exp = (x3-pi)*(x3-pi) + gamma*u*u + delta*x1*x1\n",
    "M_exp = 0\n",
    "\n",
    "#todo control constraints\n",
    "cc_exp=vertcat(u+100,100-u)\n",
    "\n",
    "#todo initial and terminal constraints\n",
    "s0 = MX.sym('s0',4)\n",
    "sm = MX.sym('sm',4)\n",
    "meas = MX.sym('meas',4)\n",
    "bc_exp = vertcat(sm[2]-pi,sm[3],s0[0],s0[1],s0[2],s0[3]) ## do we need terminal constraints, yes, or the cart will speed up\n",
    "bc_mod_exp = vertcat(s0[0]-meas[0],s0[1]-meas[1],s0[2]-meas[2],s0[3]-meas[3])\n",
    "\n",
    "#todo state constraints\n",
    "statec_exp = vertcat(x[0]+0.7,-x[0]+0.7,-x[1]+22,x[1]+22)\n",
    "\n",
    "L = Function('L', [x],[L_exp])\n",
    "Lp = Function('Lp', [x,u],[Lp_exp])\n",
    "M = Function('M', [x],[M_exp])\n",
    "bc = Function('bc', [vertcat(s0,sm,meas)],[bc_exp])\n",
    "bc_mod = Function('bc_mod', [vertcat(s0,sm,meas)],[bc_mod_exp])\n",
    "statec = Function('statec',[x],[statec_exp])\n",
    "cc = Function('cc', [u], [cc_exp])"
   ]
  },
  {
   "cell_type": "markdown",
   "id": "08000e72-e247-4f77-8439-e98dca42beaa",
   "metadata": {},
   "source": [
    "# MS1: Solving the Open Loop Problem"
   ]
  },
  {
   "cell_type": "markdown",
   "id": "a5f68171-7bea-4a6a-8af7-9154d2ca3d59",
   "metadata": {},
   "source": [
    "## Solving with for T=1 and ipopt"
   ]
  },
  {
   "cell_type": "code",
   "execution_count": 10,
   "id": "f3f62b02-8361-44c0-a4b4-74e1c177b72d",
   "metadata": {},
   "outputs": [],
   "source": [
    "# we use T=1 with 10 shooting intervals\n",
    "s = np.array(Res1).flatten()\n",
    "w01 = vertcat(in_control[0:10], s[0:44])"
   ]
  },
  {
   "cell_type": "code",
   "execution_count": 11,
   "id": "6832c1fd-ea7e-4989-bd11-616d977722d4",
   "metadata": {},
   "outputs": [
    {
     "name": "stdout",
     "output_type": "stream",
     "text": [
      "Multiple shooting discretization started....\n",
      "Multiple shooting discretization done....\n",
      "dimension of w:  54\n",
      "\n",
      "******************************************************************************\n",
      "This program contains Ipopt, a library for large-scale nonlinear optimization.\n",
      " Ipopt is released as open source code under the Eclipse Public License (EPL).\n",
      "         For more information visit http://projects.coin-or.org/Ipopt\n",
      "******************************************************************************\n",
      "\n",
      "      solver  :   t_proc      (avg)   t_wall      (avg)    n_eval\n",
      "       nlp_f  |  49.00ms (  1.96ms)  49.46ms (  1.98ms)        25\n",
      "       nlp_g  |  57.00ms (  2.28ms)  56.27ms (  2.25ms)        25\n",
      "  nlp_grad_f  | 402.00ms ( 15.46ms) 399.14ms ( 15.35ms)        26\n",
      "  nlp_hess_l  |   6.10 s (254.21ms)   6.10 s (254.23ms)        24\n",
      "   nlp_jac_g  | 842.00ms ( 32.38ms) 844.19ms ( 32.47ms)        26\n",
      "       total  |   7.47 s (  7.47 s)   7.47 s (  7.47 s)         1\n"
     ]
    }
   ],
   "source": [
    "# Open loop with ipopt\n",
    "NN = 10 #no. of shooting intervals\n",
    "m = 1 # 1d control\n",
    "\n",
    "tt1, tt2, tt3, len_w = functions_ms(NN, x, u, rhs, Lp, bc, statec, cc, T=1)\n",
    "\n",
    "\n",
    "meas0 = [0,0,0,0]\n",
    "w = MX.sym('w',len_w)\n",
    "t1 = Function('t1', [w], [tt1(w,meas0)])\n",
    "t2 = Function('t2', [w], [tt2(w,meas0)])\n",
    "t3 = Function('t3', [w], [tt3(w,meas0)])\n",
    "\n",
    "w0=np.ones(len_w)\n",
    "\n",
    "uu1, ss1, wlam11, wmu11 = solve_nlp(NN,m,t1,t2,t3,w01, itmax=200, tol=1e-7, sqp = False, store_iteration = False, time_parameter=False, verbose=False)"
   ]
  },
  {
   "cell_type": "code",
   "execution_count": 12,
   "id": "0babbd9c-2147-461f-9591-cce2e829c6ce",
   "metadata": {},
   "outputs": [
    {
     "name": "stderr",
     "output_type": "stream",
     "text": [
      "MovieWriter Pillow unavailable; using Pillow instead.\n"
     ]
    },
    {
     "data": {
      "image/png": "[encoded data removed]",
      "text/plain": [
       "<Figure size 720x576 with 1 Axes>"
      ]
     },
     "metadata": {
      "needs_background": "light"
     },
     "output_type": "display_data"
    }
   ],
   "source": [
    "animate_pendulum(\"ipoptT=1.gif\", ss1)"
   ]
  },
  {
   "cell_type": "markdown",
   "id": "9c43f0b6-aab4-41fa-9f0e-966a4ba4fcc4",
   "metadata": {},
   "source": [
    "## Solving with T=2 and ipopt"
   ]
  },
  {
   "cell_type": "code",
   "execution_count": 13,
   "id": "f4bf5d61-3b47-4fb5-b344-279281e15bc3",
   "metadata": {},
   "outputs": [],
   "source": [
    "# we use T = 2 with 20 shooting intervals\n",
    "s = np.array(Res1).flatten()\n",
    "w01 = vertcat(in_control, s)\n",
    "#print(w01)\n",
    "#print(w01.shape)"
   ]
  },
  {
   "cell_type": "code",
   "execution_count": 18,
   "id": "8f11113a-fdb2-4f4f-9ff8-a1cd0da9ff33",
   "metadata": {},
   "outputs": [
    {
     "name": "stdout",
     "output_type": "stream",
     "text": [
      "Multiple shooting discretization started....\n",
      "Multiple shooting discretization done....\n",
      "dimension of w:  104\n",
      "      solver  :   t_proc      (avg)   t_wall      (avg)    n_eval\n",
      "       nlp_f  | 347.00ms (  4.13ms) 346.56ms (  4.13ms)        84\n",
      "       nlp_g  | 340.00ms (  4.05ms) 339.19ms (  4.04ms)        84\n",
      "  nlp_grad_f  |   2.07 s ( 27.61ms)   2.07 s ( 27.59ms)        75\n",
      "  nlp_hess_l  |  31.55 s (432.16ms)  31.55 s (432.18ms)        73\n",
      "   nlp_jac_g  |   4.47 s ( 59.59ms)   4.47 s ( 59.63ms)        75\n",
      "       total  |  38.84 s ( 38.84 s)  38.84 s ( 38.84 s)         1\n"
     ]
    }
   ],
   "source": [
    "# Open loop with ipopt\n",
    "NN = 20 #no. of shooting intervals\n",
    "m = 1 # 1d control\n",
    "\n",
    "tt1, tt2, tt3, len_w = functions_ms(NN, x, u, rhs, Lp, bc_mod, statec, cc, T=2)\n",
    "\n",
    "meas0 = [0,0,0,0]#[0,0,0,0]\n",
    "w = MX.sym('w',len_w)\n",
    "t1 = Function('t1', [w], [tt1(w,meas0)])\n",
    "t2 = Function('t2', [w], [tt2(w,meas0)])\n",
    "t3 = Function('t3', [w], [tt3(w,meas0)])\n",
    "\n",
    "w0=np.ones(len_w)\n",
    "\n",
    "uu, ss, wlam1, wmu1 = solve_nlp(NN,m,t1,t2,t3,w0, itmax=200, tol=1e-7, sqp = False, store_iteration = False, time_parameter=False, verbose=False)"
   ]
  },
  {
   "cell_type": "code",
   "execution_count": 19,
   "id": "f181b0f0-f5f8-4f56-a847-73e51ef41b44",
   "metadata": {},
   "outputs": [
    {
     "name": "stderr",
     "output_type": "stream",
     "text": [
      "MovieWriter Pillow unavailable; using Pillow instead.\n"
     ]
    },
    {
     "data": {
      "image/png": "[encoded data removed]",
      "text/plain": [
       "<Figure size 720x576 with 1 Axes>"
      ]
     },
     "metadata": {
      "needs_background": "light"
     },
     "output_type": "display_data"
    }
   ],
   "source": [
    "animate_pendulum(\"ipoptAnimationones.gif\",ss)"
   ]
  },
  {
   "cell_type": "markdown",
   "id": "f46e6817-ede3-48f6-a39c-4b6c6155a6c4",
   "metadata": {},
   "source": [
    "## Solving with T=2 and our sqp"
   ]
  },
  {
   "cell_type": "code",
   "execution_count": 20,
   "id": "8895cec2-cfc9-47af-b1c6-a1f406f144eb",
   "metadata": {},
   "outputs": [
    {
     "name": "stdout",
     "output_type": "stream",
     "text": [
      "Multiple shooting discretization started....\n",
      "Multiple shooting discretization done....\n",
      "dimension of w:  104\n"
     ]
    }
   ],
   "source": [
    "# Open loop with sqp\n",
    "NN = 20 #no. of shooting intervals\n",
    "m = 1 # 1d control\n",
    "\n",
    "tt1, tt2, tt3, len_w = functions_ms(NN, x, u, rhs, Lp, bc_mod, statec, cc, T=2)\n",
    "\n",
    "meas0 = [0,0,0,0]\n",
    "w = MX.sym('w',len_w)\n",
    "t1 = Function('t1', [w], [tt1(w,meas0)])\n",
    "t2 = Function('t2', [w], [tt2(w,meas0)])\n",
    "t3 = Function('t3', [w], [tt3(w,meas0)])\n",
    "\n",
    "\n",
    "w0=np.ones(len_w)\n",
    "w02 = vertcat(uu,ss)\n",
    "\n",
    "uu2, ss2, wlam2, wmu2 = solve_nlp(NN,m,t1,t2,t3,w02, itmax=200, tol=1e-7, sqp = True,lam0=wlam1,mu0=wmu1, store_iteration = False, time_parameter=False, verbose=False)"
   ]
  },
  {
   "cell_type": "code",
   "execution_count": 21,
   "id": "e9dca713-c310-437f-a195-3b0538ab0fe6",
   "metadata": {},
   "outputs": [
    {
     "name": "stderr",
     "output_type": "stream",
     "text": [
      "MovieWriter Pillow unavailable; using Pillow instead.\n"
     ]
    },
    {
     "data": {
      "image/png": "[encoded data removed]",
      "text/plain": [
       "<Figure size 720x576 with 1 Axes>"
      ]
     },
     "metadata": {
      "needs_background": "light"
     },
     "output_type": "display_data"
    }
   ],
   "source": [
    "animate_pendulum(\"sqpAnimation.gif\",ss2)"
   ]
  },
  {
   "cell_type": "markdown",
   "id": "cbdf126c-264f-41a1-b7a3-054c700ab6e5",
   "metadata": {},
   "source": [
    "# NMPC with ipopt and T=1 with perturbations"
   ]
  },
  {
   "cell_type": "code",
   "execution_count": 22,
   "id": "87cb49ea-6701-442d-9338-d89732db9518",
   "metadata": {},
   "outputs": [],
   "source": [
    "T = 1\n",
    "NN = 10\n",
    "#w0 = vertcat(uu2[0:10], ss2[0:44])\n",
    "w0 = vertcat(uu1,ss1)\n",
    "meas0 = [0,0,0,0]"
   ]
  },
  {
   "cell_type": "code",
   "execution_count": 26,
   "id": "fe88a5f6-31e4-400a-ab1e-71a8cb058a53",
   "metadata": {},
   "outputs": [
    {
     "name": "stdout",
     "output_type": "stream",
     "text": [
      "Multiple shooting discretization started....\n",
      "Multiple shooting discretization done....\n",
      "dimension of w:  54\n",
      "starting of iteration no.  0\n",
      "      solver  :   t_proc      (avg)   t_wall      (avg)    n_eval\n",
      "       nlp_f  |  12.00ms (  6.00ms)  11.26ms (  5.63ms)         2\n",
      "       nlp_g  |        0 (       0)        0 (       0)         2\n",
      "  nlp_grad_f  |  45.00ms ( 15.00ms)  45.45ms ( 15.15ms)         3\n",
      "  nlp_hess_l  | 234.00ms (234.00ms) 234.17ms (234.17ms)         1\n",
      "   nlp_jac_g  |  96.00ms ( 32.00ms)  96.29ms ( 32.10ms)         3\n",
      "       total  | 387.00ms (387.00ms) 387.17ms (387.17ms)         1\n",
      "needed time in iteration0 0.505161199999975\n",
      "starting of iteration no.  1\n",
      "      solver  :   t_proc      (avg)   t_wall      (avg)    n_eval\n",
      "       nlp_f  |   6.00ms (  3.00ms)   6.12ms (  3.06ms)         2\n",
      "       nlp_g  |   5.00ms (  2.50ms)   4.61ms (  2.31ms)         2\n",
      "  nlp_grad_f  |  31.00ms ( 10.33ms)  31.24ms ( 10.41ms)         3\n",
      "  nlp_hess_l  | 240.00ms (240.00ms) 239.77ms (239.77ms)         1\n",
      "   nlp_jac_g  | 103.00ms ( 34.33ms) 102.64ms ( 34.21ms)         3\n",
      "       total  | 385.00ms (385.00ms) 384.39ms (384.39ms)         1\n",
      "needed time in iteration1 0.5356383000000733\n",
      "starting of iteration no.  2\n",
      "      solver  :   t_proc      (avg)   t_wall      (avg)    n_eval\n",
      "       nlp_f  |        0 (       0)        0 (       0)         2\n",
      "       nlp_g  |  13.00ms (  6.50ms)  13.08ms (  6.54ms)         2\n",
      "  nlp_grad_f  |  51.00ms ( 17.00ms)  51.58ms ( 17.19ms)         3\n",
      "  nlp_hess_l  | 224.00ms (224.00ms) 223.89ms (223.89ms)         1\n",
      "   nlp_jac_g  |  85.00ms ( 28.33ms)  84.67ms ( 28.22ms)         3\n",
      "       total  | 373.00ms (373.00ms) 373.22ms (373.22ms)         1\n",
      "needed time in iteration2 0.5133923000000777\n",
      "starting of iteration no.  3\n",
      "      solver  :   t_proc      (avg)   t_wall      (avg)    n_eval\n",
      "       nlp_f  |        0 (       0)        0 (       0)         2\n",
      "       nlp_g  |        0 (       0)        0 (       0)         2\n",
      "  nlp_grad_f  |  42.00ms ( 14.00ms)  41.34ms ( 13.78ms)         3\n",
      "  nlp_hess_l  | 223.00ms (223.00ms) 223.07ms (223.07ms)         1\n",
      "   nlp_jac_g  |  86.00ms ( 28.67ms)  86.64ms ( 28.88ms)         3\n",
      "       total  | 352.00ms (352.00ms) 352.06ms (352.06ms)         1\n",
      "needed time in iteration3 0.5007617000001119\n",
      "starting of iteration no.  4\n",
      "      solver  :   t_proc      (avg)   t_wall      (avg)    n_eval\n",
      "       nlp_f  |  11.00ms (  5.50ms)  10.96ms (  5.48ms)         2\n",
      "       nlp_g  |        0 (       0)        0 (       0)         2\n",
      "  nlp_grad_f  |  37.00ms ( 12.33ms)  37.24ms ( 12.41ms)         3\n",
      "  nlp_hess_l  | 192.00ms (192.00ms) 191.82ms (191.82ms)         1\n",
      "   nlp_jac_g  |  85.00ms ( 28.33ms)  84.89ms ( 28.30ms)         3\n",
      "       total  | 327.00ms (327.00ms) 326.38ms (326.38ms)         1\n",
      "needed time in iteration4 0.48166809999997895\n",
      "starting of iteration no.  5\n",
      "      solver  :   t_proc      (avg)   t_wall      (avg)    n_eval\n",
      "       nlp_f  |  10.00ms (  2.50ms)  10.55ms (  2.64ms)         4\n",
      "       nlp_g  |   4.00ms (  1.00ms)   4.30ms (  1.08ms)         4\n",
      "  nlp_grad_f  |  43.00ms ( 14.33ms)  42.85ms ( 14.28ms)         3\n",
      "  nlp_hess_l  | 208.00ms (208.00ms) 207.49ms (207.49ms)         1\n",
      "   nlp_jac_g  |  77.00ms ( 25.67ms)  76.46ms ( 25.49ms)         3\n",
      "       total  | 342.00ms (342.00ms) 341.64ms (341.64ms)         1\n",
      "needed time in iteration5 0.4900204999999005\n",
      "starting of iteration no.  6\n",
      "      solver  :   t_proc      (avg)   t_wall      (avg)    n_eval\n",
      "       nlp_f  |        0 (       0)        0 (       0)         2\n",
      "       nlp_g  |        0 (       0)        0 (       0)         2\n",
      "  nlp_grad_f  |  38.00ms ( 12.67ms)  37.50ms ( 12.50ms)         3\n",
      "  nlp_hess_l  | 192.00ms (192.00ms) 191.96ms (191.96ms)         1\n",
      "   nlp_jac_g  |  85.00ms ( 28.33ms)  84.79ms ( 28.26ms)         3\n",
      "       total  | 320.00ms (320.00ms) 319.76ms (319.76ms)         1\n",
      "needed time in iteration6 0.46193589999984397\n",
      "starting of iteration no.  7\n",
      "      solver  :   t_proc      (avg)   t_wall      (avg)    n_eval\n",
      "       nlp_f  |        0 (       0)        0 (       0)         2\n",
      "       nlp_g  |        0 (       0)        0 (       0)         2\n",
      "  nlp_grad_f  |  49.00ms ( 16.33ms)  47.87ms ( 15.96ms)         3\n",
      "  nlp_hess_l  | 181.00ms (181.00ms) 181.67ms (181.67ms)         1\n",
      "   nlp_jac_g  |  58.00ms ( 19.33ms)  58.75ms ( 19.58ms)         3\n",
      "       total  | 288.00ms (288.00ms) 288.29ms (288.29ms)         1\n",
      "needed time in iteration7 0.44305519999988974\n",
      "starting of iteration no.  8\n",
      "      solver  :   t_proc      (avg)   t_wall      (avg)    n_eval\n",
      "       nlp_f  |        0 (       0)        0 (       0)         2\n",
      "       nlp_g  |        0 (       0)        0 (       0)         2\n",
      "  nlp_grad_f  |  43.00ms ( 14.33ms)  41.80ms ( 13.93ms)         3\n",
      "  nlp_hess_l  | 171.00ms (171.00ms) 170.91ms (170.91ms)         1\n",
      "   nlp_jac_g  |  64.00ms ( 21.33ms)  64.60ms ( 21.53ms)         3\n",
      "       total  | 278.00ms (278.00ms) 277.30ms (277.30ms)         1\n",
      "needed time in iteration8 0.4327703000001293\n",
      "starting of iteration no.  9\n",
      "      solver  :   t_proc      (avg)   t_wall      (avg)    n_eval\n",
      "       nlp_f  |   6.00ms (  3.00ms)   6.02ms (  3.01ms)         2\n",
      "       nlp_g  |        0 (       0)        0 (       0)         2\n",
      "  nlp_grad_f  |  37.00ms ( 12.33ms)  36.65ms ( 12.22ms)         3\n",
      "  nlp_hess_l  | 160.00ms (160.00ms) 159.94ms (159.94ms)         1\n",
      "   nlp_jac_g  |  64.00ms ( 21.33ms)  64.62ms ( 21.54ms)         3\n",
      "       total  | 267.00ms (267.00ms) 267.23ms (267.23ms)         1\n",
      "needed time in iteration9 0.4142853999999261\n",
      "starting of iteration no.  10\n",
      "      solver  :   t_proc      (avg)   t_wall      (avg)    n_eval\n",
      "       nlp_f  |  11.00ms (  5.50ms)  11.66ms (  5.83ms)         2\n",
      "       nlp_g  |        0 (       0)        0 (       0)         2\n",
      "  nlp_grad_f  |  31.00ms ( 10.33ms)  31.96ms ( 10.65ms)         3\n",
      "  nlp_hess_l  | 160.00ms (160.00ms) 159.28ms (159.28ms)         1\n",
      "   nlp_jac_g  |  75.00ms ( 25.00ms)  74.74ms ( 24.91ms)         3\n",
      "       total  | 277.00ms (277.00ms) 277.63ms (277.63ms)         1\n",
      "needed time in iteration10 0.4160782000001291\n",
      "starting of iteration no.  11\n",
      "      solver  :   t_proc      (avg)   t_wall      (avg)    n_eval\n",
      "       nlp_f  |  19.00ms (  9.50ms)  19.85ms (  9.93ms)         2\n",
      "       nlp_g  |        0 (       0)        0 (       0)         2\n",
      "  nlp_grad_f  |  34.00ms ( 11.33ms)  33.02ms ( 11.01ms)         3\n",
      "  nlp_hess_l  | 182.00ms (182.00ms) 181.55ms (181.55ms)         1\n",
      "   nlp_jac_g  |  74.00ms ( 24.67ms)  74.46ms ( 24.82ms)         3\n",
      "       total  | 309.00ms (309.00ms) 308.88ms (308.88ms)         1\n",
      "needed time in iteration11 0.4552854999999454\n",
      "starting of iteration no.  12\n",
      "      solver  :   t_proc      (avg)   t_wall      (avg)    n_eval\n",
      "       nlp_f  |        0 (       0)        0 (       0)         2\n",
      "       nlp_g  |  10.00ms (  5.00ms)  10.51ms (  5.25ms)         2\n",
      "  nlp_grad_f  |  30.00ms ( 10.00ms)  29.34ms (  9.78ms)         3\n",
      "  nlp_hess_l  | 192.00ms (192.00ms) 191.80ms (191.80ms)         1\n",
      "   nlp_jac_g  |  86.00ms ( 28.67ms)  85.54ms ( 28.51ms)         3\n",
      "       total  | 318.00ms (318.00ms) 317.19ms (317.19ms)         1\n",
      "needed time in iteration12 0.4636536000000433\n",
      "starting of iteration no.  13\n",
      "      solver  :   t_proc      (avg)   t_wall      (avg)    n_eval\n",
      "       nlp_f  |        0 (       0)        0 (       0)         2\n",
      "       nlp_g  |   6.00ms (  3.00ms)   5.02ms (  2.51ms)         2\n",
      "  nlp_grad_f  |  26.00ms (  8.67ms)  26.56ms (  8.85ms)         3\n",
      "  nlp_hess_l  | 203.00ms (203.00ms) 203.34ms (203.34ms)         1\n",
      "   nlp_jac_g  |  90.00ms ( 30.00ms)  90.18ms ( 30.06ms)         3\n",
      "       total  | 325.00ms (325.00ms) 325.10ms (325.10ms)         1\n",
      "needed time in iteration13 0.46429200000011406\n",
      "starting of iteration no.  14\n",
      "      solver  :   t_proc      (avg)   t_wall      (avg)    n_eval\n",
      "       nlp_f  |        0 (       0)        0 (       0)         2\n",
      "       nlp_g  |   1.00ms (500.00us) 518.00us (259.00us)         2\n",
      "  nlp_grad_f  |  43.00ms ( 14.33ms)  42.42ms ( 14.14ms)         3\n",
      "  nlp_hess_l  | 191.00ms (191.00ms) 191.06ms (191.06ms)         1\n",
      "   nlp_jac_g  |  71.00ms ( 23.67ms)  71.07ms ( 23.69ms)         3\n",
      "       total  | 315.00ms (315.00ms) 314.62ms (314.62ms)         1\n",
      "needed time in iteration14 0.4601623999999447\n",
      "starting of iteration no.  15\n",
      "      solver  :   t_proc      (avg)   t_wall      (avg)    n_eval\n",
      "       nlp_f  |        0 (       0)        0 (       0)         2\n",
      "       nlp_g  |   5.00ms (  2.50ms)   5.03ms (  2.51ms)         2\n",
      "  nlp_grad_f  |  39.00ms ( 13.00ms)  39.13ms ( 13.04ms)         3\n",
      "  nlp_hess_l  | 203.00ms (203.00ms) 202.71ms (202.71ms)         1\n",
      "   nlp_jac_g  |  87.00ms ( 29.00ms)  87.33ms ( 29.11ms)         3\n",
      "       total  | 334.00ms (334.00ms) 334.20ms (334.20ms)         1\n",
      "needed time in iteration15 0.47042369999985567\n",
      "starting of iteration no.  16\n",
      "      solver  :   t_proc      (avg)   t_wall      (avg)    n_eval\n",
      "       nlp_f  |  21.00ms ( 10.50ms)  20.98ms ( 10.49ms)         2\n",
      "       nlp_g  |        0 (       0)        0 (       0)         2\n",
      "  nlp_grad_f  |  43.00ms ( 14.33ms)  42.74ms ( 14.25ms)         3\n",
      "  nlp_hess_l  | 203.00ms (203.00ms) 202.94ms (202.94ms)         1\n",
      "   nlp_jac_g  |  74.00ms ( 24.67ms)  74.67ms ( 24.89ms)         3\n",
      "       total  | 341.00ms (341.00ms) 341.33ms (341.33ms)         1\n",
      "needed time in iteration16 0.4831257999999252\n",
      "starting of iteration no.  17\n",
      "      solver  :   t_proc      (avg)   t_wall      (avg)    n_eval\n",
      "       nlp_f  |        0 (       0)        0 (       0)         2\n",
      "       nlp_g  |        0 (       0)        0 (       0)         2\n",
      "  nlp_grad_f  |  32.00ms ( 10.67ms)  32.34ms ( 10.78ms)         3\n",
      "  nlp_hess_l  | 207.00ms (207.00ms) 207.49ms (207.49ms)         1\n",
      "   nlp_jac_g  |  86.00ms ( 28.67ms)  85.29ms ( 28.43ms)         3\n",
      "       total  | 331.00ms (331.00ms) 330.76ms (330.76ms)         1\n",
      "needed time in iteration17 0.4799540999999863\n",
      "starting of iteration no.  18\n",
      "      solver  :   t_proc      (avg)   t_wall      (avg)    n_eval\n",
      "       nlp_f  |   5.00ms (  2.50ms)   4.51ms (  2.26ms)         2\n",
      "       nlp_g  |  22.00ms ( 11.00ms)  21.68ms ( 10.84ms)         2\n",
      "  nlp_grad_f  |  34.00ms ( 11.33ms)  34.12ms ( 11.37ms)         3\n",
      "  nlp_hess_l  | 181.00ms (181.00ms) 181.19ms (181.19ms)         1\n",
      "   nlp_jac_g  |  63.00ms ( 21.00ms)  63.43ms ( 21.14ms)         3\n",
      "       total  | 309.00ms (309.00ms) 309.49ms (309.49ms)         1\n",
      "needed time in iteration18 0.45983509999996386\n",
      "starting of iteration no.  19\n",
      "      solver  :   t_proc      (avg)   t_wall      (avg)    n_eval\n",
      "       nlp_f  |        0 (       0)        0 (       0)         2\n",
      "       nlp_g  |  10.00ms (  5.00ms)  10.49ms (  5.24ms)         2\n",
      "  nlp_grad_f  |  41.00ms ( 13.67ms)  41.92ms ( 13.97ms)         3\n",
      "  nlp_hess_l  | 203.00ms (203.00ms) 202.61ms (202.61ms)         1\n",
      "   nlp_jac_g  |  87.00ms ( 29.00ms)  86.01ms ( 28.67ms)         3\n",
      "       total  | 341.00ms (341.00ms) 341.04ms (341.04ms)         1\n",
      "needed time in iteration19 0.4790834000000359\n",
      "starting of iteration no.  20\n",
      "      solver  :   t_proc      (avg)   t_wall      (avg)    n_eval\n",
      "       nlp_f  |        0 (       0)        0 (       0)         2\n",
      "       nlp_g  |  11.00ms (  5.50ms)  10.97ms (  5.48ms)         2\n",
      "  nlp_grad_f  |  32.00ms ( 10.67ms)  32.39ms ( 10.80ms)         3\n",
      "  nlp_hess_l  | 213.00ms (213.00ms) 213.08ms (213.08ms)         1\n",
      "   nlp_jac_g  |  97.00ms ( 32.33ms)  96.02ms ( 32.01ms)         3\n",
      "       total  | 353.00ms (353.00ms) 352.45ms (352.45ms)         1\n",
      "needed time in iteration20 0.4990327000000434\n",
      "starting of iteration no.  21\n",
      "      solver  :   t_proc      (avg)   t_wall      (avg)    n_eval\n",
      "       nlp_f  |        0 (       0)        0 (       0)         2\n",
      "       nlp_g  |        0 (       0)        0 (       0)         2\n",
      "  nlp_grad_f  |  42.00ms ( 14.00ms)  42.58ms ( 14.19ms)         3\n",
      "  nlp_hess_l  | 224.00ms (224.00ms) 224.08ms (224.08ms)         1\n",
      "   nlp_jac_g  |  86.00ms ( 28.67ms)  85.01ms ( 28.34ms)         3\n",
      "       total  | 352.00ms (352.00ms) 351.67ms (351.67ms)         1\n",
      "needed time in iteration21 0.5028745999998137\n",
      "starting of iteration no.  22\n",
      "      solver  :   t_proc      (avg)   t_wall      (avg)    n_eval\n",
      "       nlp_f  |        0 (       0)        0 (       0)         2\n",
      "       nlp_g  |        0 (       0)        0 (       0)         2\n",
      "  nlp_grad_f  |  48.00ms ( 16.00ms)  47.03ms ( 15.68ms)         3\n",
      "  nlp_hess_l  | 218.00ms (218.00ms) 218.73ms (218.73ms)         1\n",
      "   nlp_jac_g  |  85.00ms ( 28.33ms)  85.43ms ( 28.48ms)         3\n",
      "       total  | 351.00ms (351.00ms) 351.19ms (351.19ms)         1\n",
      "needed time in iteration22 0.5051992000001064\n",
      "starting of iteration no.  23\n",
      "      solver  :   t_proc      (avg)   t_wall      (avg)    n_eval\n",
      "       nlp_f  |        0 (       0)        0 (       0)         2\n",
      "       nlp_g  |        0 (       0)        0 (       0)         2\n",
      "  nlp_grad_f  |  33.00ms ( 11.00ms)  32.10ms ( 10.70ms)         3\n",
      "  nlp_hess_l  | 224.00ms (224.00ms) 223.96ms (223.96ms)         1\n",
      "   nlp_jac_g  |  96.00ms ( 32.00ms)  96.25ms ( 32.08ms)         3\n",
      "       total  | 353.00ms (353.00ms) 352.31ms (352.31ms)         1\n",
      "needed time in iteration23 0.5003983999999946\n",
      "starting of iteration no.  24\n",
      "      solver  :   t_proc      (avg)   t_wall      (avg)    n_eval\n",
      "       nlp_f  |        0 (       0)        0 (       0)         2\n",
      "       nlp_g  |  11.00ms (  5.50ms)  10.53ms (  5.27ms)         2\n",
      "  nlp_grad_f  |  36.00ms ( 12.00ms)  37.02ms ( 12.34ms)         3\n",
      "  nlp_hess_l  | 256.00ms (256.00ms) 255.94ms (255.94ms)         1\n",
      "   nlp_jac_g  | 102.00ms ( 34.00ms) 101.40ms ( 33.80ms)         3\n",
      "       total  | 405.00ms (405.00ms) 404.89ms (404.89ms)         1\n",
      "needed time in iteration24 0.5615852000000814\n",
      "starting of iteration no.  25\n",
      "      solver  :   t_proc      (avg)   t_wall      (avg)    n_eval\n",
      "       nlp_f  |   5.00ms (  2.50ms)   5.02ms (  2.51ms)         2\n",
      "       nlp_g  |   2.00ms (  1.00ms)   2.07ms (  1.04ms)         2\n",
      "  nlp_grad_f  |  47.00ms ( 15.67ms)  46.60ms ( 15.53ms)         3\n",
      "  nlp_hess_l  | 251.00ms (251.00ms) 250.97ms (250.97ms)         1\n",
      "   nlp_jac_g  | 111.00ms ( 37.00ms) 111.18ms ( 37.06ms)         3\n",
      "       total  | 416.00ms (416.00ms) 415.83ms (415.83ms)         1\n",
      "needed time in iteration25 0.5571293000000423\n",
      "starting of iteration no.  26\n",
      "      solver  :   t_proc      (avg)   t_wall      (avg)    n_eval\n",
      "       nlp_f  |  10.00ms (  5.00ms)  10.59ms (  5.29ms)         2\n",
      "       nlp_g  |  11.00ms (  5.50ms)  10.46ms (  5.23ms)         2\n",
      "  nlp_grad_f  |  37.00ms ( 12.33ms)  36.92ms ( 12.31ms)         3\n",
      "  nlp_hess_l  | 235.00ms (235.00ms) 234.87ms (234.87ms)         1\n",
      "   nlp_jac_g  | 101.00ms ( 33.67ms) 101.49ms ( 33.83ms)         3\n",
      "       total  | 394.00ms (394.00ms) 394.33ms (394.33ms)         1\n",
      "needed time in iteration26 0.5422631999999794\n",
      "starting of iteration no.  27\n",
      "      solver  :   t_proc      (avg)   t_wall      (avg)    n_eval\n",
      "       nlp_f  |        0 (       0)        0 (       0)         2\n",
      "       nlp_g  |   5.00ms (  2.50ms)   5.17ms (  2.59ms)         2\n",
      "  nlp_grad_f  |  37.00ms ( 12.33ms)  37.61ms ( 12.54ms)         3\n",
      "  nlp_hess_l  | 257.00ms (257.00ms) 256.18ms (256.18ms)         1\n",
      "   nlp_jac_g  | 107.00ms ( 35.67ms) 106.33ms ( 35.44ms)         3\n",
      "       total  | 406.00ms (406.00ms) 405.29ms (405.29ms)         1\n",
      "needed time in iteration27 0.5551299999999628\n",
      "starting of iteration no.  28\n",
      "      solver  :   t_proc      (avg)   t_wall      (avg)    n_eval\n",
      "       nlp_f  |        0 (       0)        0 (       0)         2\n",
      "       nlp_g  |  10.00ms (  5.00ms)  10.84ms (  5.42ms)         2\n",
      "  nlp_grad_f  |  43.00ms ( 14.33ms)  43.86ms ( 14.62ms)         3\n",
      "  nlp_hess_l  | 259.00ms (259.00ms) 259.44ms (259.44ms)         1\n",
      "   nlp_jac_g  |  92.00ms ( 30.67ms)  90.73ms ( 30.24ms)         3\n",
      "       total  | 405.00ms (405.00ms) 405.05ms (405.05ms)         1\n",
      "needed time in iteration28 0.5611688999999842\n",
      "starting of iteration no.  29\n",
      "      solver  :   t_proc      (avg)   t_wall      (avg)    n_eval\n",
      "       nlp_f  |        0 (       0)        0 (       0)         2\n",
      "       nlp_g  |   5.00ms (  2.50ms)   5.02ms (  2.51ms)         2\n",
      "  nlp_grad_f  |  63.00ms ( 21.00ms)  64.09ms ( 21.36ms)         3\n",
      "  nlp_hess_l  | 257.00ms (257.00ms) 256.18ms (256.18ms)         1\n",
      "   nlp_jac_g  |  91.00ms ( 30.33ms)  91.00ms ( 30.33ms)         3\n",
      "       total  | 416.00ms (416.00ms) 416.30ms (416.30ms)         1\n",
      "needed time in iteration29 0.5567011000000548\n",
      "starting of iteration no.  30\n",
      "      solver  :   t_proc      (avg)   t_wall      (avg)    n_eval\n",
      "       nlp_f  |   4.00ms (  2.00ms)   4.39ms (  2.20ms)         2\n",
      "       nlp_g  |   6.00ms (  3.00ms)   5.51ms (  2.76ms)         2\n",
      "  nlp_grad_f  |  43.00ms ( 14.33ms)  43.08ms ( 14.36ms)         3\n",
      "  nlp_hess_l  | 231.00ms (231.00ms) 230.43ms (230.43ms)         1\n",
      "   nlp_jac_g  | 101.00ms ( 33.67ms) 101.56ms ( 33.85ms)         3\n",
      "       total  | 385.00ms (385.00ms) 384.98ms (384.98ms)         1\n",
      "needed time in iteration30 0.5286036999998487\n"
     ]
    }
   ],
   "source": [
    "u_real1, s_real1, S0, S1 = nmpc(T,NN,w0,meas0,x, u, rhs, Lp, bc_mod, statec, cc, wlam11[2:], wmu11,per=0.3,sqp=False)"
   ]
  },
  {
   "cell_type": "code",
   "execution_count": 27,
   "id": "b12c0ed1-05d7-4158-82a6-6cd76c2fb43d",
   "metadata": {},
   "outputs": [
    {
     "name": "stderr",
     "output_type": "stream",
     "text": [
      "MovieWriter Pillow unavailable; using Pillow instead.\n"
     ]
    },
    {
     "data": {
      "image/png": "[encoded data removed]",
      "text/plain": [
       "<Figure size 720x576 with 1 Axes>"
      ]
     },
     "metadata": {
      "needs_background": "light"
     },
     "output_type": "display_data"
    }
   ],
   "source": [
    "animate_pendulum(\"nmpc_ipopt_per.gif\",s_real1)"
   ]
  },
  {
   "cell_type": "code",
   "execution_count": null,
   "id": "afb5b90f-55b2-4d36-afd3-06a3f88e95a6",
   "metadata": {},
   "outputs": [],
   "source": []
  },
  {
   "cell_type": "code",
   "execution_count": null,
   "id": "0738b4ca-c3e0-49b2-9afb-0d25c1032a27",
   "metadata": {},
   "outputs": [],
   "source": [
    "s_real1\n",
    "SS = [6.81779200e-32,  5.48258329e-29,  4.20106951e-29, -1.48872574e-27,\n",
    " -2.50008362e-04, -5.26812618e-04, -9.76730779e-04,  1.11619883e-02,\n",
    "  3.93030033e-03,  8.95340213e-02,  2.50317314e-02,  5.29619071e-01,\n",
    "  1.29147175e-02,  6.54810898e-02,  5.13209893e-02, -1.73717669e-01,\n",
    "  1.05182063e-02, -7.67132271e-02, -6.67629045e-02, -1.86607396e+00,\n",
    "  8.18745337e-03,  3.32710777e-02, -2.23138879e-01, -9.03085201e-01,\n",
    " -1.54385771e-03, -1.88526208e-01, -2.94759284e-01, -6.41620300e-02,\n",
    " -1.45761460e-02, -1.66445642e-02, -1.07417479e-01,  3.88006767e+00,\n",
    "  1.01112777e-02,  6.01832843e-01,  5.13225318e-01,  8.63162271e+00,\n",
    "  1.33597651e-01,  1.79877726e+00,  1.78242983e+00,  1.61158454e+01,\n",
    "  1.76496408e-01, -1.22421153e+00,  2.44498690e+00, -6.29911201e+00]"
   ]
  },
  {
   "cell_type": "code",
   "execution_count": null,
   "id": "342d8b19-a619-4729-a11d-26da8925ddb8",
   "metadata": {},
   "outputs": [],
   "source": [
    "#T = 0.5\n",
    "#NN = 5\n",
    "#w0 = vertcat(uu2[0:5], ss2[0:24])\n",
    "#meas0 = [0,0,0,0]"
   ]
  },
  {
   "cell_type": "code",
   "execution_count": null,
   "id": "5a361bc8-bf95-4abf-8a48-51c0cd525a89",
   "metadata": {},
   "outputs": [],
   "source": [
    "#u_real, s_real, S0,S1 = nmpc(T,NN,w0,meas0,x, u, rhs, Lp, bc_mod, statec, cc, np.ones(24), np.zeros(34),per=0,sqp=False)"
   ]
  },
  {
   "cell_type": "code",
   "execution_count": null,
   "id": "b835dded-1f5b-4bf0-8a6e-d01d86cbe588",
   "metadata": {},
   "outputs": [],
   "source": [
    "#animate_pendulum(\"nmpcAnimation.gif\",s_real)"
   ]
  },
  {
   "cell_type": "code",
   "execution_count": null,
   "id": "a0089cfa-9adb-4b61-8651-955773c3b425",
   "metadata": {},
   "outputs": [],
   "source": [
    "#S = [ 6.81779200e-32,  0.00000000e+00, -3.05645082e-29,  1.49474620e-27,\n",
    "#  6.75188508e-03,  1.35223882e-01,  3.25315430e-02,  6.29559757e-01,\n",
    "#  2.77514945e-02,  2.82396311e-01,  1.21618901e-01,  1.07674755e+00,\n",
    "#  5.34305085e-02,  2.13013172e-01,  1.69907197e-01, -2.54874496e-01,\n",
    "#  6.18264290e-02, -1.94870424e-02,  1.29671690e-02, -2.61333105e+00,\n",
    "#  5.61391430e-02, -6.26578980e-02, -2.68725495e-01, -2.45990246e+00]\n",
    "#animate_pendulum(\"debugnmpc.gif\",S)"
   ]
  }
 ],
 "metadata": {
  "kernelspec": {
   "display_name": "Python 3 (ipykernel)",
   "language": "python",
   "name": "python3"
  },
  "language_info": {
   "codemirror_mode": {
    "name": "ipython",
    "version": 3
   },
   "file_extension": ".py",
   "mimetype": "text/x-python",
   "name": "python",
   "nbconvert_exporter": "python",
   "pygments_lexer": "ipython3",
   "version": "3.9.7"
  }
 },
 "nbformat": 4,
 "nbformat_minor": 5
}
