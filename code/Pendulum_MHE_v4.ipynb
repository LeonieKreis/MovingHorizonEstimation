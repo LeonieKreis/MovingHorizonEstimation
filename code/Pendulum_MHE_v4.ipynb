{
 "cells": [
  {
   "cell_type": "code",
   "execution_count": 1,
   "id": "1fc7925f-7bb6-4ac2-b20d-06a0ba17daba",
   "metadata": {},
   "outputs": [],
   "source": [
    "import ipywidgets as widgets\n",
    "from casadi import *\n",
    "import numpy as np\n",
    "import matplotlib.pyplot as plt\n",
    "import time\n",
    "\n",
    "\n",
    "from matplotlib import rc \n",
    "import matplotlib.animation as animation\n",
    "from collections import deque\n",
    "from IPython.display import HTML"
   ]
  },
  {
   "cell_type": "code",
   "execution_count": 2,
   "id": "ab91f173-3ee5-4273-9eaf-0e65248307ff",
   "metadata": {},
   "outputs": [],
   "source": [
    "from functions_v3 import arrival_cost_values, MS_functions_MHE, generate_meas, cnlls_solver, MHE\n",
    "\n",
    "\n",
    "from animate import get_cart_x, get_cart_y, get_ball_x, get_ball_y, animate_pendulum"
   ]
  },
  {
   "cell_type": "markdown",
   "id": "8f970bc8-ca09-474c-9b20-cff819854f60",
   "metadata": {},
   "source": [
    "# Model Dynamics"
   ]
  },
  {
   "cell_type": "code",
   "execution_count": 3,
   "id": "a9e24e3d-4251-4a7b-9515-b1df98e7f2da",
   "metadata": {},
   "outputs": [],
   "source": [
    "# our parameters !\n",
    "m = 1\n",
    "M = 5\n",
    "l = 1 # attention! l must be also changed in the animate.py file!\n",
    "g = 9.81"
   ]
  },
  {
   "cell_type": "code",
   "execution_count": 4,
   "id": "8acfe22b-d7a9-43c2-9a80-7f77843b8ff3",
   "metadata": {},
   "outputs": [],
   "source": [
    "# defining the rhs of the ODE system\n",
    "\n",
    "# state variables\n",
    "x1 = MX.sym('x1') #r\n",
    "x2 = MX.sym('x2') #rdot\n",
    "x3 = MX.sym('x3') #theta\n",
    "x4 = MX.sym('x4') #thetadot\n",
    "x = vertcat(x1,x2,x3,x4)\n",
    "\n",
    "# parameter\n",
    "p = MX.sym('p')\n",
    "\n",
    "u=0\n",
    "\n",
    "# rhs\n",
    "rhs_exp = vertcat(x2,\n",
    "             (-m*g*cos(x3)*sin(x3)-m*l*x4*x4*sin(x3)+u)/(M+m*sin(x3)*sin(x3)),\n",
    "             x4,\n",
    "             -g/l*sin(x3)+ cos(x3)/l*((-m*g*cos(x3)*sin(x3)-m*l*x4*x4*sin(x3)+u)/(M+m*sin(x3)*sin(x3)))-p/m*x4)\n",
    "\n",
    "rhs = Function('rhs',[x,p],[rhs_exp])"
   ]
  },
  {
   "cell_type": "markdown",
   "id": "36b36c49-15ac-44d8-8f9a-55635873ed7a",
   "metadata": {},
   "source": [
    "# Simulation"
   ]
  },
  {
   "cell_type": "code",
   "execution_count": 5,
   "id": "05c80d7e-3ec1-46a6-80f0-d10eab3b2144",
   "metadata": {},
   "outputs": [
    {
     "name": "stdout",
     "output_type": "stream",
     "text": [
      "(404, 1)\n"
     ]
    }
   ],
   "source": [
    "N = 10 #100 # number of integration steps\n",
    "T = 0.5 #1 #10.0\n",
    "L = 10 # -> insgesamt 5 sekunden\n",
    "\n",
    "p_true = [0.5]\n",
    "\n",
    "eps = 0.8\n",
    "s0 = [0, 0, pi-eps, 0]\n",
    "x0 = s0 ## initial conditions from paper\n",
    "Res1 = s0\n",
    "\n",
    "dae = {'x': x, 'p': p, 'ode': rhs_exp}\n",
    "opts = {'tf': T/N}\n",
    "F = integrator('F', 'cvodes', dae, opts)\n",
    "\n",
    "for i in range(L*N):\n",
    "    Fi = F(x0=s0, p=p_true)\n",
    "    Xk_end = Fi['xf']\n",
    "    # for k in range(1,M+1):\n",
    "    Res1 = vertcat(Res1,Xk_end[:,-1])\n",
    "    s0 = Xk_end[:,-1]\n",
    "print(Res1.shape)"
   ]
  },
  {
   "cell_type": "markdown",
   "id": "00c2b9e7-5240-49f5-9452-4c8a9e275236",
   "metadata": {},
   "source": [
    "# Simulation with p=0 as comparison"
   ]
  },
  {
   "cell_type": "code",
   "execution_count": 6,
   "id": "f82cc46f-4c8d-4f76-b9ce-efa2bc7761a3",
   "metadata": {},
   "outputs": [],
   "source": [
    "N = 10 #100 # number of integration steps\n",
    "T = 0.5 #1 #10.0\n",
    "L = 10 # -> insgesamt 5 sekunden\n",
    "\n",
    "p_true2 = [0.]\n",
    "\n",
    "\n",
    "#x0 = s0 ## initial conditions from paper\n",
    "Res2 = s0\n",
    "\n",
    "dae = {'x': x, 'p': p, 'ode': rhs_exp}\n",
    "opts = {'tf': T/N}\n",
    "F = integrator('F', 'cvodes', dae, opts)\n",
    "\n",
    "for i in range(L*N):\n",
    "    Fi = F(x0=s0, p=p_true2)\n",
    "    Xk_end = Fi['xf']\n",
    "    # for k in range(1,M+1):\n",
    "    Res2 = vertcat(Res2,Xk_end[:,-1])\n",
    "    s0 = Xk_end[:,-1]\n",
    "#print(Res2.shape)"
   ]
  },
  {
   "cell_type": "code",
   "execution_count": 7,
   "id": "77cc79ce-b306-4284-82ff-48651808599f",
   "metadata": {},
   "outputs": [
    {
     "name": "stderr",
     "output_type": "stream",
     "text": [
      "MovieWriter Pillow unavailable; using Pillow instead.\n"
     ]
    },
    {
     "data": {
      "image/png": "[encoded data removed]",
      "text/plain": [
       "<Figure size 720x576 with 1 Axes>"
      ]
     },
     "metadata": {
      "needs_background": "light"
     },
     "output_type": "display_data"
    }
   ],
   "source": [
    "animate_pendulum('../plots/pendulum/simulation.gif', Res1)"
   ]
  },
  {
   "cell_type": "code",
   "execution_count": 8,
   "id": "885148bd-09bb-4c4b-886a-6f2e7aa6c750",
   "metadata": {},
   "outputs": [],
   "source": [
    "sigma = [0.001,0.001,0.01,0.01]\n",
    "sigma2 = [0.00001,0.00002,0.0002,0.0001]\n",
    "M = L*N\n",
    "meas = generate_meas(x, p, rhs_exp, L*T, sigma, p_true, M, x0)"
   ]
  },
  {
   "cell_type": "code",
   "execution_count": 9,
   "id": "c9af6c1a-3048-4d3e-82b3-32bf22043ad0",
   "metadata": {},
   "outputs": [
    {
     "name": "stdout",
     "output_type": "stream",
     "text": [
      "(404, 1)\n"
     ]
    }
   ],
   "source": [
    "# we need to reshape for visualization\n",
    "meas1 = []\n",
    "for i in range(M+1):\n",
    "    meas1 = vertcat(meas1,meas[:,i])\n",
    "print(meas1.shape)"
   ]
  },
  {
   "cell_type": "code",
   "execution_count": 10,
   "id": "1a3f3026-b7ee-4fbf-9f12-657c16c2f745",
   "metadata": {},
   "outputs": [
    {
     "name": "stderr",
     "output_type": "stream",
     "text": [
      "MovieWriter Pillow unavailable; using Pillow instead.\n"
     ]
    },
    {
     "data": {
      "image/png": "[encoded data removed]",
      "text/plain": [
       "<Figure size 720x576 with 1 Axes>"
      ]
     },
     "metadata": {
      "needs_background": "light"
     },
     "output_type": "display_data"
    }
   ],
   "source": [
    "animate_pendulum('../plots/pendulum/measurements.gif', meas1)"
   ]
  },
  {
   "cell_type": "markdown",
   "id": "b6bbeaeb-a1a4-40d2-9944-a27c878687a9",
   "metadata": {},
   "source": [
    "# Open-loop PE for the first MHE horizon\n",
    " here the first 10 shooting intervals (->11 measurements)"
   ]
  },
  {
   "cell_type": "code",
   "execution_count": 21,
   "id": "bada3d34-2c0c-46ec-b49c-19b0b5ba626f",
   "metadata": {},
   "outputs": [],
   "source": [
    "x_opt = x0\n",
    "p_opt = [0]\n",
    "last_P = sigma2[0]*np.diag(np.ones(x.shape[0]+p.shape[0]))\n",
    "last_W = sigma2[0]*np.diag(np.ones(x.shape[0]+p.shape[0]))"
   ]
  },
  {
   "cell_type": "code",
   "execution_count": 22,
   "id": "26d727bf-f185-4ce1-87f2-61ef263b340d",
   "metadata": {},
   "outputs": [],
   "source": [
    "start = 0\n",
    "FF1, FF2 = MS_functions_MHE(T, N, x, p, rhs_exp, meas[:,start:start+(N+1)], sigma,sigma2, x_opt, p_opt, last_P, last_W)"
   ]
  },
  {
   "cell_type": "code",
   "execution_count": 23,
   "id": "32915102-6a79-4192-8b0c-dbf8a8bd9495",
   "metadata": {},
   "outputs": [],
   "source": [
    "p0= [0]\n",
    "w0 = vertcat(meas1[start:start+x.shape[0]*(N+1)],np.zeros(x.shape[0]*N))\n",
    "w0 = vertcat(w0,p0)\n",
    "w = MX.sym('w',w0.shape[0])\n",
    "#k=0\n",
    "y = meas[:,N+start]\n",
    "#print(y.shape)\n",
    "F1 = Function('F1',[w],[FF1(w,y)])\n",
    "F2 = Function('F2',[w],[FF2(w,y)])"
   ]
  },
  {
   "cell_type": "code",
   "execution_count": 24,
   "id": "73a55480-24a0-4500-9794-bd1144a89878",
   "metadata": {},
   "outputs": [
    {
     "name": "stdout",
     "output_type": "stream",
     "text": [
      "      solver  :   t_proc      (avg)   t_wall      (avg)    n_eval\n",
      "       nlp_f  |        0 (       0)        0 (       0)         5\n",
      "       nlp_g  |        0 (       0)        0 (       0)         5\n",
      "  nlp_grad_f  |        0 (       0)        0 (       0)         6\n",
      "  nlp_hess_l  | 120.00ms ( 30.00ms) 119.88ms ( 29.97ms)         4\n",
      "   nlp_jac_g  |  85.00ms ( 14.17ms)  84.35ms ( 14.06ms)         6\n",
      "       total  | 205.00ms (205.00ms) 204.23ms (204.23ms)         1\n"
     ]
    }
   ],
   "source": [
    "w_opt = cnlls_solver(F1, F2, w0, itmax=100, tol=1e-7, ggn = False, show_iteration = False)"
   ]
  },
  {
   "cell_type": "code",
   "execution_count": 25,
   "id": "d4da6cd7-4523-4411-9429-f06f930292d8",
   "metadata": {},
   "outputs": [
    {
     "name": "stdout",
     "output_type": "stream",
     "text": [
      "[2.99490677]\n",
      "(44,)\n"
     ]
    }
   ],
   "source": [
    "leng = w_opt.shape[0]\n",
    "pp_opt = w_opt[leng-p.shape[0]:]\n",
    "vv_opt = w_opt[(N+1)*x.shape[0]:leng-p.shape[0]]\n",
    "ss_opt = w_opt[0:(N+1)*x.shape[0]]\n",
    "print(pp_opt)\n",
    "print(ss_opt.shape)"
   ]
  },
  {
   "cell_type": "code",
   "execution_count": 26,
   "id": "cfab30f7-ee71-4c6a-ab44-814dc65ba6e5",
   "metadata": {},
   "outputs": [
    {
     "name": "stderr",
     "output_type": "stream",
     "text": [
      "MovieWriter Pillow unavailable; using Pillow instead.\n"
     ]
    },
    {
     "data": {
      "image/png": "[encoded data removed]",
      "text/plain": [
       "<Figure size 720x576 with 1 Axes>"
      ]
     },
     "metadata": {
      "needs_background": "light"
     },
     "output_type": "display_data"
    }
   ],
   "source": [
    "animate_pendulum('../plots/pendulum/ipopt_short.gif', ss_opt)"
   ]
  },
  {
   "cell_type": "markdown",
   "id": "73e74ba2-1c5a-4298-b9f3-2b849d647c56",
   "metadata": {},
   "source": [
    "# Open-loop PE for all measurements"
   ]
  },
  {
   "cell_type": "code",
   "execution_count": 27,
   "id": "565b7bac-f3fb-4716-9273-2937199ef7aa",
   "metadata": {},
   "outputs": [],
   "source": [
    "FF1, FF2 = MS_functions_MHE(L*T, L*N, x, p, rhs_exp, meas, sigma,sigma2, x_opt, p_opt, last_P, last_W)"
   ]
  },
  {
   "cell_type": "code",
   "execution_count": 28,
   "id": "ac2101e5-48ed-42a3-a0b0-599df709d2ee",
   "metadata": {},
   "outputs": [],
   "source": [
    "p0= [0]\n",
    "w0 = vertcat(meas1,np.zeros(N*L*x.shape[0]))\n",
    "w0 = vertcat(w0,p0)\n",
    "ww = MX.sym('ww',w0.shape[0])\n",
    "#k=0\n",
    "y = meas[:,M]\n",
    "#print(y.shape)\n",
    "F1 = Function('F1',[ww],[FF1(ww,y)])\n",
    "F2 = Function('F2',[ww],[FF2(ww,y)])"
   ]
  },
  {
   "cell_type": "code",
   "execution_count": 29,
   "id": "2f7e1ba0-fe73-4eb6-b9d9-caa67f8be4c6",
   "metadata": {},
   "outputs": [
    {
     "name": "stdout",
     "output_type": "stream",
     "text": [
      "      solver  :   t_proc      (avg)   t_wall      (avg)    n_eval\n",
      "       nlp_f  |        0 (       0)        0 (       0)        16\n",
      "       nlp_g  | 172.00ms ( 10.75ms) 171.80ms ( 10.74ms)        16\n",
      "  nlp_grad_f  |        0 (       0)        0 (       0)         7\n",
      "  nlp_hess_l  |   1.43 s (285.40ms)   1.43 s (285.59ms)         5\n",
      "   nlp_jac_g  | 994.00ms (142.00ms) 993.80ms (141.97ms)         7\n",
      "       total  |   2.61 s (  2.61 s)   2.61 s (  2.61 s)         1\n"
     ]
    }
   ],
   "source": [
    "w_opt = cnlls_solver(F1, F2, w0, itmax=10 , tol=1e-7, ggn = False, show_iteration = False)"
   ]
  },
  {
   "cell_type": "code",
   "execution_count": 30,
   "id": "844f998f-ffe9-4ac4-96e3-85121cb03571",
   "metadata": {},
   "outputs": [
    {
     "name": "stdout",
     "output_type": "stream",
     "text": [
      "[-8.52572245]\n",
      "(400,)\n",
      "(404,)\n"
     ]
    }
   ],
   "source": [
    "len_w = w_opt.shape[0]\n",
    "p_opt = w_opt[len_w-p.shape[0]:]\n",
    "v_opt = w_opt[(L*N+1)*x.shape[0]:len_w-p.shape[0]]\n",
    "s_opt = w_opt[0:(L*N+1)*x.shape[0]]\n",
    "\n",
    "print(p_opt)\n",
    "print(v_opt.shape)\n",
    "print(s_opt.shape)"
   ]
  },
  {
   "cell_type": "code",
   "execution_count": 31,
   "id": "5ce7b6ac-a776-422f-b690-14c97eb776bd",
   "metadata": {},
   "outputs": [
    {
     "name": "stderr",
     "output_type": "stream",
     "text": [
      "MovieWriter Pillow unavailable; using Pillow instead.\n"
     ]
    },
    {
     "data": {
      "image/png": "[encoded data removed]",
      "text/plain": [
       "<Figure size 720x576 with 1 Axes>"
      ]
     },
     "metadata": {
      "needs_background": "light"
     },
     "output_type": "display_data"
    }
   ],
   "source": [
    "animate_pendulum('../plots/pendulum/ipopt.gif', s_opt)"
   ]
  },
  {
   "cell_type": "markdown",
   "id": "422749a7-fbd3-45e1-8ae2-5e3054a2fe99",
   "metadata": {},
   "source": [
    "# MHE"
   ]
  },
  {
   "cell_type": "code",
   "execution_count": null,
   "id": "3af79922-6038-4de6-8761-b72c88b6253c",
   "metadata": {},
   "outputs": [],
   "source": [
    "x0bar = 0\n",
    "p0bar = 0\n",
    "P = 0\n",
    "p0 = [0.]\n",
    "r0 = vertcat(meas1[:(N+1)*x.shape[0]],np.zeros(N*x.shape[0]))\n",
    "r0 = vertcat(r0,p0)\n",
    "print(r0.shape)\n",
    "T = 0.5\n",
    "N = 10\n",
    "length_simulation = 2\n",
    "#sigma = 0.01 (defined above)\n",
    "W = 0"
   ]
  },
  {
   "cell_type": "code",
   "execution_count": null,
   "id": "f69d8f99-e35c-4527-92cf-38f828c39a79",
   "metadata": {},
   "outputs": [],
   "source": [
    "xx, pp = MHE(x0bar, p0bar, P, r0, T, N, length_simulation, x, p, rhs_exp, meas, sigma,sigma2, W, ggn = False)"
   ]
  },
  {
   "cell_type": "code",
   "execution_count": null,
   "id": "34271d53-a11e-4740-b2f1-597b02423e2a",
   "metadata": {},
   "outputs": [],
   "source": [
    "animate_pendulum('../plots/pendulum/mhe.gif',xx)"
   ]
  },
  {
   "cell_type": "code",
   "execution_count": null,
   "id": "4690ca6f-a76a-447e-806f-69ec02bc0001",
   "metadata": {},
   "outputs": [],
   "source": [
    "plt.figure(figsize=(10,8))\n",
    "plt.title(\"Comparison of the simulations:\")\n",
    "plt.xlim(-1.,1.)\n",
    "plt.ylim(-1.3,1.3)\n",
    "\n",
    "ss = Res1 # true\n",
    "s = np.array(ss).flatten()\n",
    "ll = int(s.shape[0]/4)\n",
    "x3 = np.array([get_ball_x(s[4*i:4*(i+1)]) for i in range(ll)])\n",
    "y3 = np.array([get_ball_y(s[4*i:4*(i+1)]) for i in range(ll)])\n",
    "plt.plot(x3,y3,linestyle = 'dotted', label = \"true\")   \n",
    "\n",
    "ss = Res2 # true comp\n",
    "s = np.array(ss).flatten()\n",
    "ll = int(s.shape[0]/4)\n",
    "x3 = np.array([get_ball_x(s[4*i:4*(i+1)]) for i in range(ll)])\n",
    "y3 = np.array([get_ball_y(s[4*i:4*(i+1)]) for i in range(ll)])\n",
    "#plt.plot(x3,y3,linestyle = 'dotted', label = \"true comp\")   \n",
    "\n",
    "ss = meas1 # meas\n",
    "s = np.array(ss).flatten()\n",
    "ll = int(s.shape[0]/4)\n",
    "x3 = np.array([get_ball_x(s[4*i:4*(i+1)]) for i in range(ll)])\n",
    "y3 = np.array([get_ball_y(s[4*i:4*(i+1)]) for i in range(ll)])\n",
    "plt.plot(x3,y3, 'ro',label = \"measurements\")#, linestyle = 'dotted') \n",
    "\n",
    "ss = s_opt # open-loop\n",
    "s = np.array(ss).flatten()\n",
    "ll = int(s.shape[0]/4)\n",
    "x3 = np.array([get_ball_x(s[4*i:4*(i+1)]) for i in range(ll)])\n",
    "y3 = np.array([get_ball_y(s[4*i:4*(i+1)]) for i in range(ll)])\n",
    "plt.plot(x3,y3,marker = 'o', label = \"open-loop\", linestyle = 'dotted', ms = 3) \n",
    "\n",
    "ss = ss_opt # open-loop short\n",
    "s = np.array(ss).flatten()\n",
    "ll = int(s.shape[0]/4)\n",
    "x3 = np.array([get_ball_x(s[4*i:4*(i+1)]) for i in range(ll)])\n",
    "y3 = np.array([get_ball_y(s[4*i:4*(i+1)]) for i in range(ll)])\n",
    "#plt.plot(x3,y3,marker = 'o', label = \"open-loop short\", linestyle = 'dotted', ms = 3) \n",
    "\n",
    "ss = xx # mhe\n",
    "s = np.array(ss).flatten()\n",
    "ll = int(s.shape[0]/4)\n",
    "x3 = np.array([get_ball_x(s[4*i:4*(i+1)]) for i in range(ll)])\n",
    "y3 = np.array([get_ball_y(s[4*i:4*(i+1)]) for i in range(ll)])\n",
    "plt.plot(x3,y3,marker = 'o', label = \"mhe\", linestyle = 'dotted', ms = 3)   \n",
    "plt.legend()"
   ]
  },
  {
   "cell_type": "code",
   "execution_count": null,
   "id": "8a33e5e0-1c61-4102-b90f-b68f8bf308b1",
   "metadata": {},
   "outputs": [],
   "source": [
    "def plot_widget(simulations): #, n):\n",
    "    plt.figure(figsize=(10,8))\n",
    "    plt.title(\"Comparison of the simulations:\")\n",
    "    plt.xlim(-1.,1.)\n",
    "    plt.ylim(-1.3,1.3)\n",
    "    \n",
    "    \n",
    "    if 'true' in simulations:\n",
    "        ss = Res1 # true\n",
    "        s = np.array(ss).flatten()\n",
    "        ll = int(s.shape[0]/4)\n",
    "        x3 = np.array([get_ball_x(s[4*i:4*(i+1)]) for i in range(ll)])\n",
    "        y3 = np.array([get_ball_y(s[4*i:4*(i+1)]) for i in range(ll)])\n",
    "        plt.plot(x3,y3,linestyle = 'dotted', label = \"true\")   \n",
    "\n",
    "        \n",
    "    if 'measured' in simulations:\n",
    "        ss = meas1 # meas\n",
    "        s = np.array(ss).flatten()\n",
    "        ll = int(s.shape[0]/4)\n",
    "        x3 = np.array([get_ball_x(s[4*i:4*(i+1)]) for i in range(ll)])\n",
    "        y3 = np.array([get_ball_y(s[4*i:4*(i+1)]) for i in range(ll)])\n",
    "        plt.plot(x3,y3, 'ro',label = \"measurements\", ms = 5)#, linestyle = 'dotted') \n",
    "        \n",
    "    if 'open-loop' in simulations:\n",
    "        ss = s_opt # open-loop\n",
    "        s = np.array(ss).flatten()\n",
    "        ll = int(s.shape[0]/4)\n",
    "        x3 = np.array([get_ball_x(s[4*i:4*(i+1)]) for i in range(ll)])\n",
    "        y3 = np.array([get_ball_y(s[4*i:4*(i+1)]) for i in range(ll)])\n",
    "        plt.plot(x3,y3,marker = 'o', label = \"open-loop\", linestyle = 'dotted', ms = 3) \n",
    "        \n",
    "    if 'open-loop short' in simulations:\n",
    "        ss = ss_opt # open-loop short\n",
    "        s = np.array(ss).flatten()\n",
    "        ll = int(s.shape[0]/4)\n",
    "        x3 = np.array([get_ball_x(s[4*i:4*(i+1)]) for i in range(ll)])\n",
    "        y3 = np.array([get_ball_y(s[4*i:4*(i+1)]) for i in range(ll)])\n",
    "        plt.plot(x3,y3,marker = 'o', label = \"open-loop short\", linestyle = 'dotted', ms = 3) \n",
    "        \n",
    "    if 'mhe' in simulations:\n",
    "        ss = xx # mhe\n",
    "        s = np.array(ss).flatten()\n",
    "        ll = int(s.shape[0]/4)\n",
    "        x3 = np.array([get_ball_x(s[4*i:4*(i+1)]) for i in range(ll)])\n",
    "        y3 = np.array([get_ball_y(s[4*i:4*(i+1)]) for i in range(ll)])\n",
    "        plt.plot(x3,y3,marker = 'o', label = \"mhe\", linestyle = 'dotted', ms = 3)  \n",
    "        \n",
    "    plt.legend()\n",
    "    plt.show()"
   ]
  },
  {
   "cell_type": "code",
   "execution_count": null,
   "id": "bf5fbdae-7ded-4a16-9eaa-825458320400",
   "metadata": {},
   "outputs": [],
   "source": [
    "from ipywidgets import interact, interactive, fixed, interact_manual\n",
    "import ipywidgets as widgets\n",
    "#from animate_double import plot_widget\n",
    "\n",
    "\n",
    "interactive(plot_widget, simulations = widgets.SelectMultiple(\n",
    "    options=['true', 'measured', 'open-loop', 'open-loop short','mhe'],\n",
    "    rows = 5,\n",
    "    description='Simulations:',\n",
    "    disabled=False\n",
    "))"
   ]
  },
  {
   "cell_type": "code",
   "execution_count": null,
   "id": "a7bed8ac-fa2d-487c-b76e-9de3ec8b5d10",
   "metadata": {},
   "outputs": [],
   "source": [
    "print(pp[pp.shape[0]-2:])\n",
    "print(pp)\n",
    "#print(xx.shape)"
   ]
  },
  {
   "cell_type": "code",
   "execution_count": null,
   "id": "ba7222fd-9a74-405f-825b-bbbd6e72782b",
   "metadata": {},
   "outputs": [],
   "source": [
    "p_plot1 = pp\n",
    "print(pp.shape)\n",
    "p_ref1 = p_true[0]*np.ones(p_plot1.size()[0])\n",
    "p_open_loop1 = p_opt[0]*np.ones(p_plot1.size()[0])\n",
    "\n",
    "x_ax = range(p_plot1.size()[0]) \n",
    "plt.figure(figsize=(10,5))\n",
    "plt.plot(x_ax,p_ref1, label = 'exact')\n",
    "plt.plot(x_ax, p_open_loop1, label = 'open-loop', linestyle='dotted')\n",
    "plt.plot(x_ax, p_plot1, label = 'mhe', linestyle='dotted')\n",
    "plt.title('Comparison of the estimation of parameter p during MHE')\n",
    "plt.xlim(0,p_plot1.size()[0])\n",
    "#plt.ylim(p_true[0]-0.3,p_true[0]+0.3) #plt.ylim(-0.4,0.1)\n",
    "plt.legend()"
   ]
  },
  {
   "cell_type": "code",
   "execution_count": null,
   "id": "2a7e3ebb-bb56-42f1-922b-8c0bc0f53511",
   "metadata": {},
   "outputs": [],
   "source": [
    "## relative error\n",
    "## for d1:\n",
    "rel_err1 = np.zeros(p_plot1.size()[0])\n",
    "for i in x_ax:\n",
    "    rel_err1[i]=np.abs(p_plot1[i]-p_ref1[i])/p_ref1[i]\n",
    "    #rel_err1.append(np.abs(p_plot1[i]-p_ref[i])/p_ref[i])\n",
    "#print(rel_err1)\n",
    "\n",
    "rel_err2 = np.zeros(p_plot1.size()[0])\n",
    "for i in x_ax:\n",
    "    rel_err2[i]=np.abs(p_open_loop1[i]-p_ref1[i])/p_ref1[i]\n",
    "    #rel_err1.append(np.abs(p_plot1[i]-p_ref[i])/p_ref[i])\n",
    "#print(rel_err2)\n",
    "\n",
    "plt.plot(x_ax, rel_err1, label='rel_err_mhe')\n",
    "plt.plot(x_ax, rel_err2, label = 'rel_err_open_loop')\n",
    "plt.yscale('log')\n",
    "plt.title('Relative error of the estimated parameter with mhe and open-loop')\n",
    "plt.legend()"
   ]
  },
  {
   "cell_type": "code",
   "execution_count": null,
   "id": "0a083882-3122-42f6-9f96-5228e0970135",
   "metadata": {},
   "outputs": [],
   "source": []
  },
  {
   "cell_type": "code",
   "execution_count": null,
   "id": "6614bac8-4287-4009-ae77-8dc63e972942",
   "metadata": {},
   "outputs": [],
   "source": [
    "from casadi import *\n",
    "A = np.diag([1,0])\n",
    "A = MX(A)\n",
    "#print(A)\n",
    "x = MX.sym('x',2)\n",
    "Jexp = jacobian(A*x,x)\n",
    "J = Function('J',[x],[Jexp])\n",
    "Jexp2 = jacobian(A*x,x).T\n",
    "J2 = Function('J2',[x],[Jexp2])\n",
    "#print(J([1,2]))\n",
    "#print(J2([1,2]))\n",
    "n = 3\n",
    "m= 1\n",
    "z1 = np.zeros((n+m,n+m))\n",
    "z2 = np.zeros((n,n+m))\n",
    "c2 = np.concatenate((z1,z2))\n",
    "print(c2.shape)"
   ]
  },
  {
   "cell_type": "code",
   "execution_count": null,
   "id": "3ff3c77b-27c2-4f40-8960-0bd650542225",
   "metadata": {},
   "outputs": [],
   "source": [
    "b_row2 = np.concatenate((np.zeros(n),np.ones(m)))\n",
    "#print(b_row2.shape)\n",
    "np.reshape(b_row2,(1,m+n)).shape\n",
    "x= MX.sym('x',4)\n",
    "vertcat(x,0)\n",
    "horzcat(x,0)"
   ]
  },
  {
   "cell_type": "code",
   "execution_count": null,
   "id": "b6ad6e57-22b9-4c0d-9e58-bf081996d4c0",
   "metadata": {},
   "outputs": [],
   "source": []
  },
  {
   "cell_type": "code",
   "execution_count": null,
   "id": "891bf4f0-3ec1-4cb0-be97-4c087f81ea4d",
   "metadata": {},
   "outputs": [],
   "source": [
    "#debugging arrival_cost_values\n",
    "n = x.shape[0]\n",
    "m = p.shape[0]\n",
    "\n",
    "x_opt = x0\n",
    "p_opt = [0]\n",
    "last_y = meas[:,0]\n",
    "last_P = np.diag(np.ones(n+m))\n",
    "last_V = np.diag(sigma)\n",
    "last_W = np.diag(np.ones(n+m))\n",
    "\n",
    "P_Lplus1, xandpbar = arrival_cost_values(x,p,rhs_exp,T,N,x_opt, p_opt, last_y, last_P,last_V, last_W)\n"
   ]
  }
 ],
 "metadata": {
  "kernelspec": {
   "display_name": "Python 3 (ipykernel)",
   "language": "python",
   "name": "python3"
  },
  "language_info": {
   "codemirror_mode": {
    "name": "ipython",
    "version": 3
   },
   "file_extension": ".py",
   "mimetype": "text/x-python",
   "name": "python",
   "nbconvert_exporter": "python",
   "pygments_lexer": "ipython3",
   "version": "3.9.7"
  }
 },
 "nbformat": 4,
 "nbformat_minor": 5
}
