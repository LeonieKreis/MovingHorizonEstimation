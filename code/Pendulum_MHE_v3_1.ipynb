{
 "cells": [
  {
   "cell_type": "code",
   "execution_count": 1,
   "id": "1fc7925f-7bb6-4ac2-b20d-06a0ba17daba",
   "metadata": {},
   "outputs": [],
   "source": [
    "import ipywidgets as widgets\n",
    "from casadi import *\n",
    "import numpy as np\n",
    "import matplotlib.pyplot as plt\n",
    "import time\n",
    "\n",
    "\n",
    "from matplotlib import rc \n",
    "import matplotlib.animation as animation\n",
    "from collections import deque\n",
    "from IPython.display import HTML"
   ]
  },
  {
   "cell_type": "code",
   "execution_count": 2,
   "id": "ab91f173-3ee5-4273-9eaf-0e65248307ff",
   "metadata": {},
   "outputs": [],
   "source": [
    "from functions_v3_1 import arrival_cost_values, get_arrival_obj, MS_functions_MHE, generate_meas, cnlls_solver, MHE\n",
    "\n",
    "\n",
    "from animate import get_cart_x, get_cart_y, get_ball_x, get_ball_y, animate_pendulum"
   ]
  },
  {
   "cell_type": "markdown",
   "id": "8f970bc8-ca09-474c-9b20-cff819854f60",
   "metadata": {},
   "source": [
    "# Model Dynamics"
   ]
  },
  {
   "cell_type": "code",
   "execution_count": 3,
   "id": "a9e24e3d-4251-4a7b-9515-b1df98e7f2da",
   "metadata": {},
   "outputs": [],
   "source": [
    "# our parameters !\n",
    "m = 1\n",
    "M = 5\n",
    "l = 1 # attention! l must be also changed in the animate.py file!\n",
    "g = 9.81"
   ]
  },
  {
   "cell_type": "code",
   "execution_count": 4,
   "id": "8acfe22b-d7a9-43c2-9a80-7f77843b8ff3",
   "metadata": {},
   "outputs": [],
   "source": [
    "# defining the rhs of the ODE system\n",
    "\n",
    "# state variables\n",
    "x1 = MX.sym('x1') #r\n",
    "x2 = MX.sym('x2') #rdot\n",
    "x3 = MX.sym('x3') #theta\n",
    "x4 = MX.sym('x4') #thetadot\n",
    "x = vertcat(x1,x2,x3,x4)\n",
    "\n",
    "# parameter\n",
    "p = MX.sym('p')\n",
    "\n",
    "u=0\n",
    "\n",
    "# rhs\n",
    "rhs_exp = vertcat(x2,\n",
    "             (-m*g*cos(x3)*sin(x3)-m*l*x4*x4*sin(x3)+u)/(M+m*sin(x3)*sin(x3)),\n",
    "             x4,\n",
    "             -g/l*sin(x3)+ cos(x3)/l*((-m*g*cos(x3)*sin(x3)-m*l*x4*x4*sin(x3)+u)/(M+m*sin(x3)*sin(x3)))-p/m*x4)\n",
    "\n",
    "rhs = Function('rhs',[x,p],[rhs_exp])"
   ]
  },
  {
   "cell_type": "markdown",
   "id": "36b36c49-15ac-44d8-8f9a-55635873ed7a",
   "metadata": {},
   "source": [
    "# Simulation"
   ]
  },
  {
   "cell_type": "code",
   "execution_count": 5,
   "id": "05c80d7e-3ec1-46a6-80f0-d10eab3b2144",
   "metadata": {},
   "outputs": [
    {
     "name": "stdout",
     "output_type": "stream",
     "text": [
      "(404, 1)\n"
     ]
    }
   ],
   "source": [
    "N = 10 #100 # number of integration steps\n",
    "T = 0.5 #1 #10.0\n",
    "L = 10 # -> insgesamt 5 sekunden\n",
    "\n",
    "p_true = [0.5]\n",
    "\n",
    "eps = 0.8\n",
    "s0 = [0, 0, pi-eps, 0]\n",
    "x0 = s0 ## initial conditions from paper\n",
    "Res1 = s0\n",
    "\n",
    "dae = {'x': x, 'p': p, 'ode': rhs_exp}\n",
    "opts = {'tf': T/N}\n",
    "F = integrator('F', 'cvodes', dae, opts)\n",
    "\n",
    "for i in range(L*N):\n",
    "    Fi = F(x0=s0, p=p_true)\n",
    "    Xk_end = Fi['xf']\n",
    "    # for k in range(1,M+1):\n",
    "    Res1 = vertcat(Res1,Xk_end[:,-1])\n",
    "    s0 = Xk_end[:,-1]\n",
    "print(Res1.shape)"
   ]
  },
  {
   "cell_type": "markdown",
   "id": "00c2b9e7-5240-49f5-9452-4c8a9e275236",
   "metadata": {},
   "source": [
    "# Simulation with p=0 as comparison"
   ]
  },
  {
   "cell_type": "code",
   "execution_count": 6,
   "id": "f82cc46f-4c8d-4f76-b9ce-efa2bc7761a3",
   "metadata": {},
   "outputs": [],
   "source": [
    "N = 10 #100 # number of integration steps\n",
    "T = 0.5 #1 #10.0\n",
    "L = 10 # -> insgesamt 5 sekunden\n",
    "\n",
    "p_true2 = [0.]\n",
    "\n",
    "\n",
    "#x0 = s0 ## initial conditions from paper\n",
    "Res2 = s0\n",
    "\n",
    "dae = {'x': x, 'p': p, 'ode': rhs_exp}\n",
    "opts = {'tf': T/N}\n",
    "F = integrator('F', 'cvodes', dae, opts)\n",
    "\n",
    "for i in range(L*N):\n",
    "    Fi = F(x0=s0, p=p_true2)\n",
    "    Xk_end = Fi['xf']\n",
    "    # for k in range(1,M+1):\n",
    "    Res2 = vertcat(Res2,Xk_end[:,-1])\n",
    "    s0 = Xk_end[:,-1]\n",
    "#print(Res2.shape)"
   ]
  },
  {
   "cell_type": "code",
   "execution_count": 7,
   "id": "77cc79ce-b306-4284-82ff-48651808599f",
   "metadata": {},
   "outputs": [],
   "source": [
    "#animate_pendulum('../plots/pendulum/simulation.gif', Res1)"
   ]
  },
  {
   "cell_type": "code",
   "execution_count": 8,
   "id": "885148bd-09bb-4c4b-886a-6f2e7aa6c750",
   "metadata": {},
   "outputs": [],
   "source": [
    "sigma = [0.01,0.01,0.1,0.01]\n",
    "sigma2 = [0.00001,0.00002,0.0002,0.0001]\n",
    "M = L*N\n",
    "meas = generate_meas(x, p, rhs_exp, L*T, sigma, p_true, M, x0)"
   ]
  },
  {
   "cell_type": "code",
   "execution_count": 9,
   "id": "c9af6c1a-3048-4d3e-82b3-32bf22043ad0",
   "metadata": {},
   "outputs": [
    {
     "name": "stdout",
     "output_type": "stream",
     "text": [
      "(404, 1)\n"
     ]
    }
   ],
   "source": [
    "# we need to reshape for visualization\n",
    "meas1 = []\n",
    "for i in range(M+1):\n",
    "    meas1 = vertcat(meas1,meas[:,i])\n",
    "print(meas1.shape)"
   ]
  },
  {
   "cell_type": "code",
   "execution_count": 10,
   "id": "1a3f3026-b7ee-4fbf-9f12-657c16c2f745",
   "metadata": {},
   "outputs": [],
   "source": [
    "#animate_pendulum('../plots/pendulum/measurements.gif', meas1)"
   ]
  },
  {
   "cell_type": "markdown",
   "id": "b6bbeaeb-a1a4-40d2-9944-a27c878687a9",
   "metadata": {},
   "source": [
    "# Open-loop PE for the first MHE horizon\n",
    " here the first 10 shooting intervals (->11 measurements)"
   ]
  },
  {
   "cell_type": "code",
   "execution_count": 11,
   "id": "891bf4f0-3ec1-4cb0-be97-4c087f81ea4d",
   "metadata": {},
   "outputs": [],
   "source": [
    "#debugging arrival_cost_values\n",
    "n = x.shape[0]\n",
    "m = p.shape[0]\n",
    "\n",
    "x_opt = x0\n",
    "p_opt = [0]\n",
    "last_y = meas[:,0]\n",
    "last_P = np.diag(np.ones(n+m))\n",
    "last_V = np.diag(sigma)\n",
    "last_W = np.diag(np.ones(n+m))\n",
    "\n",
    "P_Lplus1, xandpbar = arrival_cost_values(x,p,rhs_exp,T,N,x_opt, p_opt, last_y, last_P,last_V, last_W)\n",
    "arr = get_arrival_obj(n,m,P_Lplus1, xandpbar)"
   ]
  },
  {
   "cell_type": "code",
   "execution_count": 12,
   "id": "26d727bf-f185-4ce1-87f2-61ef263b340d",
   "metadata": {},
   "outputs": [],
   "source": [
    "start = 10\n",
    "# arr0 = Function('arr0',[vertcat(x,p)],[0])\n",
    "FF1, FF2 = MS_functions_MHE(T, N, x, p, rhs_exp, meas[:,start:start+(N+1)], sigma,sigma2, arr)"
   ]
  },
  {
   "cell_type": "code",
   "execution_count": 13,
   "id": "32915102-6a79-4192-8b0c-dbf8a8bd9495",
   "metadata": {},
   "outputs": [],
   "source": [
    "p0= [0]\n",
    "w0 = vertcat(meas1[start:start+x.shape[0]*(N+1)],np.zeros(x.shape[0]*N))\n",
    "w0 = vertcat(w0,p0)\n",
    "w = MX.sym('w',w0.shape[0])\n",
    "#k=0\n",
    "y = meas[:,N+start]\n",
    "#print(y.shape)\n",
    "F1 = Function('F1',[w],[FF1(w,y)])\n",
    "F2 = Function('F2',[w],[FF2(w,y)])"
   ]
  },
  {
   "cell_type": "code",
   "execution_count": 14,
   "id": "b02bfea2-67ab-4ba2-a4bf-a323b65f5f83",
   "metadata": {},
   "outputs": [
    {
     "name": "stdout",
     "output_type": "stream",
     "text": [
      "arr:(i0[5])->(o0[5]) MXFunction\n",
      "(5, 5)\n",
      "(5, 1)\n"
     ]
    }
   ],
   "source": [
    "print(arr)\n",
    "print(P_Lplus1.shape)\n",
    "print(xandpbar.shape)"
   ]
  },
  {
   "cell_type": "code",
   "execution_count": 15,
   "id": "73a55480-24a0-4500-9794-bd1144a89878",
   "metadata": {},
   "outputs": [
    {
     "name": "stdout",
     "output_type": "stream",
     "text": [
      "\n",
      "******************************************************************************\n",
      "This program contains Ipopt, a library for large-scale nonlinear optimization.\n",
      " Ipopt is released as open source code under the Eclipse Public License (EPL).\n",
      "         For more information visit http://projects.coin-or.org/Ipopt\n",
      "******************************************************************************\n",
      "\n",
      "      solver  :   t_proc      (avg)   t_wall      (avg)    n_eval\n",
      "       nlp_f  |   2.00ms (200.00us)   2.00ms (199.70us)        10\n",
      "       nlp_g  |  27.00ms (  2.70ms)  28.01ms (  2.80ms)        10\n",
      "  nlp_grad_f  |   1.00ms ( 90.91us)   1.00ms ( 91.00us)        11\n",
      "  nlp_hess_l  |   1.42 s (157.89ms)   1.42 s (157.95ms)         9\n",
      "   nlp_jac_g  | 520.00ms ( 47.27ms) 520.07ms ( 47.28ms)        11\n",
      "       total  |   1.98 s (  1.98 s)   1.98 s (  1.98 s)         1\n"
     ]
    }
   ],
   "source": [
    "w_opt = cnlls_solver(F1, F2, w0, itmax=100, tol=1e-7, ggn = False, show_iteration = False)"
   ]
  },
  {
   "cell_type": "code",
   "execution_count": 16,
   "id": "d4da6cd7-4523-4411-9429-f06f930292d8",
   "metadata": {},
   "outputs": [
    {
     "name": "stdout",
     "output_type": "stream",
     "text": [
      "[0.50608034]\n",
      "(44,)\n"
     ]
    }
   ],
   "source": [
    "leng = w_opt.shape[0]\n",
    "pp_opt = w_opt[leng-p.shape[0]:]\n",
    "vv_opt = w_opt[(N+1)*x.shape[0]:leng-p.shape[0]]\n",
    "ss_opt = w_opt[0:(N+1)*x.shape[0]]\n",
    "print(pp_opt)\n",
    "print(ss_opt.shape)"
   ]
  },
  {
   "cell_type": "code",
   "execution_count": 17,
   "id": "cfab30f7-ee71-4c6a-ab44-814dc65ba6e5",
   "metadata": {},
   "outputs": [
    {
     "name": "stderr",
     "output_type": "stream",
     "text": [
      "MovieWriter Pillow unavailable; using Pillow instead.\n"
     ]
    },
    {
     "data": {
      "image/png": "[encoded data removed]",
      "text/plain": [
       "<Figure size 720x576 with 1 Axes>"
      ]
     },
     "metadata": {
      "needs_background": "light"
     },
     "output_type": "display_data"
    }
   ],
   "source": [
    "animate_pendulum('../plots/pendulum/ipopt_short.gif', ss_opt)"
   ]
  },
  {
   "cell_type": "markdown",
   "id": "73e74ba2-1c5a-4298-b9f3-2b849d647c56",
   "metadata": {},
   "source": [
    "# Open-loop PE for all measurements"
   ]
  },
  {
   "cell_type": "code",
   "execution_count": 18,
   "id": "565b7bac-f3fb-4716-9273-2937199ef7aa",
   "metadata": {},
   "outputs": [],
   "source": [
    "FF1, FF2 = MS_functions_MHE(L*T, L*N, x, p, rhs_exp, meas, sigma,sigma2, arr)"
   ]
  },
  {
   "cell_type": "code",
   "execution_count": 19,
   "id": "ac2101e5-48ed-42a3-a0b0-599df709d2ee",
   "metadata": {},
   "outputs": [],
   "source": [
    "p0= [0]\n",
    "w0 = vertcat(meas1,np.zeros(N*L*x.shape[0]))\n",
    "w0 = vertcat(w0,p0)\n",
    "ww = MX.sym('ww',w0.shape[0])\n",
    "#k=0\n",
    "y = meas[:,M]\n",
    "#print(y.shape)\n",
    "F1 = Function('F1',[ww],[FF1(ww,y)])\n",
    "F2 = Function('F2',[ww],[FF2(ww,y)])"
   ]
  },
  {
   "cell_type": "code",
   "execution_count": 20,
   "id": "2f7e1ba0-fe73-4eb6-b9d9-caa67f8be4c6",
   "metadata": {},
   "outputs": [
    {
     "name": "stdout",
     "output_type": "stream",
     "text": [
      "      solver  :   t_proc      (avg)   t_wall      (avg)    n_eval\n",
      "       nlp_f  |   2.00ms (400.00us)   1.99ms (397.20us)         5\n",
      "       nlp_g  | 101.00ms ( 20.20ms) 101.00ms ( 20.20ms)         5\n",
      "  nlp_grad_f  |   4.00ms (666.67us)   4.01ms (668.83us)         6\n",
      "  nlp_hess_l  |   4.48 s (  1.12 s)   4.48 s (  1.12 s)         4\n",
      "   nlp_jac_g  |   2.16 s (359.67ms)   2.16 s (359.65ms)         6\n",
      "       total  |   6.76 s (  6.76 s)   6.76 s (  6.76 s)         1\n"
     ]
    }
   ],
   "source": [
    "w_opt = cnlls_solver(F1, F2, w0, itmax=10 , tol=1e-7, ggn = False, show_iteration = False)"
   ]
  },
  {
   "cell_type": "code",
   "execution_count": 21,
   "id": "844f998f-ffe9-4ac4-96e3-85121cb03571",
   "metadata": {},
   "outputs": [
    {
     "name": "stdout",
     "output_type": "stream",
     "text": [
      "[0.50080465]\n",
      "(400,)\n",
      "(404,)\n"
     ]
    }
   ],
   "source": [
    "len_w = w_opt.shape[0]\n",
    "p_opt = w_opt[len_w-p.shape[0]:]\n",
    "v_opt = w_opt[(L*N+1)*x.shape[0]:len_w-p.shape[0]]\n",
    "s_opt = w_opt[0:(L*N+1)*x.shape[0]]\n",
    "\n",
    "print(p_opt)\n",
    "print(v_opt.shape)\n",
    "print(s_opt.shape)"
   ]
  },
  {
   "cell_type": "code",
   "execution_count": 22,
   "id": "5ce7b6ac-a776-422f-b690-14c97eb776bd",
   "metadata": {},
   "outputs": [
    {
     "name": "stderr",
     "output_type": "stream",
     "text": [
      "MovieWriter Pillow unavailable; using Pillow instead.\n"
     ]
    },
    {
     "data": {
      "image/png": "[encoded data removed]",
      "text/plain": [
       "<Figure size 720x576 with 1 Axes>"
      ]
     },
     "metadata": {
      "needs_background": "light"
     },
     "output_type": "display_data"
    }
   ],
   "source": [
    "animate_pendulum('../plots/pendulum/ipopt.gif', s_opt)"
   ]
  },
  {
   "cell_type": "markdown",
   "id": "422749a7-fbd3-45e1-8ae2-5e3054a2fe99",
   "metadata": {},
   "source": [
    "# MHE"
   ]
  },
  {
   "cell_type": "code",
   "execution_count": 23,
   "id": "3af79922-6038-4de6-8761-b72c88b6253c",
   "metadata": {},
   "outputs": [
    {
     "name": "stdout",
     "output_type": "stream",
     "text": [
      "(165, 1)\n"
     ]
    }
   ],
   "source": [
    "T = 2* 0.5\n",
    "N = 2* 10\n",
    "P = np.diag(np.ones(n+m))\n",
    "p0 = [0.]\n",
    "r0 = vertcat(meas1[:(N+1)*x.shape[0]],np.zeros(N*x.shape[0]))\n",
    "r0 = vertcat(r0,p0)\n",
    "print(r0.shape)\n",
    "length_simulation = 30\n",
    "#sigma = 0.01 (defined above)\n",
    "W = np.diag(np.ones(n+m))"
   ]
  },
  {
   "cell_type": "code",
   "execution_count": 24,
   "id": "f69d8f99-e35c-4527-92cf-38f828c39a79",
   "metadata": {},
   "outputs": [
    {
     "name": "stdout",
     "output_type": "stream",
     "text": [
      "starting (time horizon) loop no.  1\n",
      "      solver  :   t_proc      (avg)   t_wall      (avg)    n_eval\n",
      "       nlp_f  |        0 (       0)        0 (       0)         2\n",
      "       nlp_g  |  10.00ms (  5.00ms)   9.99ms (  4.99ms)         2\n",
      "  nlp_grad_f  |        0 (       0)        0 (       0)         3\n",
      "  nlp_hess_l  | 225.00ms (225.00ms) 224.07ms (224.07ms)         1\n",
      "   nlp_jac_g  | 225.00ms ( 75.00ms) 225.03ms ( 75.01ms)         3\n",
      "       total  | 463.00ms (463.00ms) 462.09ms (462.09ms)         1\n",
      "starting (time horizon) loop no.  2\n",
      "      solver  :   t_proc      (avg)   t_wall      (avg)    n_eval\n",
      "       nlp_f  |        0 (       0)        0 (       0)         2\n",
      "       nlp_g  |   9.00ms (  4.50ms)   8.98ms (  4.49ms)         2\n",
      "  nlp_grad_f  |   2.00ms (666.67us)   2.00ms (667.00us)         3\n",
      "  nlp_hess_l  | 230.00ms (230.00ms) 230.45ms (230.45ms)         1\n",
      "   nlp_jac_g  | 222.00ms ( 74.00ms) 222.05ms ( 74.02ms)         3\n",
      "       total  | 468.00ms (468.00ms) 468.48ms (468.48ms)         1\n",
      "starting (time horizon) loop no.  3\n",
      "      solver  :   t_proc      (avg)   t_wall      (avg)    n_eval\n",
      "       nlp_f  |        0 (       0)        0 (       0)         2\n",
      "       nlp_g  |   9.00ms (  4.50ms)   9.01ms (  4.51ms)         2\n",
      "  nlp_grad_f  |   2.00ms (666.67us)   2.01ms (671.00us)         3\n",
      "  nlp_hess_l  | 262.00ms (262.00ms) 262.04ms (262.04ms)         1\n",
      "   nlp_jac_g  | 227.00ms ( 75.67ms) 227.04ms ( 75.68ms)         3\n",
      "       total  | 504.00ms (504.00ms) 504.11ms (504.11ms)         1\n",
      "starting (time horizon) loop no.  4\n",
      "      solver  :   t_proc      (avg)   t_wall      (avg)    n_eval\n",
      "       nlp_f  |   1.00ms (500.00us)   1.01ms (507.50us)         2\n",
      "       nlp_g  |   8.00ms (  4.00ms)   7.98ms (  3.99ms)         2\n",
      "  nlp_grad_f  |   2.00ms (666.67us)   2.00ms (667.67us)         3\n",
      "  nlp_hess_l  | 240.00ms (240.00ms) 240.04ms (240.04ms)         1\n",
      "   nlp_jac_g  | 232.00ms ( 77.33ms) 232.08ms ( 77.36ms)         3\n",
      "       total  | 486.00ms (486.00ms) 486.13ms (486.13ms)         1\n",
      "starting (time horizon) loop no.  5\n",
      "      solver  :   t_proc      (avg)   t_wall      (avg)    n_eval\n",
      "       nlp_f  |        0 (       0)        0 (       0)         2\n",
      "       nlp_g  |  10.00ms (  5.00ms)   9.98ms (  4.99ms)         2\n",
      "  nlp_grad_f  |   2.00ms (666.67us)   2.03ms (677.33us)         3\n",
      "  nlp_hess_l  | 233.00ms (233.00ms) 233.05ms (233.05ms)         1\n",
      "   nlp_jac_g  | 230.00ms ( 76.67ms) 230.06ms ( 76.69ms)         3\n",
      "       total  | 478.00ms (478.00ms) 478.11ms (478.11ms)         1\n",
      "starting (time horizon) loop no.  6\n",
      "      solver  :   t_proc      (avg)   t_wall      (avg)    n_eval\n",
      "       nlp_f  |        0 (       0)        0 (       0)         2\n",
      "       nlp_g  |   8.00ms (  4.00ms)   8.00ms (  4.00ms)         2\n",
      "  nlp_grad_f  |   2.00ms (666.67us)   2.02ms (672.00us)         3\n",
      "  nlp_hess_l  | 238.00ms (238.00ms) 238.05ms (238.05ms)         1\n",
      "   nlp_jac_g  | 219.00ms ( 73.00ms) 219.04ms ( 73.01ms)         3\n",
      "       total  | 472.00ms (472.00ms) 472.11ms (472.11ms)         1\n",
      "starting (time horizon) loop no.  7\n",
      "      solver  :   t_proc      (avg)   t_wall      (avg)    n_eval\n",
      "       nlp_f  |   1.00ms (500.00us)   1.01ms (507.50us)         2\n",
      "       nlp_g  |   8.00ms (  4.00ms)   7.99ms (  3.99ms)         2\n",
      "  nlp_grad_f  |   2.00ms (666.67us)   2.00ms (666.67us)         3\n",
      "  nlp_hess_l  | 235.00ms (235.00ms) 235.05ms (235.05ms)         1\n",
      "   nlp_jac_g  | 209.00ms ( 69.67ms) 209.03ms ( 69.68ms)         3\n",
      "       total  | 458.00ms (458.00ms) 458.09ms (458.09ms)         1\n",
      "starting (time horizon) loop no.  8\n",
      "      solver  :   t_proc      (avg)   t_wall      (avg)    n_eval\n",
      "       nlp_f  |   2.00ms (  1.00ms)   2.00ms (999.00us)         2\n",
      "       nlp_g  |   9.00ms (  4.50ms)   8.99ms (  4.50ms)         2\n",
      "  nlp_grad_f  |   2.00ms (666.67us)   2.01ms (671.67us)         3\n",
      "  nlp_hess_l  | 245.00ms (245.00ms) 245.06ms (245.06ms)         1\n",
      "   nlp_jac_g  | 223.00ms ( 74.33ms) 222.05ms ( 74.02ms)         3\n",
      "       total  | 484.00ms (484.00ms) 483.12ms (483.12ms)         1\n",
      "starting (time horizon) loop no.  9\n",
      "      solver  :   t_proc      (avg)   t_wall      (avg)    n_eval\n",
      "       nlp_f  |        0 (       0)        0 (       0)         2\n",
      "       nlp_g  |   9.00ms (  4.50ms)   9.00ms (  4.50ms)         2\n",
      "  nlp_grad_f  |   3.00ms (  1.00ms)   2.96ms (985.33us)         3\n",
      "  nlp_hess_l  | 225.00ms (225.00ms) 225.05ms (225.05ms)         1\n",
      "   nlp_jac_g  | 208.00ms ( 69.33ms) 208.18ms ( 69.39ms)         3\n",
      "       total  | 449.00ms (449.00ms) 449.20ms (449.20ms)         1\n",
      "starting (time horizon) loop no.  10\n",
      "      solver  :   t_proc      (avg)   t_wall      (avg)    n_eval\n",
      "       nlp_f  |   1.00ms (500.00us) 985.00us (492.50us)         2\n",
      "       nlp_g  |   8.00ms (  4.00ms)   8.00ms (  4.00ms)         2\n",
      "  nlp_grad_f  |   3.00ms (  1.00ms)   3.01ms (  1.00ms)         3\n",
      "  nlp_hess_l  | 234.00ms (234.00ms) 234.06ms (234.06ms)         1\n",
      "   nlp_jac_g  | 213.00ms ( 71.00ms) 213.05ms ( 71.02ms)         3\n",
      "       total  | 462.00ms (462.00ms) 462.09ms (462.09ms)         1\n",
      "starting (time horizon) loop no.  11\n",
      "      solver  :   t_proc      (avg)   t_wall      (avg)    n_eval\n",
      "       nlp_f  |        0 (       0)        0 (       0)         2\n",
      "       nlp_g  |  10.00ms (  5.00ms)  10.00ms (  5.00ms)         2\n",
      "  nlp_grad_f  |   3.00ms (  1.00ms)   3.00ms (  1.00ms)         3\n",
      "  nlp_hess_l  | 226.00ms (226.00ms) 226.06ms (226.06ms)         1\n",
      "   nlp_jac_g  | 208.00ms ( 69.33ms) 208.04ms ( 69.35ms)         3\n",
      "       total  | 452.00ms (452.00ms) 452.10ms (452.10ms)         1\n",
      "starting (time horizon) loop no.  12\n",
      "      solver  :   t_proc      (avg)   t_wall      (avg)    n_eval\n",
      "       nlp_f  |   2.00ms (  1.00ms)   1.98ms (990.00us)         2\n",
      "       nlp_g  |   9.00ms (  4.50ms)   9.02ms (  4.51ms)         2\n",
      "  nlp_grad_f  |   2.00ms (666.67us)   1.99ms (663.33us)         3\n",
      "  nlp_hess_l  | 237.00ms (237.00ms) 236.48ms (236.48ms)         1\n",
      "   nlp_jac_g  | 220.00ms ( 73.33ms) 220.05ms ( 73.35ms)         3\n",
      "       total  | 476.00ms (476.00ms) 475.51ms (475.51ms)         1\n",
      "starting (time horizon) loop no.  13\n",
      "      solver  :   t_proc      (avg)   t_wall      (avg)    n_eval\n",
      "       nlp_f  |   1.00ms (500.00us) 982.00us (491.00us)         2\n",
      "       nlp_g  |   8.00ms (  4.00ms)   8.00ms (  4.00ms)         2\n",
      "  nlp_grad_f  |   4.00ms (  1.33ms)   4.00ms (  1.33ms)         3\n",
      "  nlp_hess_l  | 234.00ms (234.00ms) 234.09ms (234.09ms)         1\n",
      "   nlp_jac_g  | 218.00ms ( 72.67ms) 218.05ms ( 72.68ms)         3\n",
      "       total  | 469.00ms (469.00ms) 469.13ms (469.13ms)         1\n",
      "starting (time horizon) loop no.  14\n",
      "      solver  :   t_proc      (avg)   t_wall      (avg)    n_eval\n",
      "       nlp_f  |   2.00ms (  1.00ms)   2.01ms (  1.01ms)         2\n",
      "       nlp_g  |   8.00ms (  4.00ms)   7.98ms (  3.99ms)         2\n",
      "  nlp_grad_f  |   3.00ms (  1.00ms)   3.01ms (  1.00ms)         3\n",
      "  nlp_hess_l  | 244.00ms (244.00ms) 244.05ms (244.05ms)         1\n",
      "   nlp_jac_g  | 215.00ms ( 71.67ms) 214.05ms ( 71.35ms)         3\n",
      "       total  | 475.00ms (475.00ms) 474.11ms (474.11ms)         1\n",
      "starting (time horizon) loop no.  15\n",
      "      solver  :   t_proc      (avg)   t_wall      (avg)    n_eval\n",
      "       nlp_f  |   2.00ms (  1.00ms)   1.99ms (995.00us)         2\n",
      "       nlp_g  |  10.00ms (  5.00ms)  10.01ms (  5.01ms)         2\n",
      "  nlp_grad_f  |   4.00ms (  1.33ms)   4.00ms (  1.33ms)         3\n",
      "  nlp_hess_l  | 245.00ms (245.00ms) 245.07ms (245.07ms)         1\n",
      "   nlp_jac_g  | 216.00ms ( 72.00ms) 216.06ms ( 72.02ms)         3\n",
      "       total  | 482.00ms (482.00ms) 482.11ms (482.11ms)         1\n",
      "starting (time horizon) loop no.  16\n",
      "      solver  :   t_proc      (avg)   t_wall      (avg)    n_eval\n",
      "       nlp_f  |   1.00ms (500.00us)   1.01ms (507.00us)         2\n",
      "       nlp_g  |   8.00ms (  4.00ms)   7.98ms (  3.99ms)         2\n",
      "  nlp_grad_f  |   3.00ms (  1.00ms)   2.99ms (997.33us)         3\n",
      "  nlp_hess_l  | 244.00ms (244.00ms) 244.07ms (244.07ms)         1\n",
      "   nlp_jac_g  | 209.00ms ( 69.67ms) 209.04ms ( 69.68ms)         3\n",
      "       total  | 468.00ms (468.00ms) 468.10ms (468.10ms)         1\n",
      "starting (time horizon) loop no.  17\n",
      "      solver  :   t_proc      (avg)   t_wall      (avg)    n_eval\n",
      "       nlp_f  |   2.00ms (  1.00ms)   2.02ms (  1.01ms)         2\n",
      "       nlp_g  |   8.00ms (  4.00ms)   7.98ms (  3.99ms)         2\n",
      "  nlp_grad_f  |   3.00ms (  1.00ms)   3.01ms (  1.00ms)         3\n",
      "  nlp_hess_l  | 222.00ms (222.00ms) 222.07ms (222.07ms)         1\n",
      "   nlp_jac_g  | 204.00ms ( 68.00ms) 204.03ms ( 68.01ms)         3\n",
      "       total  | 443.00ms (443.00ms) 443.13ms (443.13ms)         1\n",
      "starting (time horizon) loop no.  18\n",
      "      solver  :   t_proc      (avg)   t_wall      (avg)    n_eval\n",
      "       nlp_f  |   2.00ms (  1.00ms)   2.00ms (998.00us)         2\n",
      "       nlp_g  |   9.00ms (  4.50ms)   9.00ms (  4.50ms)         2\n",
      "  nlp_grad_f  |   5.00ms (  1.67ms)   5.02ms (  1.67ms)         3\n",
      "  nlp_hess_l  | 222.00ms (222.00ms) 222.09ms (222.09ms)         1\n",
      "   nlp_jac_g  | 201.00ms ( 67.00ms) 201.03ms ( 67.01ms)         3\n",
      "       total  | 442.00ms (442.00ms) 442.10ms (442.10ms)         1\n",
      "starting (time horizon) loop no.  19\n",
      "      solver  :   t_proc      (avg)   t_wall      (avg)    n_eval\n",
      "       nlp_f  |   1.00ms (500.00us) 966.00us (483.00us)         2\n",
      "       nlp_g  |   9.00ms (  4.50ms)   9.04ms (  4.52ms)         2\n",
      "  nlp_grad_f  |   4.00ms (  1.33ms)   4.01ms (  1.34ms)         3\n",
      "  nlp_hess_l  | 231.00ms (231.00ms) 231.05ms (231.05ms)         1\n",
      "   nlp_jac_g  | 222.00ms ( 74.00ms) 221.50ms ( 73.83ms)         3\n",
      "       total  | 472.00ms (472.00ms) 471.56ms (471.56ms)         1\n",
      "starting (time horizon) loop no.  20\n",
      "      solver  :   t_proc      (avg)   t_wall      (avg)    n_eval\n",
      "       nlp_f  |   2.00ms (  1.00ms)   2.01ms (  1.01ms)         2\n",
      "       nlp_g  |   7.00ms (  3.50ms)   7.01ms (  3.51ms)         2\n",
      "  nlp_grad_f  |   4.00ms (  1.33ms)   4.01ms (  1.34ms)         3\n",
      "  nlp_hess_l  | 224.00ms (224.00ms) 224.05ms (224.05ms)         1\n",
      "   nlp_jac_g  | 201.00ms ( 67.00ms) 201.05ms ( 67.02ms)         3\n",
      "       total  | 444.00ms (444.00ms) 444.10ms (444.10ms)         1\n",
      "starting (time horizon) loop no.  21\n",
      "      solver  :   t_proc      (avg)   t_wall      (avg)    n_eval\n",
      "       nlp_f  |   2.00ms (  1.00ms)   2.02ms (  1.01ms)         2\n",
      "       nlp_g  |   8.00ms (  4.00ms)   7.98ms (  3.99ms)         2\n",
      "  nlp_grad_f  |   6.00ms (  2.00ms)   6.02ms (  2.01ms)         3\n",
      "  nlp_hess_l  | 243.00ms (243.00ms) 243.04ms (243.04ms)         1\n",
      "   nlp_jac_g  | 212.00ms ( 70.67ms) 212.06ms ( 70.69ms)         3\n",
      "       total  | 473.00ms (473.00ms) 473.13ms (473.13ms)         1\n",
      "starting (time horizon) loop no.  22\n",
      "      solver  :   t_proc      (avg)   t_wall      (avg)    n_eval\n",
      "       nlp_f  |   1.00ms (500.00us)   1.01ms (507.50us)         2\n",
      "       nlp_g  |   8.00ms (  4.00ms)   8.00ms (  4.00ms)         2\n",
      "  nlp_grad_f  |   8.00ms (  2.67ms)   7.99ms (  2.66ms)         3\n",
      "  nlp_hess_l  | 240.00ms (240.00ms) 240.05ms (240.05ms)         1\n",
      "   nlp_jac_g  | 215.00ms ( 71.67ms) 215.05ms ( 71.68ms)         3\n",
      "       total  | 476.00ms (476.00ms) 476.10ms (476.10ms)         1\n",
      "starting (time horizon) loop no.  23\n",
      "      solver  :   t_proc      (avg)   t_wall      (avg)    n_eval\n",
      "       nlp_f  |        0 (       0)        0 (       0)         2\n",
      "       nlp_g  |   9.00ms (  4.50ms)   9.00ms (  4.50ms)         2\n",
      "  nlp_grad_f  |   5.00ms (  1.67ms)   4.98ms (  1.66ms)         3\n",
      "  nlp_hess_l  | 241.00ms (241.00ms) 241.05ms (241.05ms)         1\n",
      "   nlp_jac_g  | 215.00ms ( 71.67ms) 215.05ms ( 71.68ms)         3\n",
      "       total  | 475.00ms (475.00ms) 475.11ms (475.11ms)         1\n",
      "starting (time horizon) loop no.  24\n",
      "      solver  :   t_proc      (avg)   t_wall      (avg)    n_eval\n",
      "       nlp_f  |   2.00ms (  1.00ms)   1.98ms (991.50us)         2\n",
      "       nlp_g  |   8.00ms (  4.00ms)   8.00ms (  4.00ms)         2\n",
      "  nlp_grad_f  |   5.00ms (  1.67ms)   5.02ms (  1.67ms)         3\n",
      "  nlp_hess_l  | 244.00ms (244.00ms) 244.06ms (244.06ms)         1\n",
      "   nlp_jac_g  | 210.00ms ( 70.00ms) 210.05ms ( 70.02ms)         3\n",
      "       total  | 473.00ms (473.00ms) 473.12ms (473.12ms)         1\n",
      "starting (time horizon) loop no.  25\n",
      "      solver  :   t_proc      (avg)   t_wall      (avg)    n_eval\n",
      "       nlp_f  |   4.00ms (  1.33ms)   3.99ms (  1.33ms)         3\n",
      "       nlp_g  |  13.00ms (  4.33ms)  13.00ms (  4.33ms)         3\n",
      "  nlp_grad_f  |   5.00ms (  1.67ms)   5.00ms (  1.67ms)         3\n",
      "  nlp_hess_l  | 252.00ms (252.00ms) 251.06ms (251.06ms)         1\n",
      "   nlp_jac_g  | 212.00ms ( 70.67ms) 212.04ms ( 70.68ms)         3\n",
      "       total  | 489.00ms (489.00ms) 488.12ms (488.12ms)         1\n",
      "starting (time horizon) loop no.  26\n",
      "      solver  :   t_proc      (avg)   t_wall      (avg)    n_eval\n",
      "       nlp_f  |   2.00ms (  1.00ms)   2.00ms (  1.00ms)         2\n",
      "       nlp_g  |   8.00ms (  4.00ms)   8.01ms (  4.01ms)         2\n",
      "  nlp_grad_f  |   7.00ms (  2.33ms)   7.03ms (  2.34ms)         3\n",
      "  nlp_hess_l  | 239.00ms (239.00ms) 239.04ms (239.04ms)         1\n",
      "   nlp_jac_g  | 212.00ms ( 70.67ms) 212.05ms ( 70.68ms)         3\n",
      "       total  | 472.00ms (472.00ms) 472.11ms (472.11ms)         1\n",
      "starting (time horizon) loop no.  27\n",
      "      solver  :   t_proc      (avg)   t_wall      (avg)    n_eval\n",
      "       nlp_f  |   2.00ms (  1.00ms)   1.98ms (992.00us)         2\n",
      "       nlp_g  |   9.00ms (  4.50ms)   9.02ms (  4.51ms)         2\n",
      "  nlp_grad_f  |   7.00ms (  2.33ms)   7.00ms (  2.33ms)         3\n",
      "  nlp_hess_l  | 229.00ms (229.00ms) 229.05ms (229.05ms)         1\n",
      "   nlp_jac_g  | 209.00ms ( 69.67ms) 209.07ms ( 69.69ms)         3\n",
      "       total  | 461.00ms (461.00ms) 461.13ms (461.13ms)         1\n",
      "starting (time horizon) loop no.  28\n",
      "      solver  :   t_proc      (avg)   t_wall      (avg)    n_eval\n",
      "       nlp_f  |   4.00ms (  2.00ms)   3.99ms (  1.99ms)         2\n",
      "       nlp_g  |  11.00ms (  5.50ms)  11.01ms (  5.51ms)         2\n",
      "  nlp_grad_f  |   7.00ms (  2.33ms)   7.00ms (  2.33ms)         3\n",
      "  nlp_hess_l  | 235.00ms (235.00ms) 235.05ms (235.05ms)         1\n",
      "   nlp_jac_g  | 223.00ms ( 74.33ms) 223.08ms ( 74.36ms)         3\n",
      "       total  | 483.00ms (483.00ms) 483.12ms (483.12ms)         1\n",
      "starting (time horizon) loop no.  29\n",
      "      solver  :   t_proc      (avg)   t_wall      (avg)    n_eval\n",
      "       nlp_f  |   2.00ms (  1.00ms)   2.01ms (  1.01ms)         2\n",
      "       nlp_g  |   9.00ms (  4.50ms)   8.98ms (  4.49ms)         2\n",
      "  nlp_grad_f  |   7.00ms (  2.33ms)   7.00ms (  2.33ms)         3\n",
      "  nlp_hess_l  | 227.00ms (227.00ms) 227.05ms (227.05ms)         1\n",
      "   nlp_jac_g  | 208.00ms ( 69.33ms) 208.04ms ( 69.35ms)         3\n",
      "       total  | 457.00ms (457.00ms) 457.08ms (457.08ms)         1\n",
      "starting (time horizon) loop no.  30\n",
      "      solver  :   t_proc      (avg)   t_wall      (avg)    n_eval\n",
      "       nlp_f  |   2.00ms (  1.00ms)   2.00ms (  1.00ms)         2\n",
      "       nlp_g  |   9.00ms (  4.50ms)   8.97ms (  4.49ms)         2\n",
      "  nlp_grad_f  |   8.00ms (  2.67ms)   7.99ms (  2.66ms)         3\n",
      "  nlp_hess_l  | 241.00ms (241.00ms) 241.05ms (241.05ms)         1\n",
      "   nlp_jac_g  | 217.00ms ( 72.33ms) 217.07ms ( 72.36ms)         3\n",
      "       total  | 480.00ms (480.00ms) 480.09ms (480.09ms)         1\n"
     ]
    }
   ],
   "source": [
    "xx, pp = MHE(P, r0, T, N, length_simulation, x, p, rhs_exp, meas, sigma,sigma2, W, ggn = False)"
   ]
  },
  {
   "cell_type": "code",
   "execution_count": 25,
   "id": "34271d53-a11e-4740-b2f1-597b02423e2a",
   "metadata": {},
   "outputs": [
    {
     "name": "stderr",
     "output_type": "stream",
     "text": [
      "MovieWriter Pillow unavailable; using Pillow instead.\n"
     ]
    },
    {
     "data": {
      "image/png": "[encoded data removed]",
      "text/plain": [
       "<Figure size 720x576 with 1 Axes>"
      ]
     },
     "metadata": {
      "needs_background": "light"
     },
     "output_type": "display_data"
    }
   ],
   "source": [
    "animate_pendulum('../plots/pendulum/mhe.gif',xx)"
   ]
  },
  {
   "cell_type": "code",
   "execution_count": 26,
   "id": "4690ca6f-a76a-447e-806f-69ec02bc0001",
   "metadata": {},
   "outputs": [
    {
     "data": {
      "text/plain": [
       "<matplotlib.legend.Legend at 0x1e282120cd0>"
      ]
     },
     "execution_count": 26,
     "metadata": {},
     "output_type": "execute_result"
    },
    {
     "data": {
      "image/png": "[encoded data removed]",
      "text/plain": [
       "<Figure size 720x576 with 1 Axes>"
      ]
     },
     "metadata": {
      "needs_background": "light"
     },
     "output_type": "display_data"
    }
   ],
   "source": [
    "plt.figure(figsize=(10,8))\n",
    "plt.title(\"Comparison of the simulations:\")\n",
    "plt.xlim(-1.,1.)\n",
    "plt.ylim(-1.3,1.3)\n",
    "\n",
    "ss = Res1 # true\n",
    "s = np.array(ss).flatten()\n",
    "ll = int(s.shape[0]/4)\n",
    "x3 = np.array([get_ball_x(s[4*i:4*(i+1)]) for i in range(ll)])\n",
    "y3 = np.array([get_ball_y(s[4*i:4*(i+1)]) for i in range(ll)])\n",
    "plt.plot(x3,y3,linestyle = 'dotted', label = \"true\")   \n",
    "\n",
    "ss = Res2 # true comp\n",
    "s = np.array(ss).flatten()\n",
    "ll = int(s.shape[0]/4)\n",
    "x3 = np.array([get_ball_x(s[4*i:4*(i+1)]) for i in range(ll)])\n",
    "y3 = np.array([get_ball_y(s[4*i:4*(i+1)]) for i in range(ll)])\n",
    "#plt.plot(x3,y3,linestyle = 'dotted', label = \"true comp\")   \n",
    "\n",
    "ss = meas1 # meas\n",
    "s = np.array(ss).flatten()\n",
    "ll = int(s.shape[0]/4)\n",
    "x3 = np.array([get_ball_x(s[4*i:4*(i+1)]) for i in range(ll)])\n",
    "y3 = np.array([get_ball_y(s[4*i:4*(i+1)]) for i in range(ll)])\n",
    "plt.plot(x3,y3, 'ro',label = \"measurements\")#, linestyle = 'dotted') \n",
    "\n",
    "ss = s_opt # open-loop\n",
    "s = np.array(ss).flatten()\n",
    "ll = int(s.shape[0]/4)\n",
    "x3 = np.array([get_ball_x(s[4*i:4*(i+1)]) for i in range(ll)])\n",
    "y3 = np.array([get_ball_y(s[4*i:4*(i+1)]) for i in range(ll)])\n",
    "plt.plot(x3,y3,marker = 'o', label = \"open-loop\", linestyle = 'dotted', ms = 3) \n",
    "\n",
    "ss = ss_opt # open-loop short\n",
    "s = np.array(ss).flatten()\n",
    "ll = int(s.shape[0]/4)\n",
    "x3 = np.array([get_ball_x(s[4*i:4*(i+1)]) for i in range(ll)])\n",
    "y3 = np.array([get_ball_y(s[4*i:4*(i+1)]) for i in range(ll)])\n",
    "#plt.plot(x3,y3,marker = 'o', label = \"open-loop short\", linestyle = 'dotted', ms = 3) \n",
    "\n",
    "ss = xx # mhe\n",
    "s = np.array(ss).flatten()\n",
    "ll = int(s.shape[0]/4)\n",
    "x3 = np.array([get_ball_x(s[4*i:4*(i+1)]) for i in range(ll)])\n",
    "y3 = np.array([get_ball_y(s[4*i:4*(i+1)]) for i in range(ll)])\n",
    "plt.plot(x3,y3,marker = 'o', label = \"mhe\", linestyle = 'dotted', ms = 3)   \n",
    "plt.legend()"
   ]
  },
  {
   "cell_type": "code",
   "execution_count": 27,
   "id": "8a33e5e0-1c61-4102-b90f-b68f8bf308b1",
   "metadata": {},
   "outputs": [],
   "source": [
    "def plot_widget(simulations): #, n):\n",
    "    plt.figure(figsize=(10,8))\n",
    "    plt.title(\"Comparison of the simulations:\")\n",
    "    plt.xlim(-1.,1.)\n",
    "    plt.ylim(-1.3,1.3)\n",
    "    \n",
    "    \n",
    "    if 'true' in simulations:\n",
    "        ss = Res1 # true\n",
    "        s = np.array(ss).flatten()\n",
    "        ll = int(s.shape[0]/4)\n",
    "        x3 = np.array([get_ball_x(s[4*i:4*(i+1)]) for i in range(ll)])\n",
    "        y3 = np.array([get_ball_y(s[4*i:4*(i+1)]) for i in range(ll)])\n",
    "        plt.plot(x3,y3,linestyle = 'dotted', label = \"true\")   \n",
    "\n",
    "        \n",
    "    if 'measured' in simulations:\n",
    "        ss = meas1 # meas\n",
    "        s = np.array(ss).flatten()\n",
    "        ll = int(s.shape[0]/4)\n",
    "        x3 = np.array([get_ball_x(s[4*i:4*(i+1)]) for i in range(ll)])\n",
    "        y3 = np.array([get_ball_y(s[4*i:4*(i+1)]) for i in range(ll)])\n",
    "        plt.plot(x3,y3, 'ro',label = \"measurements\", ms = 5)#, linestyle = 'dotted') \n",
    "        \n",
    "    if 'open-loop' in simulations:\n",
    "        ss = s_opt # open-loop\n",
    "        s = np.array(ss).flatten()\n",
    "        ll = int(s.shape[0]/4)\n",
    "        x3 = np.array([get_ball_x(s[4*i:4*(i+1)]) for i in range(ll)])\n",
    "        y3 = np.array([get_ball_y(s[4*i:4*(i+1)]) for i in range(ll)])\n",
    "        plt.plot(x3,y3,marker = 'o', label = \"open-loop\", linestyle = 'dotted', ms = 3) \n",
    "        \n",
    "    if 'open-loop short' in simulations:\n",
    "        ss = ss_opt # open-loop short\n",
    "        s = np.array(ss).flatten()\n",
    "        ll = int(s.shape[0]/4)\n",
    "        x3 = np.array([get_ball_x(s[4*i:4*(i+1)]) for i in range(ll)])\n",
    "        y3 = np.array([get_ball_y(s[4*i:4*(i+1)]) for i in range(ll)])\n",
    "        plt.plot(x3,y3,marker = 'o', label = \"open-loop short\", linestyle = 'dotted', ms = 3) \n",
    "        \n",
    "    if 'mhe' in simulations:\n",
    "        ss = xx # mhe\n",
    "        s = np.array(ss).flatten()\n",
    "        ll = int(s.shape[0]/4)\n",
    "        x3 = np.array([get_ball_x(s[4*i:4*(i+1)]) for i in range(ll)])\n",
    "        y3 = np.array([get_ball_y(s[4*i:4*(i+1)]) for i in range(ll)])\n",
    "        plt.plot(x3,y3,marker = 'o', label = \"mhe\", linestyle = 'dotted', ms = 3)  \n",
    "        \n",
    "    plt.legend()\n",
    "    plt.show()"
   ]
  },
  {
   "cell_type": "code",
   "execution_count": 28,
   "id": "bf5fbdae-7ded-4a16-9eaa-825458320400",
   "metadata": {},
   "outputs": [
    {
     "data": {
      "application/vnd.jupyter.widget-view+json": {
       "model_id": "97bdcf5ff97349f381a9da977e1f30ff",
       "version_major": 2,
       "version_minor": 0
      },
      "text/plain": [
       "interactive(children=(SelectMultiple(description='Simulations:', options=('true', 'measured', 'open-loop', 'op…"
      ]
     },
     "metadata": {},
     "output_type": "display_data"
    }
   ],
   "source": [
    "from ipywidgets import interact, interactive, fixed, interact_manual\n",
    "import ipywidgets as widgets\n",
    "#from animate_double import plot_widget\n",
    "\n",
    "\n",
    "interactive(plot_widget, simulations = widgets.SelectMultiple(\n",
    "    options=['true', 'measured', 'open-loop', 'open-loop short','mhe'],\n",
    "    rows = 5,\n",
    "    description='Simulations:',\n",
    "    disabled=False\n",
    "))"
   ]
  },
  {
   "cell_type": "code",
   "execution_count": 29,
   "id": "a7bed8ac-fa2d-487c-b76e-9de3ec8b5d10",
   "metadata": {},
   "outputs": [
    {
     "name": "stdout",
     "output_type": "stream",
     "text": [
      "[0.236431, 0.101451]\n",
      "[0.555456, 0.539205, 0.479552, 0.410542, 0.311178, 0.228045, 0.1539, 0.118211, 0.104726, 0.129267, 0.201661, 0.316748, 0.460294, 0.544359, 0.457511, 0.0859858, -0.370611, -0.655498, -0.916915, -1.16702, -1.31632, -1.30107, -1.1339, -0.749104, 0.562494, 0.80069, 0.551349, 0.344672, 0.236431, 0.101451]\n"
     ]
    }
   ],
   "source": [
    "print(pp[pp.shape[0]-2:])\n",
    "print(pp)\n",
    "#print(xx.shape)"
   ]
  },
  {
   "cell_type": "code",
   "execution_count": 30,
   "id": "ba7222fd-9a74-405f-825b-bbbd6e72782b",
   "metadata": {},
   "outputs": [
    {
     "name": "stdout",
     "output_type": "stream",
     "text": [
      "(30, 1)\n"
     ]
    },
    {
     "data": {
      "text/plain": [
       "<matplotlib.legend.Legend at 0x1e282abb250>"
      ]
     },
     "execution_count": 30,
     "metadata": {},
     "output_type": "execute_result"
    },
    {
     "data": {
      "image/png": "[encoded data removed]",
      "text/plain": [
       "<Figure size 720x360 with 1 Axes>"
      ]
     },
     "metadata": {
      "needs_background": "light"
     },
     "output_type": "display_data"
    }
   ],
   "source": [
    "p_plot1 = pp\n",
    "print(pp.shape)\n",
    "p_ref1 = p_true[0]*np.ones(p_plot1.size()[0])\n",
    "p_open_loop1 = p_opt[0]*np.ones(p_plot1.size()[0])\n",
    "\n",
    "x_ax = range(p_plot1.size()[0]) \n",
    "plt.figure(figsize=(10,5))\n",
    "plt.plot(x_ax,p_ref1, label = 'exact')\n",
    "plt.plot(x_ax, p_open_loop1, label = 'open-loop', linestyle='dotted')\n",
    "plt.plot(x_ax, p_plot1, label = 'mhe', linestyle='dotted')\n",
    "plt.title('Comparison of the estimation of parameter p during MHE')\n",
    "plt.xlim(0,p_plot1.size()[0])\n",
    "#plt.ylim(p_true[0]-0.3,p_true[0]+0.3) #plt.ylim(-0.4,0.1)\n",
    "plt.legend()"
   ]
  },
  {
   "cell_type": "code",
   "execution_count": 31,
   "id": "2a7e3ebb-bb56-42f1-922b-8c0bc0f53511",
   "metadata": {},
   "outputs": [
    {
     "data": {
      "text/plain": [
       "<matplotlib.legend.Legend at 0x1e282b64eb0>"
      ]
     },
     "execution_count": 31,
     "metadata": {},
     "output_type": "execute_result"
    },
    {
     "data": {
      "image/png": "[encoded data removed]",
      "text/plain": [
       "<Figure size 432x288 with 1 Axes>"
      ]
     },
     "metadata": {
      "needs_background": "light"
     },
     "output_type": "display_data"
    }
   ],
   "source": [
    "## relative error\n",
    "## for d1:\n",
    "rel_err1 = np.zeros(p_plot1.size()[0])\n",
    "for i in x_ax:\n",
    "    rel_err1[i]=np.abs(p_plot1[i]-p_ref1[i])/p_ref1[i]\n",
    "    #rel_err1.append(np.abs(p_plot1[i]-p_ref[i])/p_ref[i])\n",
    "#print(rel_err1)\n",
    "\n",
    "rel_err2 = np.zeros(p_plot1.size()[0])\n",
    "for i in x_ax:\n",
    "    rel_err2[i]=np.abs(p_open_loop1[i]-p_ref1[i])/p_ref1[i]\n",
    "    #rel_err1.append(np.abs(p_plot1[i]-p_ref[i])/p_ref[i])\n",
    "#print(rel_err2)\n",
    "\n",
    "plt.plot(x_ax, rel_err1, label='rel_err_mhe')\n",
    "plt.plot(x_ax, rel_err2, label = 'rel_err_open_loop')\n",
    "plt.yscale('log')\n",
    "plt.title('Relative error of the estimated parameter with mhe and open-loop')\n",
    "plt.legend()"
   ]
  },
  {
   "cell_type": "code",
   "execution_count": null,
   "id": "0a083882-3122-42f6-9f96-5228e0970135",
   "metadata": {},
   "outputs": [],
   "source": []
  },
  {
   "cell_type": "code",
   "execution_count": 32,
   "id": "6614bac8-4287-4009-ae77-8dc63e972942",
   "metadata": {},
   "outputs": [
    {
     "name": "stdout",
     "output_type": "stream",
     "text": [
      "(7, 4)\n"
     ]
    }
   ],
   "source": [
    "from casadi import *\n",
    "A = np.diag([1,0])\n",
    "A = MX(A)\n",
    "#print(A)\n",
    "x = MX.sym('x',2)\n",
    "Jexp = jacobian(A*x,x)\n",
    "J = Function('J',[x],[Jexp])\n",
    "Jexp2 = jacobian(A*x,x).T\n",
    "J2 = Function('J2',[x],[Jexp2])\n",
    "#print(J([1,2]))\n",
    "#print(J2([1,2]))\n",
    "n = 3\n",
    "m= 1\n",
    "z1 = np.zeros((n+m,n+m))\n",
    "z2 = np.zeros((n,n+m))\n",
    "c2 = np.concatenate((z1,z2))\n",
    "print(c2.shape)"
   ]
  },
  {
   "cell_type": "code",
   "execution_count": 33,
   "id": "3ff3c77b-27c2-4f40-8960-0bd650542225",
   "metadata": {},
   "outputs": [
    {
     "ename": "RuntimeError",
     "evalue": ".../casadi/core/mx.cpp:992: Assertion \"ne[i].size1()==ne[0].size1()\" failed:\nhorzcat dimension mismatch  x[1]:1x1 and x[0]: 4x1.",
     "output_type": "error",
     "traceback": [
      "\u001b[1;31m---------------------------------------------------------------------------\u001b[0m",
      "\u001b[1;31mRuntimeError\u001b[0m                              Traceback (most recent call last)",
      "\u001b[1;32m~\\AppData\\Local\\Temp/ipykernel_4396/1842755009.py\u001b[0m in \u001b[0;36m<module>\u001b[1;34m\u001b[0m\n\u001b[0;32m      4\u001b[0m \u001b[0mx\u001b[0m\u001b[1;33m=\u001b[0m \u001b[0mMX\u001b[0m\u001b[1;33m.\u001b[0m\u001b[0msym\u001b[0m\u001b[1;33m(\u001b[0m\u001b[1;34m'x'\u001b[0m\u001b[1;33m,\u001b[0m\u001b[1;36m4\u001b[0m\u001b[1;33m)\u001b[0m\u001b[1;33m\u001b[0m\u001b[1;33m\u001b[0m\u001b[0m\n\u001b[0;32m      5\u001b[0m \u001b[0mvertcat\u001b[0m\u001b[1;33m(\u001b[0m\u001b[0mx\u001b[0m\u001b[1;33m,\u001b[0m\u001b[1;36m0\u001b[0m\u001b[1;33m)\u001b[0m\u001b[1;33m\u001b[0m\u001b[1;33m\u001b[0m\u001b[0m\n\u001b[1;32m----> 6\u001b[1;33m \u001b[0mhorzcat\u001b[0m\u001b[1;33m(\u001b[0m\u001b[0mx\u001b[0m\u001b[1;33m,\u001b[0m\u001b[1;36m0\u001b[0m\u001b[1;33m)\u001b[0m\u001b[1;33m\u001b[0m\u001b[1;33m\u001b[0m\u001b[0m\n\u001b[0m",
      "\u001b[1;32m~\\.conda\\envs\\node2\\lib\\site-packages\\casadi\\casadi.py\u001b[0m in \u001b[0;36mhorzcat\u001b[1;34m(*args)\u001b[0m\n\u001b[0;32m    465\u001b[0m \u001b[1;32mdef\u001b[0m \u001b[0mveccat\u001b[0m\u001b[1;33m(\u001b[0m\u001b[1;33m*\u001b[0m\u001b[0margs\u001b[0m\u001b[1;33m)\u001b[0m\u001b[1;33m:\u001b[0m \u001b[1;32mreturn\u001b[0m \u001b[0m_veccat\u001b[0m\u001b[1;33m(\u001b[0m\u001b[0margs\u001b[0m\u001b[1;33m)\u001b[0m\u001b[1;33m\u001b[0m\u001b[1;33m\u001b[0m\u001b[0m\n\u001b[0;32m    466\u001b[0m \u001b[1;32mdef\u001b[0m \u001b[0mvertcat\u001b[0m\u001b[1;33m(\u001b[0m\u001b[1;33m*\u001b[0m\u001b[0margs\u001b[0m\u001b[1;33m)\u001b[0m\u001b[1;33m:\u001b[0m \u001b[1;32mreturn\u001b[0m \u001b[0m_vertcat\u001b[0m\u001b[1;33m(\u001b[0m\u001b[0margs\u001b[0m\u001b[1;33m)\u001b[0m\u001b[1;33m\u001b[0m\u001b[1;33m\u001b[0m\u001b[0m\n\u001b[1;32m--> 467\u001b[1;33m \u001b[1;32mdef\u001b[0m \u001b[0mhorzcat\u001b[0m\u001b[1;33m(\u001b[0m\u001b[1;33m*\u001b[0m\u001b[0margs\u001b[0m\u001b[1;33m)\u001b[0m\u001b[1;33m:\u001b[0m \u001b[1;32mreturn\u001b[0m \u001b[0m_horzcat\u001b[0m\u001b[1;33m(\u001b[0m\u001b[0margs\u001b[0m\u001b[1;33m)\u001b[0m\u001b[1;33m\u001b[0m\u001b[1;33m\u001b[0m\u001b[0m\n\u001b[0m\u001b[0;32m    468\u001b[0m \u001b[1;32mdef\u001b[0m \u001b[0mdiagcat\u001b[0m\u001b[1;33m(\u001b[0m\u001b[1;33m*\u001b[0m\u001b[0margs\u001b[0m\u001b[1;33m)\u001b[0m\u001b[1;33m:\u001b[0m \u001b[1;32mreturn\u001b[0m \u001b[0m_diagcat\u001b[0m\u001b[1;33m(\u001b[0m\u001b[0margs\u001b[0m\u001b[1;33m)\u001b[0m\u001b[1;33m\u001b[0m\u001b[1;33m\u001b[0m\u001b[0m\n\u001b[0;32m    469\u001b[0m \u001b[1;32mdef\u001b[0m \u001b[0mvvcat\u001b[0m\u001b[1;33m(\u001b[0m\u001b[0margs\u001b[0m\u001b[1;33m)\u001b[0m\u001b[1;33m:\u001b[0m \u001b[1;32mreturn\u001b[0m \u001b[0m_veccat\u001b[0m\u001b[1;33m(\u001b[0m\u001b[0margs\u001b[0m\u001b[1;33m)\u001b[0m\u001b[1;33m\u001b[0m\u001b[1;33m\u001b[0m\u001b[0m\n",
      "\u001b[1;32m~\\.conda\\envs\\node2\\lib\\site-packages\\casadi\\casadi.py\u001b[0m in \u001b[0;36m_horzcat\u001b[1;34m(*args)\u001b[0m\n\u001b[0;32m  20188\u001b[0m \u001b[1;33m\u001b[0m\u001b[0m\n\u001b[0;32m  20189\u001b[0m     \"\"\"\n\u001b[1;32m> 20190\u001b[1;33m     \u001b[1;32mreturn\u001b[0m \u001b[0m_casadi\u001b[0m\u001b[1;33m.\u001b[0m\u001b[0m_horzcat\u001b[0m\u001b[1;33m(\u001b[0m\u001b[1;33m*\u001b[0m\u001b[0margs\u001b[0m\u001b[1;33m)\u001b[0m\u001b[1;33m\u001b[0m\u001b[1;33m\u001b[0m\u001b[0m\n\u001b[0m\u001b[0;32m  20191\u001b[0m \u001b[1;33m\u001b[0m\u001b[0m\n\u001b[0;32m  20192\u001b[0m \u001b[1;32mdef\u001b[0m \u001b[0m_vertcat\u001b[0m\u001b[1;33m(\u001b[0m\u001b[1;33m*\u001b[0m\u001b[0margs\u001b[0m\u001b[1;33m)\u001b[0m\u001b[1;33m:\u001b[0m\u001b[1;33m\u001b[0m\u001b[1;33m\u001b[0m\u001b[0m\n",
      "\u001b[1;31mRuntimeError\u001b[0m: .../casadi/core/mx.cpp:992: Assertion \"ne[i].size1()==ne[0].size1()\" failed:\nhorzcat dimension mismatch  x[1]:1x1 and x[0]: 4x1."
     ]
    }
   ],
   "source": [
    "b_row2 = np.concatenate((np.zeros(n),np.ones(m)))\n",
    "#print(b_row2.shape)\n",
    "np.reshape(b_row2,(1,m+n)).shape\n",
    "x= MX.sym('x',4)\n",
    "vertcat(x,0)\n",
    "horzcat(x,0)"
   ]
  },
  {
   "cell_type": "code",
   "execution_count": null,
   "id": "b6ad6e57-22b9-4c0d-9e58-bf081996d4c0",
   "metadata": {},
   "outputs": [],
   "source": []
  },
  {
   "cell_type": "code",
   "execution_count": null,
   "id": "1d844927-d647-4a37-9d9d-153469e8da16",
   "metadata": {},
   "outputs": [],
   "source": []
  }
 ],
 "metadata": {
  "kernelspec": {
   "display_name": "Python 3 (ipykernel)",
   "language": "python",
   "name": "python3"
  },
  "language_info": {
   "codemirror_mode": {
    "name": "ipython",
    "version": 3
   },
   "file_extension": ".py",
   "mimetype": "text/x-python",
   "name": "python",
   "nbconvert_exporter": "python",
   "pygments_lexer": "ipython3",
   "version": "3.9.7"
  }
 },
 "nbformat": 4,
 "nbformat_minor": 5
}
